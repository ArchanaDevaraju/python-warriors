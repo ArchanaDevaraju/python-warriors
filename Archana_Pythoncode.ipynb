{
 "cells": [
  {
   "cell_type": "code",
   "execution_count": 1,
   "metadata": {},
   "outputs": [],
   "source": [
    "import numpy as np\n",
    "import pandas as pd\n",
    "import matplotlib.pyplot as plt\n",
    "import seaborn as sns"
   ]
  },
  {
   "cell_type": "code",
   "execution_count": 2,
   "metadata": {},
   "outputs": [],
   "source": [
    "#Defining all dataframes\n",
    "df_PA = pd.read_excel(\"HospitalDatabase.xlsx\", sheet_name = \"Patients\")\n",
    "df_EDV = pd.read_excel(\"HospitalDatabase.xlsx\", sheet_name = \"EDVisits\")\n",
    "df_AV = pd.read_excel(\"HospitalDatabase.xlsx\", sheet_name = \"AmbulatoryVisits\")\n",
    "df_RR = pd.read_excel(\"HospitalDatabase.xlsx\", sheet_name = \"ReAdmissionRegistry\")\n",
    "df_D = pd.read_excel(\"HospitalDatabase.xlsx\", sheet_name = \"Discharges\")\n",
    "df_P = pd.read_excel(\"HospitalDatabase.xlsx\", sheet_name = \"Providers\")\n",
    "df_EDU = pd.read_excel(\"HospitalDatabase.xlsx\", sheet_name = \"EDUnique\")"
   ]
  },
  {
   "cell_type": "markdown",
   "metadata": {},
   "source": [
    "Q4. Display data by splitting age in 4 quartiles and labeling the quartiles."
   ]
  },
  {
   "cell_type": "code",
   "execution_count": 3,
   "metadata": {},
   "outputs": [
    {
     "data": {
      "text/html": [
       "<div>\n",
       "<style scoped>\n",
       "    .dataframe tbody tr th:only-of-type {\n",
       "        vertical-align: middle;\n",
       "    }\n",
       "\n",
       "    .dataframe tbody tr th {\n",
       "        vertical-align: top;\n",
       "    }\n",
       "\n",
       "    .dataframe thead th {\n",
       "        text-align: right;\n",
       "    }\n",
       "</style>\n",
       "<table border=\"1\" class=\"dataframe\">\n",
       "  <thead>\n",
       "    <tr style=\"text-align: right;\">\n",
       "      <th></th>\n",
       "      <th>DateOfBirth</th>\n",
       "      <th>Age</th>\n",
       "    </tr>\n",
       "  </thead>\n",
       "  <tbody>\n",
       "    <tr>\n",
       "      <th>0</th>\n",
       "      <td>1960-01-01 00:00:00.000000</td>\n",
       "      <td>62</td>\n",
       "    </tr>\n",
       "    <tr>\n",
       "      <th>1</th>\n",
       "      <td>1985-11-15 02:08:42.089852</td>\n",
       "      <td>36</td>\n",
       "    </tr>\n",
       "    <tr>\n",
       "      <th>2</th>\n",
       "      <td>1976-04-15 02:52:09.762384</td>\n",
       "      <td>46</td>\n",
       "    </tr>\n",
       "    <tr>\n",
       "      <th>3</th>\n",
       "      <td>1968-10-15 03:32:13.634776</td>\n",
       "      <td>53</td>\n",
       "    </tr>\n",
       "    <tr>\n",
       "      <th>4</th>\n",
       "      <td>1962-05-01 19:12:58.949547</td>\n",
       "      <td>60</td>\n",
       "    </tr>\n",
       "    <tr>\n",
       "      <th>...</th>\n",
       "      <td>...</td>\n",
       "      <td>...</td>\n",
       "    </tr>\n",
       "    <tr>\n",
       "      <th>940</th>\n",
       "      <td>1986-05-26 00:01:19.761035</td>\n",
       "      <td>36</td>\n",
       "    </tr>\n",
       "    <tr>\n",
       "      <th>941</th>\n",
       "      <td>1970-06-10 21:41:03.814278</td>\n",
       "      <td>52</td>\n",
       "    </tr>\n",
       "    <tr>\n",
       "      <th>942</th>\n",
       "      <td>1983-01-08 21:49:27.883969</td>\n",
       "      <td>39</td>\n",
       "    </tr>\n",
       "    <tr>\n",
       "      <th>943</th>\n",
       "      <td>1963-06-05 07:57:05.569185</td>\n",
       "      <td>59</td>\n",
       "    </tr>\n",
       "    <tr>\n",
       "      <th>944</th>\n",
       "      <td>1972-08-06 03:40:03.454345</td>\n",
       "      <td>50</td>\n",
       "    </tr>\n",
       "  </tbody>\n",
       "</table>\n",
       "<p>945 rows × 2 columns</p>\n",
       "</div>"
      ],
      "text/plain": [
       "                   DateOfBirth  Age\n",
       "0   1960-01-01 00:00:00.000000   62\n",
       "1   1985-11-15 02:08:42.089852   36\n",
       "2   1976-04-15 02:52:09.762384   46\n",
       "3   1968-10-15 03:32:13.634776   53\n",
       "4   1962-05-01 19:12:58.949547   60\n",
       "..                         ...  ...\n",
       "940 1986-05-26 00:01:19.761035   36\n",
       "941 1970-06-10 21:41:03.814278   52\n",
       "942 1983-01-08 21:49:27.883969   39\n",
       "943 1963-06-05 07:57:05.569185   59\n",
       "944 1972-08-06 03:40:03.454345   50\n",
       "\n",
       "[945 rows x 2 columns]"
      ]
     },
     "execution_count": 3,
     "metadata": {},
     "output_type": "execute_result"
    }
   ],
   "source": [
    "from datetime import date\n",
    "#calculate the dates difference to get the age\n",
    "df = pd.DataFrame(data = df_PA[\"DateOfBirth\"])\n",
    "def age(birthdate):\n",
    "    today = date.today()\n",
    "    return today.year - birthdate.year - ((today.month, today.day) < (birthdate.month, birthdate.day))\n",
    "  \n",
    "df['Age'] = df['DateOfBirth'].apply(age)\n",
    "df"
   ]
  },
  {
   "cell_type": "code",
   "execution_count": 4,
   "metadata": {},
   "outputs": [
    {
     "data": {
      "image/png": "[encoded data removed]",
      "text/plain": [
       "<Figure size 576x432 with 1 Axes>"
      ]
     },
     "metadata": {
      "needs_background": "light"
     },
     "output_type": "display_data"
    }
   ],
   "source": [
    "fig = plt.figure(1, figsize=(8, 6))\n",
    "ax = fig.add_subplot(111)\n",
    "\n",
    "ax.boxplot(df[\"Age\"], vert=False, manage_ticks=True)\n",
    "ax.set_xlabel('value')\n",
    "ax.set_xticks([15])\n",
    "\n",
    "ax.set_yticks([1])\n",
    "ax.set_yticklabels(['category'])\n",
    "\n",
    "quantiles = np.quantile(df[\"Age\"],[0,0.25,0.5,0.75,1])\n",
    "ax.vlines(quantiles, [0] * quantiles.size, [1] * quantiles.size, label = 'quantiles',\n",
    "          color='b', ls=':', lw=0.5, zorder=0)\n",
    "ax.set_ylim(0.5, 1.5)\n",
    "ax.set_xticks(quantiles)\n",
    "plt.show()"
   ]
  },
  {
   "cell_type": "markdown",
   "metadata": {},
   "source": [
    "Q5. Display full name of patients who are born in 1986."
   ]
  },
  {
   "cell_type": "code",
   "execution_count": 5,
   "metadata": {},
   "outputs": [
    {
     "data": {
      "text/html": [
       "<div>\n",
       "<style scoped>\n",
       "    .dataframe tbody tr th:only-of-type {\n",
       "        vertical-align: middle;\n",
       "    }\n",
       "\n",
       "    .dataframe tbody tr th {\n",
       "        vertical-align: top;\n",
       "    }\n",
       "\n",
       "    .dataframe thead th {\n",
       "        text-align: right;\n",
       "    }\n",
       "</style>\n",
       "<table border=\"1\" class=\"dataframe\">\n",
       "  <thead>\n",
       "    <tr style=\"text-align: right;\">\n",
       "      <th></th>\n",
       "      <th>FirstName</th>\n",
       "      <th>LastName</th>\n",
       "    </tr>\n",
       "    <tr>\n",
       "      <th>DateOfBirth</th>\n",
       "      <th></th>\n",
       "      <th></th>\n",
       "    </tr>\n",
       "  </thead>\n",
       "  <tbody>\n",
       "    <tr>\n",
       "      <th>1986-05-31 09:36:05.715918</th>\n",
       "      <td>Gabriel</td>\n",
       "      <td>Joseph</td>\n",
       "    </tr>\n",
       "    <tr>\n",
       "      <th>1986-07-24 17:36:00.791027</th>\n",
       "      <td>Lincoln</td>\n",
       "      <td>Brenda</td>\n",
       "    </tr>\n",
       "    <tr>\n",
       "      <th>1986-11-26 10:44:22.627622</th>\n",
       "      <td>Ala</td>\n",
       "      <td>Halpert</td>\n",
       "    </tr>\n",
       "    <tr>\n",
       "      <th>1986-01-08 02:34:04.595766</th>\n",
       "      <td>Lolita</td>\n",
       "      <td>Darci</td>\n",
       "    </tr>\n",
       "    <tr>\n",
       "      <th>1986-05-29 00:35:58.693977</th>\n",
       "      <td>Fadel</td>\n",
       "      <td>Bernardt</td>\n",
       "    </tr>\n",
       "    <tr>\n",
       "      <th>1986-02-11 06:22:40.733949</th>\n",
       "      <td>Bentley</td>\n",
       "      <td>Kippax</td>\n",
       "    </tr>\n",
       "    <tr>\n",
       "      <th>1986-04-15 00:49:58.689775</th>\n",
       "      <td>Vale</td>\n",
       "      <td>Olanda</td>\n",
       "    </tr>\n",
       "    <tr>\n",
       "      <th>1986-11-19 23:50:47.954773</th>\n",
       "      <td>Britt</td>\n",
       "      <td>Dureden</td>\n",
       "    </tr>\n",
       "    <tr>\n",
       "      <th>1986-07-10 16:27:30.640009</th>\n",
       "      <td>Cristabel</td>\n",
       "      <td>Chatel</td>\n",
       "    </tr>\n",
       "    <tr>\n",
       "      <th>1986-03-26 06:37:22.524858</th>\n",
       "      <td>Constantia</td>\n",
       "      <td>Group</td>\n",
       "    </tr>\n",
       "    <tr>\n",
       "      <th>1986-12-19 21:34:24.471963</th>\n",
       "      <td>Morgan</td>\n",
       "      <td>Scrowston</td>\n",
       "    </tr>\n",
       "    <tr>\n",
       "      <th>1986-07-26 14:43:49.240196</th>\n",
       "      <td>Dom</td>\n",
       "      <td>Baglow</td>\n",
       "    </tr>\n",
       "    <tr>\n",
       "      <th>1986-12-25 03:40:43.883965</th>\n",
       "      <td>Ignazio</td>\n",
       "      <td>Melling</td>\n",
       "    </tr>\n",
       "    <tr>\n",
       "      <th>1986-02-24 15:08:30.403900</th>\n",
       "      <td>Homenick</td>\n",
       "      <td>Rings</td>\n",
       "    </tr>\n",
       "    <tr>\n",
       "      <th>1986-10-13 10:40:43.596111</th>\n",
       "      <td>Hashim</td>\n",
       "      <td>Slark</td>\n",
       "    </tr>\n",
       "    <tr>\n",
       "      <th>1986-05-21 16:35:52.711107</th>\n",
       "      <td>Ellie</td>\n",
       "      <td>Ramsbotham</td>\n",
       "    </tr>\n",
       "    <tr>\n",
       "      <th>1986-11-09 17:15:11.196053</th>\n",
       "      <td>Llewellyn</td>\n",
       "      <td>Group</td>\n",
       "    </tr>\n",
       "    <tr>\n",
       "      <th>1986-12-15 06:31:44.357626</th>\n",
       "      <td>Niles</td>\n",
       "      <td>Shaw</td>\n",
       "    </tr>\n",
       "    <tr>\n",
       "      <th>1986-11-23 02:32:12.587272</th>\n",
       "      <td>Yvette</td>\n",
       "      <td>Inc</td>\n",
       "    </tr>\n",
       "    <tr>\n",
       "      <th>1986-04-28 03:25:01.181816</th>\n",
       "      <td>Siouxie</td>\n",
       "      <td>Group</td>\n",
       "    </tr>\n",
       "    <tr>\n",
       "      <th>1986-11-21 02:44:49.631755</th>\n",
       "      <td>Carly</td>\n",
       "      <td>Group</td>\n",
       "    </tr>\n",
       "    <tr>\n",
       "      <th>1986-12-22 08:21:02.690580</th>\n",
       "      <td>Worth</td>\n",
       "      <td>Pickering</td>\n",
       "    </tr>\n",
       "    <tr>\n",
       "      <th>1986-04-10 13:18:15.353947</th>\n",
       "      <td>Arni</td>\n",
       "      <td>Baldack</td>\n",
       "    </tr>\n",
       "    <tr>\n",
       "      <th>1986-05-23 19:23:27.751803</th>\n",
       "      <td>Kuvalis</td>\n",
       "      <td>Coupland</td>\n",
       "    </tr>\n",
       "    <tr>\n",
       "      <th>1986-09-29 11:58:56.982679</th>\n",
       "      <td>Rebbecca</td>\n",
       "      <td>Rollingson</td>\n",
       "    </tr>\n",
       "    <tr>\n",
       "      <th>1986-05-26 00:01:19.761035</th>\n",
       "      <td>Wat</td>\n",
       "      <td>Fideler</td>\n",
       "    </tr>\n",
       "  </tbody>\n",
       "</table>\n",
       "</div>"
      ],
      "text/plain": [
       "                             FirstName    LastName\n",
       "DateOfBirth                                       \n",
       "1986-05-31 09:36:05.715918    Gabriel       Joseph\n",
       "1986-07-24 17:36:00.791027    Lincoln       Brenda\n",
       "1986-11-26 10:44:22.627622         Ala     Halpert\n",
       "1986-01-08 02:34:04.595766      Lolita       Darci\n",
       "1986-05-29 00:35:58.693977       Fadel    Bernardt\n",
       "1986-02-11 06:22:40.733949     Bentley      Kippax\n",
       "1986-04-15 00:49:58.689775        Vale      Olanda\n",
       "1986-11-19 23:50:47.954773       Britt     Dureden\n",
       "1986-07-10 16:27:30.640009   Cristabel      Chatel\n",
       "1986-03-26 06:37:22.524858  Constantia       Group\n",
       "1986-12-19 21:34:24.471963      Morgan   Scrowston\n",
       "1986-07-26 14:43:49.240196         Dom      Baglow\n",
       "1986-12-25 03:40:43.883965     Ignazio     Melling\n",
       "1986-02-24 15:08:30.403900    Homenick       Rings\n",
       "1986-10-13 10:40:43.596111      Hashim       Slark\n",
       "1986-05-21 16:35:52.711107       Ellie  Ramsbotham\n",
       "1986-11-09 17:15:11.196053   Llewellyn       Group\n",
       "1986-12-15 06:31:44.357626       Niles        Shaw\n",
       "1986-11-23 02:32:12.587272      Yvette         Inc\n",
       "1986-04-28 03:25:01.181816     Siouxie       Group\n",
       "1986-11-21 02:44:49.631755       Carly       Group\n",
       "1986-12-22 08:21:02.690580       Worth   Pickering\n",
       "1986-04-10 13:18:15.353947        Arni     Baldack\n",
       "1986-05-23 19:23:27.751803     Kuvalis    Coupland\n",
       "1986-09-29 11:58:56.982679    Rebbecca  Rollingson\n",
       "1986-05-26 00:01:19.761035         Wat     Fideler"
      ]
     },
     "execution_count": 5,
     "metadata": {},
     "output_type": "execute_result"
    }
   ],
   "source": [
    "df_temp = df_PA.set_index([\"DateOfBirth\"])\n",
    "df1 = df_temp.loc[\"1986\"]\n",
    "df1[[\"FirstName\", \"LastName\"]]"
   ]
  },
  {
   "cell_type": "markdown",
   "metadata": {},
   "source": [
    "Q6. Create a jointplot on expected mortality & expected length of stay."
   ]
  },
  {
   "cell_type": "code",
   "execution_count": 6,
   "metadata": {},
   "outputs": [
    {
     "data": {
      "text/plain": [
       "<seaborn.axisgrid.JointGrid at 0x7f9b18c63d30>"
      ]
     },
     "execution_count": 6,
     "metadata": {},
     "output_type": "execute_result"
    },
    {
     "data": {
      "image/png": "[encoded data removed]",
      "text/plain": [
       "<Figure size 504x504 with 3 Axes>"
      ]
     },
     "metadata": {
      "needs_background": "light"
     },
     "output_type": "display_data"
    }
   ],
   "source": [
    "sns.jointplot(data=df_RR, x='ExpectedMortality',y='ExpectedLOS', kind =\"kde\", height = 7, ratio = 2)"
   ]
  },
  {
   "cell_type": "markdown",
   "metadata": {},
   "source": [
    "Q16. Plot a graph to show the distribution of expected length of stay."
   ]
  },
  {
   "cell_type": "code",
   "execution_count": 7,
   "metadata": {},
   "outputs": [
    {
     "data": {
      "text/plain": [
       "<AxesSubplot:xlabel='ExpectedLOS'>"
      ]
     },
     "execution_count": 7,
     "metadata": {},
     "output_type": "execute_result"
    },
    {
     "data": {
      "image/png": "[encoded data removed]",
      "text/plain": [
       "<Figure size 432x288 with 1 Axes>"
      ]
     },
     "metadata": {},
     "output_type": "display_data"
    }
   ],
   "source": [
    "sns.set_style('whitegrid')\n",
    "sns.distplot(df_RR['ExpectedLOS'],kde=False, color='green', bins=15)"
   ]
  },
  {
   "cell_type": "markdown",
   "metadata": {},
   "source": [
    "distribution shows the maximum occurances is between 4 to 5 and then 10 to 11."
   ]
  },
  {
   "cell_type": "markdown",
   "metadata": {},
   "source": [
    "Q17. Create a heat map to show the correlation between the column values of Edvisits."
   ]
  },
  {
   "cell_type": "code",
   "execution_count": 8,
   "metadata": {},
   "outputs": [
    {
     "data": {
      "text/html": [
       "<div>\n",
       "<style scoped>\n",
       "    .dataframe tbody tr th:only-of-type {\n",
       "        vertical-align: middle;\n",
       "    }\n",
       "\n",
       "    .dataframe tbody tr th {\n",
       "        vertical-align: top;\n",
       "    }\n",
       "\n",
       "    .dataframe thead th {\n",
       "        text-align: right;\n",
       "    }\n",
       "</style>\n",
       "<table border=\"1\" class=\"dataframe\">\n",
       "  <thead>\n",
       "    <tr style=\"text-align: right;\">\n",
       "      <th></th>\n",
       "      <th>EDVisitID</th>\n",
       "      <th>PatientID</th>\n",
       "      <th>Acuity</th>\n",
       "    </tr>\n",
       "  </thead>\n",
       "  <tbody>\n",
       "    <tr>\n",
       "      <th>EDVisitID</th>\n",
       "      <td>1.000000</td>\n",
       "      <td>0.975477</td>\n",
       "      <td>0.005813</td>\n",
       "    </tr>\n",
       "    <tr>\n",
       "      <th>PatientID</th>\n",
       "      <td>0.975477</td>\n",
       "      <td>1.000000</td>\n",
       "      <td>0.003545</td>\n",
       "    </tr>\n",
       "    <tr>\n",
       "      <th>Acuity</th>\n",
       "      <td>0.005813</td>\n",
       "      <td>0.003545</td>\n",
       "      <td>1.000000</td>\n",
       "    </tr>\n",
       "  </tbody>\n",
       "</table>\n",
       "</div>"
      ],
      "text/plain": [
       "           EDVisitID  PatientID    Acuity\n",
       "EDVisitID   1.000000   0.975477  0.005813\n",
       "PatientID   0.975477   1.000000  0.003545\n",
       "Acuity      0.005813   0.003545  1.000000"
      ]
     },
     "execution_count": 8,
     "metadata": {},
     "output_type": "execute_result"
    }
   ],
   "source": [
    "tc=df_EDV.corr(method='pearson')\n",
    "tc"
   ]
  },
  {
   "cell_type": "code",
   "execution_count": 9,
   "metadata": {},
   "outputs": [
    {
     "data": {
      "text/plain": [
       "<AxesSubplot:>"
      ]
     },
     "execution_count": 9,
     "metadata": {},
     "output_type": "execute_result"
    },
    {
     "data": {
      "image/png": "[encoded data removed]",
      "text/plain": [
       "<Figure size 432x288 with 2 Axes>"
      ]
     },
     "metadata": {},
     "output_type": "display_data"
    }
   ],
   "source": [
    "sns.heatmap(tc,annot=True,vmin=0, vmax=1, cmap=\"YlGnBu\", linewidths=.5)"
   ]
  },
  {
   "cell_type": "markdown",
   "metadata": {},
   "source": [
    "Q18. Add column 'Age' in Patient table."
   ]
  },
  {
   "cell_type": "code",
   "execution_count": 10,
   "metadata": {},
   "outputs": [
    {
     "data": {
      "text/html": [
       "<div>\n",
       "<style scoped>\n",
       "    .dataframe tbody tr th:only-of-type {\n",
       "        vertical-align: middle;\n",
       "    }\n",
       "\n",
       "    .dataframe tbody tr th {\n",
       "        vertical-align: top;\n",
       "    }\n",
       "\n",
       "    .dataframe thead th {\n",
       "        text-align: right;\n",
       "    }\n",
       "</style>\n",
       "<table border=\"1\" class=\"dataframe\">\n",
       "  <thead>\n",
       "    <tr style=\"text-align: right;\">\n",
       "      <th></th>\n",
       "      <th>PatientID</th>\n",
       "      <th>FirstName</th>\n",
       "      <th>LastName</th>\n",
       "      <th>DateOfBirth</th>\n",
       "      <th>Gender</th>\n",
       "      <th>Race</th>\n",
       "      <th>Language</th>\n",
       "      <th>Age</th>\n",
       "    </tr>\n",
       "  </thead>\n",
       "  <tbody>\n",
       "    <tr>\n",
       "      <th>0</th>\n",
       "      <td>1</td>\n",
       "      <td>Lanni</td>\n",
       "      <td>Sue</td>\n",
       "      <td>1960-01-01 00:00:00.000000</td>\n",
       "      <td>Male</td>\n",
       "      <td>White</td>\n",
       "      <td>English</td>\n",
       "      <td>62</td>\n",
       "    </tr>\n",
       "    <tr>\n",
       "      <th>1</th>\n",
       "      <td>2</td>\n",
       "      <td>Far</td>\n",
       "      <td>Myers</td>\n",
       "      <td>1985-11-15 02:08:42.089852</td>\n",
       "      <td>Male</td>\n",
       "      <td>White</td>\n",
       "      <td>English</td>\n",
       "      <td>36</td>\n",
       "    </tr>\n",
       "    <tr>\n",
       "      <th>2</th>\n",
       "      <td>3</td>\n",
       "      <td>Devlin</td>\n",
       "      <td>Michael</td>\n",
       "      <td>1976-04-15 02:52:09.762384</td>\n",
       "      <td>Male</td>\n",
       "      <td>White</td>\n",
       "      <td>English</td>\n",
       "      <td>46</td>\n",
       "    </tr>\n",
       "    <tr>\n",
       "      <th>3</th>\n",
       "      <td>4</td>\n",
       "      <td>Carmine</td>\n",
       "      <td>Texas</td>\n",
       "      <td>1968-10-15 03:32:13.634776</td>\n",
       "      <td>Male</td>\n",
       "      <td>White</td>\n",
       "      <td>English</td>\n",
       "      <td>53</td>\n",
       "    </tr>\n",
       "    <tr>\n",
       "      <th>4</th>\n",
       "      <td>5</td>\n",
       "      <td>Tann</td>\n",
       "      <td>Bama</td>\n",
       "      <td>1962-05-01 19:12:58.949547</td>\n",
       "      <td>Male</td>\n",
       "      <td>White</td>\n",
       "      <td>English</td>\n",
       "      <td>60</td>\n",
       "    </tr>\n",
       "    <tr>\n",
       "      <th>...</th>\n",
       "      <td>...</td>\n",
       "      <td>...</td>\n",
       "      <td>...</td>\n",
       "      <td>...</td>\n",
       "      <td>...</td>\n",
       "      <td>...</td>\n",
       "      <td>...</td>\n",
       "      <td>...</td>\n",
       "    </tr>\n",
       "    <tr>\n",
       "      <th>940</th>\n",
       "      <td>941</td>\n",
       "      <td>Wat</td>\n",
       "      <td>Fideler</td>\n",
       "      <td>1986-05-26 00:01:19.761035</td>\n",
       "      <td>Male</td>\n",
       "      <td>Black/African-American</td>\n",
       "      <td>English</td>\n",
       "      <td>36</td>\n",
       "    </tr>\n",
       "    <tr>\n",
       "      <th>941</th>\n",
       "      <td>942</td>\n",
       "      <td>Wandie</td>\n",
       "      <td>Baythrop</td>\n",
       "      <td>1970-06-10 21:41:03.814278</td>\n",
       "      <td>Male</td>\n",
       "      <td>Black/African-American</td>\n",
       "      <td>English</td>\n",
       "      <td>52</td>\n",
       "    </tr>\n",
       "    <tr>\n",
       "      <th>942</th>\n",
       "      <td>943</td>\n",
       "      <td>Diahann</td>\n",
       "      <td>Smeeton</td>\n",
       "      <td>1983-01-08 21:49:27.883969</td>\n",
       "      <td>Male</td>\n",
       "      <td>Black/African-American</td>\n",
       "      <td>English</td>\n",
       "      <td>39</td>\n",
       "    </tr>\n",
       "    <tr>\n",
       "      <th>943</th>\n",
       "      <td>944</td>\n",
       "      <td>Panchito</td>\n",
       "      <td>Sharple</td>\n",
       "      <td>1963-06-05 07:57:05.569185</td>\n",
       "      <td>Male</td>\n",
       "      <td>Black/African-American</td>\n",
       "      <td>English</td>\n",
       "      <td>59</td>\n",
       "    </tr>\n",
       "    <tr>\n",
       "      <th>944</th>\n",
       "      <td>945</td>\n",
       "      <td>Walsh</td>\n",
       "      <td>Calvie</td>\n",
       "      <td>1972-08-06 03:40:03.454345</td>\n",
       "      <td>Male</td>\n",
       "      <td>Black/African-American</td>\n",
       "      <td>English</td>\n",
       "      <td>50</td>\n",
       "    </tr>\n",
       "  </tbody>\n",
       "</table>\n",
       "<p>945 rows × 8 columns</p>\n",
       "</div>"
      ],
      "text/plain": [
       "     PatientID FirstName  LastName                DateOfBirth Gender  \\\n",
       "0            1     Lanni       Sue 1960-01-01 00:00:00.000000   Male   \n",
       "1            2       Far     Myers 1985-11-15 02:08:42.089852   Male   \n",
       "2            3   Devlin    Michael 1976-04-15 02:52:09.762384   Male   \n",
       "3            4   Carmine     Texas 1968-10-15 03:32:13.634776   Male   \n",
       "4            5     Tann       Bama 1962-05-01 19:12:58.949547   Male   \n",
       "..         ...       ...       ...                        ...    ...   \n",
       "940        941       Wat   Fideler 1986-05-26 00:01:19.761035   Male   \n",
       "941        942    Wandie  Baythrop 1970-06-10 21:41:03.814278   Male   \n",
       "942        943   Diahann   Smeeton 1983-01-08 21:49:27.883969   Male   \n",
       "943        944  Panchito   Sharple 1963-06-05 07:57:05.569185   Male   \n",
       "944        945     Walsh    Calvie 1972-08-06 03:40:03.454345   Male   \n",
       "\n",
       "                       Race Language  Age  \n",
       "0                     White  English   62  \n",
       "1                     White  English   36  \n",
       "2                     White  English   46  \n",
       "3                     White  English   53  \n",
       "4                     White  English   60  \n",
       "..                      ...      ...  ...  \n",
       "940  Black/African-American  English   36  \n",
       "941  Black/African-American  English   52  \n",
       "942  Black/African-American  English   39  \n",
       "943  Black/African-American  English   59  \n",
       "944  Black/African-American  English   50  \n",
       "\n",
       "[945 rows x 8 columns]"
      ]
     },
     "execution_count": 10,
     "metadata": {},
     "output_type": "execute_result"
    }
   ],
   "source": [
    "from datetime import date\n",
    "df = pd.DataFrame(data = df_PA[\"DateOfBirth\"])\n",
    "def age(birthdate):\n",
    "    today = date.today()\n",
    "    return today.year - birthdate.year - ((today.month, today.day) < (birthdate.month, birthdate.day))\n",
    "  \n",
    "df_PA['Age'] = df_PA['DateOfBirth'].apply(age)\n",
    "df_PA"
   ]
  },
  {
   "cell_type": "markdown",
   "metadata": {},
   "source": [
    "Q28. Which reason of visit has maximum mortality rate."
   ]
  },
  {
   "cell_type": "code",
   "execution_count": 11,
   "metadata": {
    "scrolled": true
   },
   "outputs": [
    {
     "data": {
      "text/html": [
       "<div>\n",
       "<style scoped>\n",
       "    .dataframe tbody tr th:only-of-type {\n",
       "        vertical-align: middle;\n",
       "    }\n",
       "\n",
       "    .dataframe tbody tr th {\n",
       "        vertical-align: top;\n",
       "    }\n",
       "\n",
       "    .dataframe thead th {\n",
       "        text-align: right;\n",
       "    }\n",
       "</style>\n",
       "<table border=\"1\" class=\"dataframe\">\n",
       "  <thead>\n",
       "    <tr style=\"text-align: right;\">\n",
       "      <th></th>\n",
       "      <th>EDVisitID</th>\n",
       "      <th>PatientID</th>\n",
       "      <th>VisitDate</th>\n",
       "      <th>EDDischargeTime</th>\n",
       "      <th>Acuity</th>\n",
       "      <th>ReasonForVisit</th>\n",
       "      <th>EDDisposition</th>\n",
       "      <th>AdmissionID</th>\n",
       "      <th>AdmissionDate</th>\n",
       "      <th>DischargeDate</th>\n",
       "      <th>DischargeDisposition</th>\n",
       "      <th>Service</th>\n",
       "      <th>PrimaryDiagnosis</th>\n",
       "      <th>ExpectedLOS</th>\n",
       "      <th>ExpectedMortality</th>\n",
       "      <th>ReadmissionFlag</th>\n",
       "      <th>DaysToReadmission</th>\n",
       "      <th>EDVisitAfterDischargeFlag</th>\n",
       "    </tr>\n",
       "  </thead>\n",
       "  <tbody>\n",
       "    <tr>\n",
       "      <th>0</th>\n",
       "      <td>1</td>\n",
       "      <td>1</td>\n",
       "      <td>2020-01-01 00:00:00.000000</td>\n",
       "      <td>2020-01-01 11:20:22.924037</td>\n",
       "      <td>1</td>\n",
       "      <td>Stomach Ache</td>\n",
       "      <td>Admitted</td>\n",
       "      <td>389.0</td>\n",
       "      <td>2018-01-01</td>\n",
       "      <td>2018-01-04 19:59:31.390889</td>\n",
       "      <td>Home</td>\n",
       "      <td>Hospitalist</td>\n",
       "      <td>Kidney Failure</td>\n",
       "      <td>6.717771</td>\n",
       "      <td>0.010046</td>\n",
       "      <td>NaN</td>\n",
       "      <td>NaN</td>\n",
       "      <td>NaN</td>\n",
       "    </tr>\n",
       "    <tr>\n",
       "      <th>1</th>\n",
       "      <td>46</td>\n",
       "      <td>1</td>\n",
       "      <td>2020-01-01 11:55:53.030096</td>\n",
       "      <td>2020-01-01 12:04:19.052237</td>\n",
       "      <td>2</td>\n",
       "      <td>Shortness of Breath</td>\n",
       "      <td>Admitted</td>\n",
       "      <td>389.0</td>\n",
       "      <td>2018-01-01</td>\n",
       "      <td>2018-01-04 19:59:31.390889</td>\n",
       "      <td>Home</td>\n",
       "      <td>Hospitalist</td>\n",
       "      <td>Kidney Failure</td>\n",
       "      <td>6.717771</td>\n",
       "      <td>0.010046</td>\n",
       "      <td>NaN</td>\n",
       "      <td>NaN</td>\n",
       "      <td>NaN</td>\n",
       "    </tr>\n",
       "    <tr>\n",
       "      <th>2</th>\n",
       "      <td>424</td>\n",
       "      <td>1</td>\n",
       "      <td>2020-01-06 03:40:15.838555</td>\n",
       "      <td>2020-01-06 06:49:06.996879</td>\n",
       "      <td>1</td>\n",
       "      <td>Stomach Ache</td>\n",
       "      <td>Discharged</td>\n",
       "      <td>389.0</td>\n",
       "      <td>2018-01-01</td>\n",
       "      <td>2018-01-04 19:59:31.390889</td>\n",
       "      <td>Home</td>\n",
       "      <td>Hospitalist</td>\n",
       "      <td>Kidney Failure</td>\n",
       "      <td>6.717771</td>\n",
       "      <td>0.010046</td>\n",
       "      <td>NaN</td>\n",
       "      <td>NaN</td>\n",
       "      <td>NaN</td>\n",
       "    </tr>\n",
       "    <tr>\n",
       "      <th>3</th>\n",
       "      <td>12</td>\n",
       "      <td>12</td>\n",
       "      <td>2020-01-01 02:45:40.302013</td>\n",
       "      <td>2020-01-02 02:00:00.517383</td>\n",
       "      <td>2</td>\n",
       "      <td>Migraine</td>\n",
       "      <td>Admitted</td>\n",
       "      <td>568.0</td>\n",
       "      <td>2018-01-01</td>\n",
       "      <td>2018-01-09 09:21:47.300098</td>\n",
       "      <td>Home</td>\n",
       "      <td>Hospitalist</td>\n",
       "      <td>Pneumonia</td>\n",
       "      <td>7.162811</td>\n",
       "      <td>0.671473</td>\n",
       "      <td>1.0</td>\n",
       "      <td>5.0</td>\n",
       "      <td>1.0</td>\n",
       "    </tr>\n",
       "    <tr>\n",
       "      <th>4</th>\n",
       "      <td>103</td>\n",
       "      <td>12</td>\n",
       "      <td>2020-01-02 02:29:50.908381</td>\n",
       "      <td>2020-01-02 02:34:11.803088</td>\n",
       "      <td>1</td>\n",
       "      <td>Migraine</td>\n",
       "      <td>Discharged</td>\n",
       "      <td>568.0</td>\n",
       "      <td>2018-01-01</td>\n",
       "      <td>2018-01-09 09:21:47.300098</td>\n",
       "      <td>Home</td>\n",
       "      <td>Hospitalist</td>\n",
       "      <td>Pneumonia</td>\n",
       "      <td>7.162811</td>\n",
       "      <td>0.671473</td>\n",
       "      <td>1.0</td>\n",
       "      <td>5.0</td>\n",
       "      <td>1.0</td>\n",
       "    </tr>\n",
       "    <tr>\n",
       "      <th>...</th>\n",
       "      <td>...</td>\n",
       "      <td>...</td>\n",
       "      <td>...</td>\n",
       "      <td>...</td>\n",
       "      <td>...</td>\n",
       "      <td>...</td>\n",
       "      <td>...</td>\n",
       "      <td>...</td>\n",
       "      <td>...</td>\n",
       "      <td>...</td>\n",
       "      <td>...</td>\n",
       "      <td>...</td>\n",
       "      <td>...</td>\n",
       "      <td>...</td>\n",
       "      <td>...</td>\n",
       "      <td>...</td>\n",
       "      <td>...</td>\n",
       "      <td>...</td>\n",
       "    </tr>\n",
       "    <tr>\n",
       "      <th>1222</th>\n",
       "      <td>1183</td>\n",
       "      <td>929</td>\n",
       "      <td>2020-01-15 10:38:42.569997</td>\n",
       "      <td>2020-01-16 02:31:52.023450</td>\n",
       "      <td>4</td>\n",
       "      <td>Chest Pain</td>\n",
       "      <td>Discharged</td>\n",
       "      <td>NaN</td>\n",
       "      <td>NaT</td>\n",
       "      <td>NaT</td>\n",
       "      <td>NaN</td>\n",
       "      <td>NaN</td>\n",
       "      <td>NaN</td>\n",
       "      <td>NaN</td>\n",
       "      <td>NaN</td>\n",
       "      <td>NaN</td>\n",
       "      <td>NaN</td>\n",
       "      <td>NaN</td>\n",
       "    </tr>\n",
       "    <tr>\n",
       "      <th>1223</th>\n",
       "      <td>1186</td>\n",
       "      <td>932</td>\n",
       "      <td>2020-01-15 11:52:37.540239</td>\n",
       "      <td>2020-01-16 10:19:41.569517</td>\n",
       "      <td>1</td>\n",
       "      <td>Pneumonia</td>\n",
       "      <td>Discharged</td>\n",
       "      <td>NaN</td>\n",
       "      <td>NaT</td>\n",
       "      <td>NaT</td>\n",
       "      <td>NaN</td>\n",
       "      <td>NaN</td>\n",
       "      <td>NaN</td>\n",
       "      <td>NaN</td>\n",
       "      <td>NaN</td>\n",
       "      <td>NaN</td>\n",
       "      <td>NaN</td>\n",
       "      <td>NaN</td>\n",
       "    </tr>\n",
       "    <tr>\n",
       "      <th>1224</th>\n",
       "      <td>1187</td>\n",
       "      <td>933</td>\n",
       "      <td>2020-01-15 12:11:11.677812</td>\n",
       "      <td>2020-01-15 16:41:15.222748</td>\n",
       "      <td>1</td>\n",
       "      <td>Pneumonia</td>\n",
       "      <td>Discharged</td>\n",
       "      <td>NaN</td>\n",
       "      <td>NaT</td>\n",
       "      <td>NaT</td>\n",
       "      <td>NaN</td>\n",
       "      <td>NaN</td>\n",
       "      <td>NaN</td>\n",
       "      <td>NaN</td>\n",
       "      <td>NaN</td>\n",
       "      <td>NaN</td>\n",
       "      <td>NaN</td>\n",
       "      <td>NaN</td>\n",
       "    </tr>\n",
       "    <tr>\n",
       "      <th>1225</th>\n",
       "      <td>1188</td>\n",
       "      <td>934</td>\n",
       "      <td>2020-01-15 12:21:46.005588</td>\n",
       "      <td>2020-01-15 18:32:21.059715</td>\n",
       "      <td>1</td>\n",
       "      <td>Pneumonia</td>\n",
       "      <td>Discharged</td>\n",
       "      <td>NaN</td>\n",
       "      <td>NaT</td>\n",
       "      <td>NaT</td>\n",
       "      <td>NaN</td>\n",
       "      <td>NaN</td>\n",
       "      <td>NaN</td>\n",
       "      <td>NaN</td>\n",
       "      <td>NaN</td>\n",
       "      <td>NaN</td>\n",
       "      <td>NaN</td>\n",
       "      <td>NaN</td>\n",
       "    </tr>\n",
       "    <tr>\n",
       "      <th>1226</th>\n",
       "      <td>1189</td>\n",
       "      <td>935</td>\n",
       "      <td>2020-01-15 12:51:14.875061</td>\n",
       "      <td>2020-01-15 23:40:41.456113</td>\n",
       "      <td>1</td>\n",
       "      <td>Pneumonia</td>\n",
       "      <td>Discharged</td>\n",
       "      <td>NaN</td>\n",
       "      <td>NaT</td>\n",
       "      <td>NaT</td>\n",
       "      <td>NaN</td>\n",
       "      <td>NaN</td>\n",
       "      <td>NaN</td>\n",
       "      <td>NaN</td>\n",
       "      <td>NaN</td>\n",
       "      <td>NaN</td>\n",
       "      <td>NaN</td>\n",
       "      <td>NaN</td>\n",
       "    </tr>\n",
       "  </tbody>\n",
       "</table>\n",
       "<p>1227 rows × 18 columns</p>\n",
       "</div>"
      ],
      "text/plain": [
       "      EDVisitID  PatientID                  VisitDate  \\\n",
       "0             1          1 2020-01-01 00:00:00.000000   \n",
       "1            46          1 2020-01-01 11:55:53.030096   \n",
       "2           424          1 2020-01-06 03:40:15.838555   \n",
       "3            12         12 2020-01-01 02:45:40.302013   \n",
       "4           103         12 2020-01-02 02:29:50.908381   \n",
       "...         ...        ...                        ...   \n",
       "1222       1183        929 2020-01-15 10:38:42.569997   \n",
       "1223       1186        932 2020-01-15 11:52:37.540239   \n",
       "1224       1187        933 2020-01-15 12:11:11.677812   \n",
       "1225       1188        934 2020-01-15 12:21:46.005588   \n",
       "1226       1189        935 2020-01-15 12:51:14.875061   \n",
       "\n",
       "                EDDischargeTime  Acuity       ReasonForVisit EDDisposition  \\\n",
       "0    2020-01-01 11:20:22.924037       1         Stomach Ache      Admitted   \n",
       "1    2020-01-01 12:04:19.052237       2  Shortness of Breath      Admitted   \n",
       "2    2020-01-06 06:49:06.996879       1         Stomach Ache    Discharged   \n",
       "3    2020-01-02 02:00:00.517383       2             Migraine      Admitted   \n",
       "4    2020-01-02 02:34:11.803088       1             Migraine    Discharged   \n",
       "...                         ...     ...                  ...           ...   \n",
       "1222 2020-01-16 02:31:52.023450       4           Chest Pain    Discharged   \n",
       "1223 2020-01-16 10:19:41.569517       1            Pneumonia    Discharged   \n",
       "1224 2020-01-15 16:41:15.222748       1            Pneumonia    Discharged   \n",
       "1225 2020-01-15 18:32:21.059715       1            Pneumonia    Discharged   \n",
       "1226 2020-01-15 23:40:41.456113       1            Pneumonia    Discharged   \n",
       "\n",
       "      AdmissionID AdmissionDate              DischargeDate  \\\n",
       "0           389.0    2018-01-01 2018-01-04 19:59:31.390889   \n",
       "1           389.0    2018-01-01 2018-01-04 19:59:31.390889   \n",
       "2           389.0    2018-01-01 2018-01-04 19:59:31.390889   \n",
       "3           568.0    2018-01-01 2018-01-09 09:21:47.300098   \n",
       "4           568.0    2018-01-01 2018-01-09 09:21:47.300098   \n",
       "...           ...           ...                        ...   \n",
       "1222          NaN           NaT                        NaT   \n",
       "1223          NaN           NaT                        NaT   \n",
       "1224          NaN           NaT                        NaT   \n",
       "1225          NaN           NaT                        NaT   \n",
       "1226          NaN           NaT                        NaT   \n",
       "\n",
       "     DischargeDisposition      Service PrimaryDiagnosis  ExpectedLOS  \\\n",
       "0                    Home  Hospitalist   Kidney Failure     6.717771   \n",
       "1                    Home  Hospitalist   Kidney Failure     6.717771   \n",
       "2                    Home  Hospitalist   Kidney Failure     6.717771   \n",
       "3                    Home  Hospitalist        Pneumonia     7.162811   \n",
       "4                    Home  Hospitalist        Pneumonia     7.162811   \n",
       "...                   ...          ...              ...          ...   \n",
       "1222                  NaN          NaN              NaN          NaN   \n",
       "1223                  NaN          NaN              NaN          NaN   \n",
       "1224                  NaN          NaN              NaN          NaN   \n",
       "1225                  NaN          NaN              NaN          NaN   \n",
       "1226                  NaN          NaN              NaN          NaN   \n",
       "\n",
       "      ExpectedMortality  ReadmissionFlag  DaysToReadmission  \\\n",
       "0              0.010046              NaN                NaN   \n",
       "1              0.010046              NaN                NaN   \n",
       "2              0.010046              NaN                NaN   \n",
       "3              0.671473              1.0                5.0   \n",
       "4              0.671473              1.0                5.0   \n",
       "...                 ...              ...                ...   \n",
       "1222                NaN              NaN                NaN   \n",
       "1223                NaN              NaN                NaN   \n",
       "1224                NaN              NaN                NaN   \n",
       "1225                NaN              NaN                NaN   \n",
       "1226                NaN              NaN                NaN   \n",
       "\n",
       "      EDVisitAfterDischargeFlag  \n",
       "0                           NaN  \n",
       "1                           NaN  \n",
       "2                           NaN  \n",
       "3                           1.0  \n",
       "4                           1.0  \n",
       "...                         ...  \n",
       "1222                        NaN  \n",
       "1223                        NaN  \n",
       "1224                        NaN  \n",
       "1225                        NaN  \n",
       "1226                        NaN  \n",
       "\n",
       "[1227 rows x 18 columns]"
      ]
     },
     "execution_count": 11,
     "metadata": {},
     "output_type": "execute_result"
    }
   ],
   "source": [
    "result = df_EDV.merge(df_RR, how = \"outer\")\n",
    "result"
   ]
  },
  {
   "cell_type": "code",
   "execution_count": 12,
   "metadata": {},
   "outputs": [
    {
     "data": {
      "text/plain": [
       "'Pneumonia'"
      ]
     },
     "execution_count": 12,
     "metadata": {},
     "output_type": "execute_result"
    }
   ],
   "source": [
    "i = result[\"ExpectedMortality\"].idxmax()\n",
    "result.iloc[i][\"ReasonForVisit\"]"
   ]
  },
  {
   "cell_type": "markdown",
   "metadata": {},
   "source": [
    "Q29. Calculate average LOS."
   ]
  },
  {
   "cell_type": "code",
   "execution_count": 13,
   "metadata": {},
   "outputs": [
    {
     "data": {
      "text/plain": [
       "8.824589159156156"
      ]
     },
     "execution_count": 13,
     "metadata": {},
     "output_type": "execute_result"
    }
   ],
   "source": [
    "df_RR[\"ExpectedLOS\"].mean()"
   ]
  },
  {
   "cell_type": "markdown",
   "metadata": {},
   "source": [
    "Q30. Which patient id has most entries in readmission registry."
   ]
  },
  {
   "cell_type": "markdown",
   "metadata": {},
   "source": [
    "The efficient solution is using the value_counts()"
   ]
  },
  {
   "cell_type": "code",
   "execution_count": 14,
   "metadata": {},
   "outputs": [
    {
     "data": {
      "text/plain": [
       "22"
      ]
     },
     "execution_count": 14,
     "metadata": {},
     "output_type": "execute_result"
    }
   ],
   "source": [
    "#optimal solution using value_counts\n",
    "i = (df_RR[\"PatientID\"].value_counts()).idxmax()\n",
    "res = df_RR.iloc[i]\n",
    "res[\"PatientID\"]"
   ]
  },
  {
   "cell_type": "code",
   "execution_count": 15,
   "metadata": {},
   "outputs": [
    {
     "data": {
      "text/plain": [
       "22"
      ]
     },
     "execution_count": 15,
     "metadata": {},
     "output_type": "execute_result"
    }
   ],
   "source": [
    "#other solution using groupby\n",
    "idx = (df_RR.groupby([\"PatientID\"]).size()).idxmax()\n",
    "res1 = df_RR.iloc[idx]\n",
    "res1[\"PatientID\"]"
   ]
  },
  {
   "cell_type": "markdown",
   "metadata": {},
   "source": [
    "Q40. Plot a graph showing the count of patients for the reason visited the hospotal."
   ]
  },
  {
   "cell_type": "code",
   "execution_count": 16,
   "metadata": {},
   "outputs": [
    {
     "data": {
      "text/html": [
       "<div>\n",
       "<style scoped>\n",
       "    .dataframe tbody tr th:only-of-type {\n",
       "        vertical-align: middle;\n",
       "    }\n",
       "\n",
       "    .dataframe tbody tr th {\n",
       "        vertical-align: top;\n",
       "    }\n",
       "\n",
       "    .dataframe thead th {\n",
       "        text-align: right;\n",
       "    }\n",
       "</style>\n",
       "<table border=\"1\" class=\"dataframe\">\n",
       "  <thead>\n",
       "    <tr style=\"text-align: right;\">\n",
       "      <th></th>\n",
       "      <th>PatientID</th>\n",
       "    </tr>\n",
       "    <tr>\n",
       "      <th>ReasonForVisit</th>\n",
       "      <th></th>\n",
       "    </tr>\n",
       "  </thead>\n",
       "  <tbody>\n",
       "    <tr>\n",
       "      <th>Accident</th>\n",
       "      <td>39</td>\n",
       "    </tr>\n",
       "    <tr>\n",
       "      <th>Bleeding</th>\n",
       "      <td>31</td>\n",
       "    </tr>\n",
       "    <tr>\n",
       "      <th>Car Accident</th>\n",
       "      <td>17</td>\n",
       "    </tr>\n",
       "    <tr>\n",
       "      <th>Chest Pain</th>\n",
       "      <td>109</td>\n",
       "    </tr>\n",
       "    <tr>\n",
       "      <th>Cough</th>\n",
       "      <td>1</td>\n",
       "    </tr>\n",
       "    <tr>\n",
       "      <th>Fever</th>\n",
       "      <td>234</td>\n",
       "    </tr>\n",
       "    <tr>\n",
       "      <th>Gun Shot</th>\n",
       "      <td>16</td>\n",
       "    </tr>\n",
       "    <tr>\n",
       "      <th>Intoxication</th>\n",
       "      <td>30</td>\n",
       "    </tr>\n",
       "    <tr>\n",
       "      <th>Laceration</th>\n",
       "      <td>30</td>\n",
       "    </tr>\n",
       "    <tr>\n",
       "      <th>Migraine</th>\n",
       "      <td>156</td>\n",
       "    </tr>\n",
       "    <tr>\n",
       "      <th>Pneumonia</th>\n",
       "      <td>201</td>\n",
       "    </tr>\n",
       "    <tr>\n",
       "      <th>Shortness of Breath</th>\n",
       "      <td>149</td>\n",
       "    </tr>\n",
       "    <tr>\n",
       "      <th>Stomach Ache</th>\n",
       "      <td>186</td>\n",
       "    </tr>\n",
       "  </tbody>\n",
       "</table>\n",
       "</div>"
      ],
      "text/plain": [
       "                     PatientID\n",
       "ReasonForVisit                \n",
       "Accident                    39\n",
       "Bleeding                    31\n",
       "Car Accident                17\n",
       "Chest Pain                 109\n",
       "Cough                        1\n",
       "Fever                      234\n",
       "Gun Shot                    16\n",
       "Intoxication                30\n",
       "Laceration                  30\n",
       "Migraine                   156\n",
       "Pneumonia                  201\n",
       "Shortness of Breath        149\n",
       "Stomach Ache               186"
      ]
     },
     "execution_count": 16,
     "metadata": {},
     "output_type": "execute_result"
    }
   ],
   "source": [
    "reasonOfVisit_count = df_EDV.groupby(\"ReasonForVisit\").count()[[\"PatientID\"]]\n",
    "reasonOfVisit_count"
   ]
  },
  {
   "cell_type": "code",
   "execution_count": 17,
   "metadata": {
    "scrolled": false
   },
   "outputs": [
    {
     "data": {
      "image/png": "[encoded data removed]",
      "text/plain": [
       "<Figure size 792x576 with 1 Axes>"
      ]
     },
     "metadata": {},
     "output_type": "display_data"
    }
   ],
   "source": [
    "reasonOfVisit_count.plot(kind='bar', figsize = (11, 8), ylabel = \"count of PatientID\", )\n",
    "plt.show()"
   ]
  },
  {
   "cell_type": "markdown",
   "metadata": {},
   "source": [
    "Q41. Find the visit type with maximum 'No Show'."
   ]
  },
  {
   "cell_type": "code",
   "execution_count": 3,
   "metadata": {},
   "outputs": [
    {
     "data": {
      "text/plain": [
       "0       No Show\n",
       "1       No Show\n",
       "2       No Show\n",
       "3       No Show\n",
       "4       No Show\n",
       "         ...   \n",
       "945    Canceled\n",
       "946    Canceled\n",
       "947    Canceled\n",
       "948    Canceled\n",
       "949    Canceled\n",
       "Name: VisitStatus, Length: 950, dtype: object"
      ]
     },
     "execution_count": 3,
     "metadata": {},
     "output_type": "execute_result"
    }
   ],
   "source": [
    "df_AV[\"VisitType\"]\n",
    "df_AV[\"VisitStatus\"]"
   ]
  },
  {
   "cell_type": "code",
   "execution_count": 19,
   "metadata": {},
   "outputs": [
    {
     "data": {
      "text/plain": [
       "'Pneumonia'"
      ]
     },
     "execution_count": 19,
     "metadata": {},
     "output_type": "execute_result"
    }
   ],
   "source": [
    "i = result[\"ExpectedMortality\"].idxmax()\n",
    "result.iloc[i][\"ReasonForVisit\"]"
   ]
  },
  {
   "cell_type": "code",
   "execution_count": 20,
   "metadata": {},
   "outputs": [
    {
     "ename": "TypeError",
     "evalue": "Cannot index by location index with a non-integer key",
     "output_type": "error",
     "traceback": [
      "\u001b[0;31m---------------------------------------------------------------------------\u001b[0m",
      "\u001b[0;31mTypeError\u001b[0m                                 Traceback (most recent call last)",
      "\u001b[0;32m<ipython-input-20-5f8097e887a1>\u001b[0m in \u001b[0;36m<module>\u001b[0;34m\u001b[0m\n\u001b[1;32m      1\u001b[0m \u001b[0mi\u001b[0m \u001b[0;34m=\u001b[0m \u001b[0;34m(\u001b[0m\u001b[0mdf_AV\u001b[0m\u001b[0;34m[\u001b[0m\u001b[0;34m\"VisitType\"\u001b[0m\u001b[0;34m]\u001b[0m\u001b[0;34m.\u001b[0m\u001b[0mvalue_counts\u001b[0m\u001b[0;34m(\u001b[0m\u001b[0;34m)\u001b[0m\u001b[0;34m)\u001b[0m\u001b[0;34m.\u001b[0m\u001b[0midxmax\u001b[0m\u001b[0;34m(\u001b[0m\u001b[0;34m)\u001b[0m\u001b[0;34m\u001b[0m\u001b[0;34m\u001b[0m\u001b[0m\n\u001b[0;32m----> 2\u001b[0;31m \u001b[0mres\u001b[0m \u001b[0;34m=\u001b[0m \u001b[0mdf_RR\u001b[0m\u001b[0;34m.\u001b[0m\u001b[0miloc\u001b[0m\u001b[0;34m[\u001b[0m\u001b[0mi\u001b[0m\u001b[0;34m]\u001b[0m\u001b[0;34m\u001b[0m\u001b[0;34m\u001b[0m\u001b[0m\n\u001b[0m\u001b[1;32m      3\u001b[0m \u001b[0mres\u001b[0m\u001b[0;34m[\u001b[0m\u001b[0;34m\"PatientID\"\u001b[0m\u001b[0;34m]\u001b[0m\u001b[0;34m\u001b[0m\u001b[0;34m\u001b[0m\u001b[0m\n",
      "\u001b[0;32m~/opt/anaconda3/lib/python3.8/site-packages/pandas/core/indexing.py\u001b[0m in \u001b[0;36m__getitem__\u001b[0;34m(self, key)\u001b[0m\n\u001b[1;32m    893\u001b[0m \u001b[0;34m\u001b[0m\u001b[0m\n\u001b[1;32m    894\u001b[0m             \u001b[0mmaybe_callable\u001b[0m \u001b[0;34m=\u001b[0m \u001b[0mcom\u001b[0m\u001b[0;34m.\u001b[0m\u001b[0mapply_if_callable\u001b[0m\u001b[0;34m(\u001b[0m\u001b[0mkey\u001b[0m\u001b[0;34m,\u001b[0m \u001b[0mself\u001b[0m\u001b[0;34m.\u001b[0m\u001b[0mobj\u001b[0m\u001b[0;34m)\u001b[0m\u001b[0;34m\u001b[0m\u001b[0;34m\u001b[0m\u001b[0m\n\u001b[0;32m--> 895\u001b[0;31m             \u001b[0;32mreturn\u001b[0m \u001b[0mself\u001b[0m\u001b[0;34m.\u001b[0m\u001b[0m_getitem_axis\u001b[0m\u001b[0;34m(\u001b[0m\u001b[0mmaybe_callable\u001b[0m\u001b[0;34m,\u001b[0m \u001b[0maxis\u001b[0m\u001b[0;34m=\u001b[0m\u001b[0maxis\u001b[0m\u001b[0;34m)\u001b[0m\u001b[0;34m\u001b[0m\u001b[0;34m\u001b[0m\u001b[0m\n\u001b[0m\u001b[1;32m    896\u001b[0m \u001b[0;34m\u001b[0m\u001b[0m\n\u001b[1;32m    897\u001b[0m     \u001b[0;32mdef\u001b[0m \u001b[0m_is_scalar_access\u001b[0m\u001b[0;34m(\u001b[0m\u001b[0mself\u001b[0m\u001b[0;34m,\u001b[0m \u001b[0mkey\u001b[0m\u001b[0;34m:\u001b[0m \u001b[0mTuple\u001b[0m\u001b[0;34m)\u001b[0m\u001b[0;34m:\u001b[0m\u001b[0;34m\u001b[0m\u001b[0;34m\u001b[0m\u001b[0m\n",
      "\u001b[0;32m~/opt/anaconda3/lib/python3.8/site-packages/pandas/core/indexing.py\u001b[0m in \u001b[0;36m_getitem_axis\u001b[0;34m(self, key, axis)\u001b[0m\n\u001b[1;32m   1496\u001b[0m             \u001b[0mkey\u001b[0m \u001b[0;34m=\u001b[0m \u001b[0mitem_from_zerodim\u001b[0m\u001b[0;34m(\u001b[0m\u001b[0mkey\u001b[0m\u001b[0;34m)\u001b[0m\u001b[0;34m\u001b[0m\u001b[0;34m\u001b[0m\u001b[0m\n\u001b[1;32m   1497\u001b[0m             \u001b[0;32mif\u001b[0m \u001b[0;32mnot\u001b[0m \u001b[0mis_integer\u001b[0m\u001b[0;34m(\u001b[0m\u001b[0mkey\u001b[0m\u001b[0;34m)\u001b[0m\u001b[0;34m:\u001b[0m\u001b[0;34m\u001b[0m\u001b[0;34m\u001b[0m\u001b[0m\n\u001b[0;32m-> 1498\u001b[0;31m                 \u001b[0;32mraise\u001b[0m \u001b[0mTypeError\u001b[0m\u001b[0;34m(\u001b[0m\u001b[0;34m\"Cannot index by location index with a non-integer key\"\u001b[0m\u001b[0;34m)\u001b[0m\u001b[0;34m\u001b[0m\u001b[0;34m\u001b[0m\u001b[0m\n\u001b[0m\u001b[1;32m   1499\u001b[0m \u001b[0;34m\u001b[0m\u001b[0m\n\u001b[1;32m   1500\u001b[0m             \u001b[0;31m# validate the location\u001b[0m\u001b[0;34m\u001b[0m\u001b[0;34m\u001b[0m\u001b[0;34m\u001b[0m\u001b[0m\n",
      "\u001b[0;31mTypeError\u001b[0m: Cannot index by location index with a non-integer key"
     ]
    }
   ],
   "source": [
    "i = (df_AV[\"VisitType\"].value_counts()).idxmax()\n",
    "res = df_RR.iloc[i]\n",
    "res[\"PatientID\"]"
   ]
  },
  {
   "cell_type": "code",
   "execution_count": 4,
   "metadata": {},
   "outputs": [
    {
     "data": {
      "text/plain": [
       "VisitType     VisitStatus\n",
       "Follow Up     Canceled        29\n",
       "              Completed      266\n",
       "              No Show         41\n",
       "New           Canceled         5\n",
       "              Completed      120\n",
       "Physical      Canceled        11\n",
       "              Completed      155\n",
       "              No Show         39\n",
       "Telemedicine  Canceled        15\n",
       "              Completed      195\n",
       "              No Show         74\n",
       "dtype: int64"
      ]
     },
     "execution_count": 4,
     "metadata": {},
     "output_type": "execute_result"
    }
   ],
   "source": [
    "(df_AV.groupby([\"VisitType\", \"VisitStatus\"]).size())\n"
   ]
  },
  {
   "cell_type": "code",
   "execution_count": 22,
   "metadata": {},
   "outputs": [
    {
     "ename": "TypeError",
     "evalue": "'str' object is not callable",
     "output_type": "error",
     "traceback": [
      "\u001b[0;31m---------------------------------------------------------------------------\u001b[0m",
      "\u001b[0;31mTypeError\u001b[0m                                 Traceback (most recent call last)",
      "\u001b[0;32m~/opt/anaconda3/lib/python3.8/site-packages/pandas/core/groupby/groupby.py\u001b[0m in \u001b[0;36mapply\u001b[0;34m(self, func, *args, **kwargs)\u001b[0m\n\u001b[1;32m    893\u001b[0m             \u001b[0;32mtry\u001b[0m\u001b[0;34m:\u001b[0m\u001b[0;34m\u001b[0m\u001b[0;34m\u001b[0m\u001b[0m\n\u001b[0;32m--> 894\u001b[0;31m                 \u001b[0mresult\u001b[0m \u001b[0;34m=\u001b[0m \u001b[0mself\u001b[0m\u001b[0;34m.\u001b[0m\u001b[0m_python_apply_general\u001b[0m\u001b[0;34m(\u001b[0m\u001b[0mf\u001b[0m\u001b[0;34m,\u001b[0m \u001b[0mself\u001b[0m\u001b[0;34m.\u001b[0m\u001b[0m_selected_obj\u001b[0m\u001b[0;34m)\u001b[0m\u001b[0;34m\u001b[0m\u001b[0;34m\u001b[0m\u001b[0m\n\u001b[0m\u001b[1;32m    895\u001b[0m             \u001b[0;32mexcept\u001b[0m \u001b[0mTypeError\u001b[0m\u001b[0;34m:\u001b[0m\u001b[0;34m\u001b[0m\u001b[0;34m\u001b[0m\u001b[0m\n",
      "\u001b[0;32m~/opt/anaconda3/lib/python3.8/site-packages/pandas/core/groupby/groupby.py\u001b[0m in \u001b[0;36m_python_apply_general\u001b[0;34m(self, f, data)\u001b[0m\n\u001b[1;32m    927\u001b[0m         \"\"\"\n\u001b[0;32m--> 928\u001b[0;31m         \u001b[0mkeys\u001b[0m\u001b[0;34m,\u001b[0m \u001b[0mvalues\u001b[0m\u001b[0;34m,\u001b[0m \u001b[0mmutated\u001b[0m \u001b[0;34m=\u001b[0m \u001b[0mself\u001b[0m\u001b[0;34m.\u001b[0m\u001b[0mgrouper\u001b[0m\u001b[0;34m.\u001b[0m\u001b[0mapply\u001b[0m\u001b[0;34m(\u001b[0m\u001b[0mf\u001b[0m\u001b[0;34m,\u001b[0m \u001b[0mdata\u001b[0m\u001b[0;34m,\u001b[0m \u001b[0mself\u001b[0m\u001b[0;34m.\u001b[0m\u001b[0maxis\u001b[0m\u001b[0;34m)\u001b[0m\u001b[0;34m\u001b[0m\u001b[0;34m\u001b[0m\u001b[0m\n\u001b[0m\u001b[1;32m    929\u001b[0m \u001b[0;34m\u001b[0m\u001b[0m\n",
      "\u001b[0;32m~/opt/anaconda3/lib/python3.8/site-packages/pandas/core/groupby/ops.py\u001b[0m in \u001b[0;36mapply\u001b[0;34m(self, f, data, axis)\u001b[0m\n\u001b[1;32m    237\u001b[0m             \u001b[0mgroup_axes\u001b[0m \u001b[0;34m=\u001b[0m \u001b[0mgroup\u001b[0m\u001b[0;34m.\u001b[0m\u001b[0maxes\u001b[0m\u001b[0;34m\u001b[0m\u001b[0;34m\u001b[0m\u001b[0m\n\u001b[0;32m--> 238\u001b[0;31m             \u001b[0mres\u001b[0m \u001b[0;34m=\u001b[0m \u001b[0mf\u001b[0m\u001b[0;34m(\u001b[0m\u001b[0mgroup\u001b[0m\u001b[0;34m)\u001b[0m\u001b[0;34m\u001b[0m\u001b[0;34m\u001b[0m\u001b[0m\n\u001b[0m\u001b[1;32m    239\u001b[0m             \u001b[0;32mif\u001b[0m \u001b[0;32mnot\u001b[0m \u001b[0m_is_indexed_like\u001b[0m\u001b[0;34m(\u001b[0m\u001b[0mres\u001b[0m\u001b[0;34m,\u001b[0m \u001b[0mgroup_axes\u001b[0m\u001b[0;34m,\u001b[0m \u001b[0maxis\u001b[0m\u001b[0;34m)\u001b[0m\u001b[0;34m:\u001b[0m\u001b[0;34m\u001b[0m\u001b[0;34m\u001b[0m\u001b[0m\n",
      "\u001b[0;31mTypeError\u001b[0m: 'str' object is not callable",
      "\nDuring handling of the above exception, another exception occurred:\n",
      "\u001b[0;31mTypeError\u001b[0m                                 Traceback (most recent call last)",
      "\u001b[0;32m<ipython-input-22-02c3f099f3be>\u001b[0m in \u001b[0;36m<module>\u001b[0;34m\u001b[0m\n\u001b[0;32m----> 1\u001b[0;31m \u001b[0mdf_AV\u001b[0m\u001b[0;34m.\u001b[0m\u001b[0mgroupby\u001b[0m\u001b[0;34m(\u001b[0m\u001b[0;34m'VisitType'\u001b[0m\u001b[0;34m)\u001b[0m\u001b[0;34m.\u001b[0m\u001b[0mapply\u001b[0m\u001b[0;34m(\u001b[0m\u001b[0mdf_AV\u001b[0m\u001b[0;34m[\u001b[0m\u001b[0;34m'VisitStatus'\u001b[0m\u001b[0;34m]\u001b[0m\u001b[0;34m.\u001b[0m\u001b[0mvalue_counts\u001b[0m\u001b[0;34m(\u001b[0m\u001b[0;34m)\u001b[0m\u001b[0;34m.\u001b[0m\u001b[0midxmax\u001b[0m\u001b[0;34m(\u001b[0m\u001b[0;34m)\u001b[0m\u001b[0;34m)\u001b[0m\u001b[0;34m\u001b[0m\u001b[0;34m\u001b[0m\u001b[0m\n\u001b[0m",
      "\u001b[0;32m~/opt/anaconda3/lib/python3.8/site-packages/pandas/core/groupby/groupby.py\u001b[0m in \u001b[0;36mapply\u001b[0;34m(self, func, *args, **kwargs)\u001b[0m\n\u001b[1;32m    903\u001b[0m \u001b[0;34m\u001b[0m\u001b[0m\n\u001b[1;32m    904\u001b[0m                 \u001b[0;32mwith\u001b[0m \u001b[0mgroup_selection_context\u001b[0m\u001b[0;34m(\u001b[0m\u001b[0mself\u001b[0m\u001b[0;34m)\u001b[0m\u001b[0;34m:\u001b[0m\u001b[0;34m\u001b[0m\u001b[0;34m\u001b[0m\u001b[0m\n\u001b[0;32m--> 905\u001b[0;31m                     \u001b[0;32mreturn\u001b[0m \u001b[0mself\u001b[0m\u001b[0;34m.\u001b[0m\u001b[0m_python_apply_general\u001b[0m\u001b[0;34m(\u001b[0m\u001b[0mf\u001b[0m\u001b[0;34m,\u001b[0m \u001b[0mself\u001b[0m\u001b[0;34m.\u001b[0m\u001b[0m_selected_obj\u001b[0m\u001b[0;34m)\u001b[0m\u001b[0;34m\u001b[0m\u001b[0;34m\u001b[0m\u001b[0m\n\u001b[0m\u001b[1;32m    906\u001b[0m \u001b[0;34m\u001b[0m\u001b[0m\n\u001b[1;32m    907\u001b[0m         \u001b[0;32mreturn\u001b[0m \u001b[0mresult\u001b[0m\u001b[0;34m\u001b[0m\u001b[0;34m\u001b[0m\u001b[0m\n",
      "\u001b[0;32m~/opt/anaconda3/lib/python3.8/site-packages/pandas/core/groupby/groupby.py\u001b[0m in \u001b[0;36m_python_apply_general\u001b[0;34m(self, f, data)\u001b[0m\n\u001b[1;32m    926\u001b[0m             \u001b[0mdata\u001b[0m \u001b[0mafter\u001b[0m \u001b[0mapplying\u001b[0m \u001b[0mf\u001b[0m\u001b[0;34m\u001b[0m\u001b[0;34m\u001b[0m\u001b[0m\n\u001b[1;32m    927\u001b[0m         \"\"\"\n\u001b[0;32m--> 928\u001b[0;31m         \u001b[0mkeys\u001b[0m\u001b[0;34m,\u001b[0m \u001b[0mvalues\u001b[0m\u001b[0;34m,\u001b[0m \u001b[0mmutated\u001b[0m \u001b[0;34m=\u001b[0m \u001b[0mself\u001b[0m\u001b[0;34m.\u001b[0m\u001b[0mgrouper\u001b[0m\u001b[0;34m.\u001b[0m\u001b[0mapply\u001b[0m\u001b[0;34m(\u001b[0m\u001b[0mf\u001b[0m\u001b[0;34m,\u001b[0m \u001b[0mdata\u001b[0m\u001b[0;34m,\u001b[0m \u001b[0mself\u001b[0m\u001b[0;34m.\u001b[0m\u001b[0maxis\u001b[0m\u001b[0;34m)\u001b[0m\u001b[0;34m\u001b[0m\u001b[0;34m\u001b[0m\u001b[0m\n\u001b[0m\u001b[1;32m    929\u001b[0m \u001b[0;34m\u001b[0m\u001b[0m\n\u001b[1;32m    930\u001b[0m         return self._wrap_applied_output(\n",
      "\u001b[0;32m~/opt/anaconda3/lib/python3.8/site-packages/pandas/core/groupby/ops.py\u001b[0m in \u001b[0;36mapply\u001b[0;34m(self, f, data, axis)\u001b[0m\n\u001b[1;32m    236\u001b[0m             \u001b[0;31m# group might be modified\u001b[0m\u001b[0;34m\u001b[0m\u001b[0;34m\u001b[0m\u001b[0;34m\u001b[0m\u001b[0m\n\u001b[1;32m    237\u001b[0m             \u001b[0mgroup_axes\u001b[0m \u001b[0;34m=\u001b[0m \u001b[0mgroup\u001b[0m\u001b[0;34m.\u001b[0m\u001b[0maxes\u001b[0m\u001b[0;34m\u001b[0m\u001b[0;34m\u001b[0m\u001b[0m\n\u001b[0;32m--> 238\u001b[0;31m             \u001b[0mres\u001b[0m \u001b[0;34m=\u001b[0m \u001b[0mf\u001b[0m\u001b[0;34m(\u001b[0m\u001b[0mgroup\u001b[0m\u001b[0;34m)\u001b[0m\u001b[0;34m\u001b[0m\u001b[0;34m\u001b[0m\u001b[0m\n\u001b[0m\u001b[1;32m    239\u001b[0m             \u001b[0;32mif\u001b[0m \u001b[0;32mnot\u001b[0m \u001b[0m_is_indexed_like\u001b[0m\u001b[0;34m(\u001b[0m\u001b[0mres\u001b[0m\u001b[0;34m,\u001b[0m \u001b[0mgroup_axes\u001b[0m\u001b[0;34m,\u001b[0m \u001b[0maxis\u001b[0m\u001b[0;34m)\u001b[0m\u001b[0;34m:\u001b[0m\u001b[0;34m\u001b[0m\u001b[0;34m\u001b[0m\u001b[0m\n\u001b[1;32m    240\u001b[0m                 \u001b[0mmutated\u001b[0m \u001b[0;34m=\u001b[0m \u001b[0;32mTrue\u001b[0m\u001b[0;34m\u001b[0m\u001b[0;34m\u001b[0m\u001b[0m\n",
      "\u001b[0;31mTypeError\u001b[0m: 'str' object is not callable"
     ]
    }
   ],
   "source": [
    "df_AV.groupby('VisitType').apply(df_AV['VisitStatus'].value_counts().idxmax()) "
   ]
  },
  {
   "cell_type": "markdown",
   "metadata": {},
   "source": [
    "Q42. Using loc , get the details of the providers where providerId is between 11 and 20 and ProviderSpecialty is Surgery."
   ]
  },
  {
   "cell_type": "code",
   "execution_count": 19,
   "metadata": {},
   "outputs": [
    {
     "data": {
      "text/plain": [
       "ProviderID\n",
       "11       Kim Kimberly\n",
       "12           Sarah Ab\n",
       "13    Abigail Marriot\n",
       "14            Dave Yu\n",
       "15    Christian Saint\n",
       "16       Perry Pardon\n",
       "Name: ProviderName, dtype: object"
      ]
     },
     "execution_count": 19,
     "metadata": {},
     "output_type": "execute_result"
    }
   ],
   "source": [
    "df_P_temp = df_P.set_index('ProviderID') \n",
    "(df_P_temp.loc[df_P_temp['ProviderSpecialty']== \"Surgery\",'ProviderName']).loc[11:20]"
   ]
  },
  {
   "cell_type": "markdown",
   "metadata": {},
   "source": [
    "Q52. Retrieve the row with minimum DBP using sorting technique."
   ]
  },
  {
   "cell_type": "code",
   "execution_count": 20,
   "metadata": {},
   "outputs": [
    {
     "data": {
      "text/html": [
       "<div>\n",
       "<style scoped>\n",
       "    .dataframe tbody tr th:only-of-type {\n",
       "        vertical-align: middle;\n",
       "    }\n",
       "\n",
       "    .dataframe tbody tr th {\n",
       "        vertical-align: top;\n",
       "    }\n",
       "\n",
       "    .dataframe thead th {\n",
       "        text-align: right;\n",
       "    }\n",
       "</style>\n",
       "<table border=\"1\" class=\"dataframe\">\n",
       "  <thead>\n",
       "    <tr style=\"text-align: right;\">\n",
       "      <th></th>\n",
       "      <th>VisitID</th>\n",
       "      <th>PatientMRN</th>\n",
       "      <th>ProviderID</th>\n",
       "      <th>DateofVisit</th>\n",
       "      <th>DateScheduled</th>\n",
       "      <th>VisitDepartmentID</th>\n",
       "      <th>VisitType</th>\n",
       "      <th>BloodPressureSystolic</th>\n",
       "      <th>BloodPressureDiastolic</th>\n",
       "      <th>Pulse</th>\n",
       "      <th>VisitStatus</th>\n",
       "    </tr>\n",
       "  </thead>\n",
       "  <tbody>\n",
       "    <tr>\n",
       "      <th>757</th>\n",
       "      <td>163</td>\n",
       "      <td>801</td>\n",
       "      <td>11</td>\n",
       "      <td>2019-02-08</td>\n",
       "      <td>2019-02-07 23:41:12.180570</td>\n",
       "      <td>7</td>\n",
       "      <td>Follow Up</td>\n",
       "      <td>120.0</td>\n",
       "      <td>51.695653</td>\n",
       "      <td>53.310495</td>\n",
       "      <td>Completed</td>\n",
       "    </tr>\n",
       "    <tr>\n",
       "      <th>456</th>\n",
       "      <td>32</td>\n",
       "      <td>35</td>\n",
       "      <td>32</td>\n",
       "      <td>2019-02-01</td>\n",
       "      <td>2019-01-14 23:07:20.014656</td>\n",
       "      <td>8</td>\n",
       "      <td>New</td>\n",
       "      <td>121.0</td>\n",
       "      <td>54.099878</td>\n",
       "      <td>80.480990</td>\n",
       "      <td>Completed</td>\n",
       "    </tr>\n",
       "    <tr>\n",
       "      <th>118</th>\n",
       "      <td>214</td>\n",
       "      <td>852</td>\n",
       "      <td>38</td>\n",
       "      <td>2019-03-31</td>\n",
       "      <td>2019-03-14 18:17:19.978922</td>\n",
       "      <td>10</td>\n",
       "      <td>Physical</td>\n",
       "      <td>123.0</td>\n",
       "      <td>54.285242</td>\n",
       "      <td>93.909856</td>\n",
       "      <td>No Show</td>\n",
       "    </tr>\n",
       "    <tr>\n",
       "      <th>231</th>\n",
       "      <td>909</td>\n",
       "      <td>860</td>\n",
       "      <td>3</td>\n",
       "      <td>2019-04-21</td>\n",
       "      <td>2019-04-12 20:49:25.742060</td>\n",
       "      <td>5</td>\n",
       "      <td>Telemedicine</td>\n",
       "      <td>122.0</td>\n",
       "      <td>56.594973</td>\n",
       "      <td>85.179520</td>\n",
       "      <td>Completed</td>\n",
       "    </tr>\n",
       "    <tr>\n",
       "      <th>545</th>\n",
       "      <td>372</td>\n",
       "      <td>557</td>\n",
       "      <td>3</td>\n",
       "      <td>2019-02-21</td>\n",
       "      <td>2019-02-13 13:05:43.262670</td>\n",
       "      <td>11</td>\n",
       "      <td>Follow Up</td>\n",
       "      <td>125.0</td>\n",
       "      <td>57.043944</td>\n",
       "      <td>73.071398</td>\n",
       "      <td>Completed</td>\n",
       "    </tr>\n",
       "    <tr>\n",
       "      <th>...</th>\n",
       "      <td>...</td>\n",
       "      <td>...</td>\n",
       "      <td>...</td>\n",
       "      <td>...</td>\n",
       "      <td>...</td>\n",
       "      <td>...</td>\n",
       "      <td>...</td>\n",
       "      <td>...</td>\n",
       "      <td>...</td>\n",
       "      <td>...</td>\n",
       "      <td>...</td>\n",
       "    </tr>\n",
       "    <tr>\n",
       "      <th>805</th>\n",
       "      <td>666</td>\n",
       "      <td>818</td>\n",
       "      <td>33</td>\n",
       "      <td>2019-02-09</td>\n",
       "      <td>2019-02-01 02:22:14.760665</td>\n",
       "      <td>10</td>\n",
       "      <td>Physical</td>\n",
       "      <td>NaN</td>\n",
       "      <td>NaN</td>\n",
       "      <td>NaN</td>\n",
       "      <td>Completed</td>\n",
       "    </tr>\n",
       "    <tr>\n",
       "      <th>807</th>\n",
       "      <td>555</td>\n",
       "      <td>72</td>\n",
       "      <td>35</td>\n",
       "      <td>2019-04-30</td>\n",
       "      <td>2019-04-02 08:38:32.356866</td>\n",
       "      <td>7</td>\n",
       "      <td>Follow Up</td>\n",
       "      <td>NaN</td>\n",
       "      <td>NaN</td>\n",
       "      <td>NaN</td>\n",
       "      <td>Completed</td>\n",
       "    </tr>\n",
       "    <tr>\n",
       "      <th>808</th>\n",
       "      <td>645</td>\n",
       "      <td>90</td>\n",
       "      <td>37</td>\n",
       "      <td>2019-03-16</td>\n",
       "      <td>2019-02-16 17:45:16.907732</td>\n",
       "      <td>1</td>\n",
       "      <td>Telemedicine</td>\n",
       "      <td>NaN</td>\n",
       "      <td>NaN</td>\n",
       "      <td>NaN</td>\n",
       "      <td>Completed</td>\n",
       "    </tr>\n",
       "    <tr>\n",
       "      <th>810</th>\n",
       "      <td>773</td>\n",
       "      <td>858</td>\n",
       "      <td>24</td>\n",
       "      <td>2019-03-12</td>\n",
       "      <td>2019-02-25 02:59:43.233029</td>\n",
       "      <td>2</td>\n",
       "      <td>Follow Up</td>\n",
       "      <td>NaN</td>\n",
       "      <td>NaN</td>\n",
       "      <td>NaN</td>\n",
       "      <td>Completed</td>\n",
       "    </tr>\n",
       "    <tr>\n",
       "      <th>813</th>\n",
       "      <td>895</td>\n",
       "      <td>913</td>\n",
       "      <td>31</td>\n",
       "      <td>2019-04-07</td>\n",
       "      <td>2019-03-23 15:12:55.425985</td>\n",
       "      <td>7</td>\n",
       "      <td>New</td>\n",
       "      <td>NaN</td>\n",
       "      <td>NaN</td>\n",
       "      <td>NaN</td>\n",
       "      <td>Completed</td>\n",
       "    </tr>\n",
       "  </tbody>\n",
       "</table>\n",
       "<p>950 rows × 11 columns</p>\n",
       "</div>"
      ],
      "text/plain": [
       "     VisitID  PatientMRN  ProviderID DateofVisit              DateScheduled  \\\n",
       "757      163         801          11  2019-02-08 2019-02-07 23:41:12.180570   \n",
       "456       32          35          32  2019-02-01 2019-01-14 23:07:20.014656   \n",
       "118      214         852          38  2019-03-31 2019-03-14 18:17:19.978922   \n",
       "231      909         860           3  2019-04-21 2019-04-12 20:49:25.742060   \n",
       "545      372         557           3  2019-02-21 2019-02-13 13:05:43.262670   \n",
       "..       ...         ...         ...         ...                        ...   \n",
       "805      666         818          33  2019-02-09 2019-02-01 02:22:14.760665   \n",
       "807      555          72          35  2019-04-30 2019-04-02 08:38:32.356866   \n",
       "808      645          90          37  2019-03-16 2019-02-16 17:45:16.907732   \n",
       "810      773         858          24  2019-03-12 2019-02-25 02:59:43.233029   \n",
       "813      895         913          31  2019-04-07 2019-03-23 15:12:55.425985   \n",
       "\n",
       "     VisitDepartmentID     VisitType  BloodPressureSystolic  \\\n",
       "757                  7     Follow Up                  120.0   \n",
       "456                  8           New                  121.0   \n",
       "118                 10      Physical                  123.0   \n",
       "231                  5  Telemedicine                  122.0   \n",
       "545                 11     Follow Up                  125.0   \n",
       "..                 ...           ...                    ...   \n",
       "805                 10      Physical                    NaN   \n",
       "807                  7     Follow Up                    NaN   \n",
       "808                  1  Telemedicine                    NaN   \n",
       "810                  2     Follow Up                    NaN   \n",
       "813                  7           New                    NaN   \n",
       "\n",
       "     BloodPressureDiastolic      Pulse VisitStatus  \n",
       "757               51.695653  53.310495   Completed  \n",
       "456               54.099878  80.480990   Completed  \n",
       "118               54.285242  93.909856     No Show  \n",
       "231               56.594973  85.179520   Completed  \n",
       "545               57.043944  73.071398   Completed  \n",
       "..                      ...        ...         ...  \n",
       "805                     NaN        NaN   Completed  \n",
       "807                     NaN        NaN   Completed  \n",
       "808                     NaN        NaN   Completed  \n",
       "810                     NaN        NaN   Completed  \n",
       "813                     NaN        NaN   Completed  \n",
       "\n",
       "[950 rows x 11 columns]"
      ]
     },
     "execution_count": 20,
     "metadata": {},
     "output_type": "execute_result"
    }
   ],
   "source": [
    "r= df_AV.sort_values(by=\"BloodPressureDiastolic\", ascending=True)\n",
    "r"
   ]
  },
  {
   "cell_type": "code",
   "execution_count": 21,
   "metadata": {},
   "outputs": [
    {
     "data": {
      "text/plain": [
       "VisitID                                          163\n",
       "PatientMRN                                       801\n",
       "ProviderID                                        11\n",
       "DateofVisit                      2019-02-08 00:00:00\n",
       "DateScheduled             2019-02-07 23:41:12.180570\n",
       "VisitDepartmentID                                  7\n",
       "VisitType                                  Follow Up\n",
       "BloodPressureSystolic                          120.0\n",
       "BloodPressureDiastolic                     51.695653\n",
       "Pulse                                      53.310495\n",
       "VisitStatus                                Completed\n",
       "Name: 757, dtype: object"
      ]
     },
     "execution_count": 21,
     "metadata": {},
     "output_type": "execute_result"
    }
   ],
   "source": [
    "r.iloc[0]"
   ]
  },
  {
   "cell_type": "markdown",
   "metadata": {},
   "source": [
    "Q53. Take the ReasonForVisit from user, find the number of patients admitted with that ReasonForVisit."
   ]
  },
  {
   "cell_type": "code",
   "execution_count": 103,
   "metadata": {},
   "outputs": [
    {
     "data": {
      "text/plain": [
       "ReasonForVisit\n",
       "Accident                39\n",
       "Bleeding                31\n",
       "Car Accident            17\n",
       "Chest Pain             109\n",
       "Cough                    1\n",
       "Fever                  234\n",
       "Gun Shot                16\n",
       "Intoxication            30\n",
       "Laceration              30\n",
       "Migraine               156\n",
       "Pneumonia              201\n",
       "Shortness of Breath    149\n",
       "Stomach Ache           186\n",
       "Name: PatientID, dtype: int64"
      ]
     },
     "execution_count": 103,
     "metadata": {},
     "output_type": "execute_result"
    }
   ],
   "source": [
    "#the number of patients admitted to each ReasonForVisit are as follows\n",
    "(df_EDV.groupby([\"ReasonForVisit\"])).count()[\"PatientID\"]"
   ]
  },
  {
   "cell_type": "code",
   "execution_count": 104,
   "metadata": {},
   "outputs": [
    {
     "name": "stdout",
     "output_type": "stream",
     "text": [
      "Accident\n",
      "Bleeding\n",
      "Car Accident\n",
      "Chest Pain\n",
      "Cough\n",
      "Fever\n",
      "Gun Shot\n",
      "Intoxication\n",
      "Laceration\n",
      "Migraine\n",
      "Pneumonia\n",
      "Shortness of Breath\n",
      "Stomach Ache\n"
     ]
    }
   ],
   "source": [
    "#prompt the user the list to select from\n",
    "ReasonForVisit_List = ['Accident', 'Bleeding', 'Car Accident', 'Chest Pain', 'Cough', 'Fever', 'Gun Shot', 'Intoxication', 'Laceration', 'Migraine', 'Pneumonia', 'Shortness of Breath', 'Stomach Ache']\n",
    "for i in ReasonForVisit_List:\n",
    "    print(i)"
   ]
  },
  {
   "cell_type": "code",
   "execution_count": null,
   "metadata": {},
   "outputs": [],
   "source": [
    "#get a user input\n",
    "user_input =input(\"Enter the ReasonForVisit from the list.  \")\n",
    "user_input"
   ]
  },
  {
   "cell_type": "code",
   "execution_count": null,
   "metadata": {},
   "outputs": [],
   "source": [
    "if user_input in ReasonForVisit_List:\n",
    "    patient_count = (df_EDV.groupby([\"ReasonForVisit\"])).count()[\"PatientID\"].loc[user_input]\n",
    "    print(f\"the number of patients admitted to {user_input} are {patient_count} \")\n",
    "else :\n",
    "    print(\"wrong value\")    "
   ]
  },
  {
   "cell_type": "markdown",
   "metadata": {},
   "source": [
    "Q54. Mortality O.E."
   ]
  },
  {
   "cell_type": "code",
   "execution_count": 70,
   "metadata": {},
   "outputs": [
    {
     "data": {
      "text/plain": [
       "Home        577\n",
       "Expired     104\n",
       "Transfer     39\n",
       "Name: DischargeDisposition, dtype: int64"
      ]
     },
     "execution_count": 70,
     "metadata": {},
     "output_type": "execute_result"
    }
   ],
   "source": [
    "df_RR[\"DischargeDisposition\"].value_counts()"
   ]
  },
  {
   "cell_type": "code",
   "execution_count": 71,
   "metadata": {},
   "outputs": [
    {
     "data": {
      "text/plain": [
       "104"
      ]
     },
     "execution_count": 71,
     "metadata": {},
     "output_type": "execute_result"
    }
   ],
   "source": [
    "ObeservedMortality = df_RR[\"DischargeDisposition\"].value_counts()['Expired']\n",
    "ObeservedMortality"
   ]
  },
  {
   "cell_type": "code",
   "execution_count": 72,
   "metadata": {},
   "outputs": [
    {
     "data": {
      "text/plain": [
       "720"
      ]
     },
     "execution_count": 72,
     "metadata": {},
     "output_type": "execute_result"
    }
   ],
   "source": [
    "ExpectedMortality = df_RR[\"ExpectedMortality\"].count()\n",
    "ExpectedMortality"
   ]
  },
  {
   "cell_type": "code",
   "execution_count": 73,
   "metadata": {},
   "outputs": [
    {
     "data": {
      "text/plain": [
       "0.14444444444444443"
      ]
     },
     "execution_count": 73,
     "metadata": {},
     "output_type": "execute_result"
    }
   ],
   "source": [
    "Mortality_O_E = ObeservedMortality / ExpectedMortality\n",
    "Mortality_O_E"
   ]
  },
  {
   "cell_type": "markdown",
   "metadata": {},
   "source": [
    "Q64. \"Using numpy functions, multiply the following arrays\n",
    "a=np.arange(6).reshape(2,3)\n",
    "b=np.arange(6).reshape(3,2)\""
   ]
  },
  {
   "cell_type": "code",
   "execution_count": 74,
   "metadata": {},
   "outputs": [
    {
     "data": {
      "text/plain": [
       "array([[0, 1, 2],\n",
       "       [3, 4, 5]])"
      ]
     },
     "execution_count": 74,
     "metadata": {},
     "output_type": "execute_result"
    }
   ],
   "source": [
    "a=np.arange(6).reshape(2,3)\n",
    "b=np.arange(6).reshape(3,2)\n",
    "a"
   ]
  },
  {
   "cell_type": "code",
   "execution_count": 75,
   "metadata": {},
   "outputs": [
    {
     "data": {
      "text/plain": [
       "array([[0, 1],\n",
       "       [2, 3],\n",
       "       [4, 5]])"
      ]
     },
     "execution_count": 75,
     "metadata": {},
     "output_type": "execute_result"
    }
   ],
   "source": [
    "b"
   ]
  },
  {
   "cell_type": "code",
   "execution_count": 76,
   "metadata": {},
   "outputs": [
    {
     "data": {
      "text/plain": [
       "array([[10, 13],\n",
       "       [28, 40]])"
      ]
     },
     "execution_count": 76,
     "metadata": {},
     "output_type": "execute_result"
    }
   ],
   "source": [
    "np.dot(a,b)"
   ]
  },
  {
   "cell_type": "markdown",
   "metadata": {},
   "source": [
    "Q65. Get the  number of patients based on service and primary diagnosis."
   ]
  },
  {
   "cell_type": "code",
   "execution_count": 82,
   "metadata": {},
   "outputs": [
    {
     "data": {
      "text/plain": [
       "Service           PrimaryDiagnosis  \n",
       "Cardiology        AMI                   40\n",
       "                  Afib                  10\n",
       "                  Broken Leg             3\n",
       "                  Flu                    2\n",
       "                  Heart Failure         39\n",
       "                  Kidney Failure         1\n",
       "General Medicine  Broken Leg             3\n",
       "                  Diabetes              38\n",
       "                  Fever                 13\n",
       "                  Flu                   54\n",
       "                  Hypertension          35\n",
       "                  Kidney Failure        12\n",
       "                  Laceration            21\n",
       "                  Pneumonia             67\n",
       "                  Stroke                20\n",
       "Hospitalist       AMI                    1\n",
       "                  Broken Leg             3\n",
       "                  Diabetes              26\n",
       "                  Fever                  3\n",
       "                  Flu                   19\n",
       "                  Hypertension           6\n",
       "                  Kidney Failure         6\n",
       "                  Knee Replacement       1\n",
       "                  Laceration             7\n",
       "                  Pneumonia             28\n",
       "                  Stroke                 1\n",
       "ICU               AMI                    5\n",
       "                  Afib                   1\n",
       "                  Fever                  3\n",
       "                  Flu                    3\n",
       "                  Heart Failure         33\n",
       "                  Hypertension           4\n",
       "                  Kidney Failure         1\n",
       "                  Laceration             1\n",
       "                  Pneumonia             77\n",
       "                  Spinal Cord Injury     2\n",
       "                  Stroke                21\n",
       "Neurology         AMI                    2\n",
       "                  Flu                    2\n",
       "                  Heart Failure          6\n",
       "                  Hypertension           5\n",
       "                  Migraine              12\n",
       "                  Pain                   7\n",
       "                  Pneumonia              5\n",
       "                  Stroke                26\n",
       "Orthopeadics      Hip Fracture          23\n",
       "                  Knee Replacement      22\n",
       "Name: PatientID, dtype: int64"
      ]
     },
     "execution_count": 82,
     "metadata": {},
     "output_type": "execute_result"
    }
   ],
   "source": [
    "df_RR.groupby([\"Service\", \"PrimaryDiagnosis\"]).count()[\"PatientID\"]"
   ]
  },
  {
   "cell_type": "markdown",
   "metadata": {},
   "source": [
    "Q66. np.arange(1,31).reshape(6,5), find array slicing to get the elements 4,5,24,25,29,30."
   ]
  },
  {
   "cell_type": "code",
   "execution_count": 83,
   "metadata": {},
   "outputs": [
    {
     "data": {
      "text/plain": [
       "array([[ 1,  2,  3,  4,  5],\n",
       "       [ 6,  7,  8,  9, 10],\n",
       "       [11, 12, 13, 14, 15],\n",
       "       [16, 17, 18, 19, 20],\n",
       "       [21, 22, 23, 24, 25],\n",
       "       [26, 27, 28, 29, 30]])"
      ]
     },
     "execution_count": 83,
     "metadata": {},
     "output_type": "execute_result"
    }
   ],
   "source": [
    "array1 = np.arange(1,31).reshape(6,5)\n",
    "array1"
   ]
  },
  {
   "cell_type": "code",
   "execution_count": 84,
   "metadata": {},
   "outputs": [
    {
     "data": {
      "text/plain": [
       "array([[ 4,  5],\n",
       "       [24, 25],\n",
       "       [29, 30]])"
      ]
     },
     "execution_count": 84,
     "metadata": {},
     "output_type": "execute_result"
    }
   ],
   "source": [
    "array1[[0,4,5], 3:5]"
   ]
  },
  {
   "cell_type": "markdown",
   "metadata": {},
   "source": [
    "Q76. Reverse the string without using inbuilt functions."
   ]
  },
  {
   "cell_type": "code",
   "execution_count": 85,
   "metadata": {},
   "outputs": [
    {
     "data": {
      "text/plain": [
       "'FEDCBA'"
      ]
     },
     "execution_count": 85,
     "metadata": {},
     "output_type": "execute_result"
    }
   ],
   "source": [
    "def reverse_string(s):\n",
    "    return s[::-1]\n",
    "\n",
    "input_str = 'ABCDEF'\n",
    "reverse_string(input_str)\n"
   ]
  },
  {
   "cell_type": "markdown",
   "metadata": {},
   "source": [
    "Q77. Create a bar chart by making list on Acuity & EDDisposition column (with no duplicates) & make the hatchs onto the bar by using set_hatch() method."
   ]
  },
  {
   "cell_type": "code",
   "execution_count": 50,
   "metadata": {},
   "outputs": [],
   "source": [
    "X = df_EDV[\"Acuity\"]\n",
    "Y = df_EDV[\"EDDisposition\"]"
   ]
  },
  {
   "cell_type": "code",
   "execution_count": 51,
   "metadata": {},
   "outputs": [
    {
     "data": {
      "text/plain": [
       "<BarContainer object of 1199 artists>"
      ]
     },
     "execution_count": 51,
     "metadata": {},
     "output_type": "execute_result"
    },
    {
     "data": {
      "image/png": "[encoded data removed]",
      "text/plain": [
       "<Figure size 720x360 with 1 Axes>"
      ]
     },
     "metadata": {},
     "output_type": "display_data"
    }
   ],
   "source": [
    "fig = plt.figure(figsize = (10, 5))\n",
    "bar = plt.bar(Y, X,  width = 0.4)\n",
    "\n",
    "bar[0].set_hatch('/')\n",
    "bar[1].set_hatch('o')\n",
    "bar[2].set_hatch('*')\n",
    "bar[3].set_hatch('$')\n",
    "bar[4].set_hatch('#')\n",
    "bar"
   ]
  },
  {
   "cell_type": "code",
   "execution_count": null,
   "metadata": {},
   "outputs": [],
   "source": []
  },
  {
   "cell_type": "code",
   "execution_count": null,
   "metadata": {},
   "outputs": [],
   "source": []
  },
  {
   "cell_type": "code",
   "execution_count": null,
   "metadata": {},
   "outputs": [],
   "source": []
  }
 ],
 "metadata": {
  "kernelspec": {
   "display_name": "Python 3",
   "language": "python",
   "name": "python3"
  },
  "language_info": {
   "codemirror_mode": {
    "name": "ipython",
    "version": 3
   },
   "file_extension": ".py",
   "mimetype": "text/x-python",
   "name": "python",
   "nbconvert_exporter": "python",
   "pygments_lexer": "ipython3",
   "version": "3.8.3"
  }
 },
 "nbformat": 4,
 "nbformat_minor": 4
}
