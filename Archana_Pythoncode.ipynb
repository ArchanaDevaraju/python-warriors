{
 "cells": [
  {
   "cell_type": "code",
   "execution_count": 89,
   "metadata": {},
   "outputs": [],
   "source": [
    "import numpy as np\n",
    "import pandas as pd\n",
    "import matplotlib.pyplot as plt\n",
    "import seaborn as sns"
   ]
  },
  {
   "cell_type": "code",
   "execution_count": 90,
   "metadata": {},
   "outputs": [],
   "source": [
    "#Defining all dataframes\n",
    "df_PA = pd.read_excel(\"HospitalDatabase.xlsx\", sheet_name = \"Patients\")\n",
    "df_EDV = pd.read_excel(\"HospitalDatabase.xlsx\", sheet_name = \"EDVisits\")\n",
    "df_AV = pd.read_excel(\"HospitalDatabase.xlsx\", sheet_name = \"AmbulatoryVisits\")\n",
    "df_RR = pd.read_excel(\"HospitalDatabase.xlsx\", sheet_name = \"ReAdmissionRegistry\")\n",
    "df_D = pd.read_excel(\"HospitalDatabase.xlsx\", sheet_name = \"Discharges\")\n",
    "df_P = pd.read_excel(\"HospitalDatabase.xlsx\", sheet_name = \"Providers\")\n",
    "df_EDU = pd.read_excel(\"HospitalDatabase.xlsx\", sheet_name = \"EDUnique\")"
   ]
  },
  {
   "cell_type": "markdown",
   "metadata": {},
   "source": [
    "Q4. Display data by splitting age in 4 quartiles and labeling the quartiles."
   ]
  },
  {
   "cell_type": "code",
   "execution_count": 91,
   "metadata": {},
   "outputs": [
    {
     "data": {
      "text/html": [
       "<div>\n",
       "<style scoped>\n",
       "    .dataframe tbody tr th:only-of-type {\n",
       "        vertical-align: middle;\n",
       "    }\n",
       "\n",
       "    .dataframe tbody tr th {\n",
       "        vertical-align: top;\n",
       "    }\n",
       "\n",
       "    .dataframe thead th {\n",
       "        text-align: right;\n",
       "    }\n",
       "</style>\n",
       "<table border=\"1\" class=\"dataframe\">\n",
       "  <thead>\n",
       "    <tr style=\"text-align: right;\">\n",
       "      <th></th>\n",
       "      <th>DateOfBirth</th>\n",
       "      <th>Age</th>\n",
       "    </tr>\n",
       "  </thead>\n",
       "  <tbody>\n",
       "    <tr>\n",
       "      <th>0</th>\n",
       "      <td>1960-01-01 00:00:00.000000</td>\n",
       "      <td>62</td>\n",
       "    </tr>\n",
       "    <tr>\n",
       "      <th>1</th>\n",
       "      <td>1985-11-15 02:08:42.089852</td>\n",
       "      <td>36</td>\n",
       "    </tr>\n",
       "    <tr>\n",
       "      <th>2</th>\n",
       "      <td>1976-04-15 02:52:09.762384</td>\n",
       "      <td>46</td>\n",
       "    </tr>\n",
       "    <tr>\n",
       "      <th>3</th>\n",
       "      <td>1968-10-15 03:32:13.634776</td>\n",
       "      <td>53</td>\n",
       "    </tr>\n",
       "    <tr>\n",
       "      <th>4</th>\n",
       "      <td>1962-05-01 19:12:58.949547</td>\n",
       "      <td>60</td>\n",
       "    </tr>\n",
       "    <tr>\n",
       "      <th>...</th>\n",
       "      <td>...</td>\n",
       "      <td>...</td>\n",
       "    </tr>\n",
       "    <tr>\n",
       "      <th>940</th>\n",
       "      <td>1986-05-26 00:01:19.761035</td>\n",
       "      <td>36</td>\n",
       "    </tr>\n",
       "    <tr>\n",
       "      <th>941</th>\n",
       "      <td>1970-06-10 21:41:03.814278</td>\n",
       "      <td>52</td>\n",
       "    </tr>\n",
       "    <tr>\n",
       "      <th>942</th>\n",
       "      <td>1983-01-08 21:49:27.883969</td>\n",
       "      <td>39</td>\n",
       "    </tr>\n",
       "    <tr>\n",
       "      <th>943</th>\n",
       "      <td>1963-06-05 07:57:05.569185</td>\n",
       "      <td>59</td>\n",
       "    </tr>\n",
       "    <tr>\n",
       "      <th>944</th>\n",
       "      <td>1972-08-06 03:40:03.454345</td>\n",
       "      <td>50</td>\n",
       "    </tr>\n",
       "  </tbody>\n",
       "</table>\n",
       "<p>945 rows × 2 columns</p>\n",
       "</div>"
      ],
      "text/plain": [
       "                   DateOfBirth  Age\n",
       "0   1960-01-01 00:00:00.000000   62\n",
       "1   1985-11-15 02:08:42.089852   36\n",
       "2   1976-04-15 02:52:09.762384   46\n",
       "3   1968-10-15 03:32:13.634776   53\n",
       "4   1962-05-01 19:12:58.949547   60\n",
       "..                         ...  ...\n",
       "940 1986-05-26 00:01:19.761035   36\n",
       "941 1970-06-10 21:41:03.814278   52\n",
       "942 1983-01-08 21:49:27.883969   39\n",
       "943 1963-06-05 07:57:05.569185   59\n",
       "944 1972-08-06 03:40:03.454345   50\n",
       "\n",
       "[945 rows x 2 columns]"
      ]
     },
     "execution_count": 91,
     "metadata": {},
     "output_type": "execute_result"
    }
   ],
   "source": [
    "from datetime import date\n",
    "#calculate the dates difference to get the age\n",
    "df = pd.DataFrame(data = df_PA[\"DateOfBirth\"])\n",
    "def age(birthdate):\n",
    "    today = date.today()\n",
    "    return today.year - birthdate.year - ((today.month, today.day) < (birthdate.month, birthdate.day))\n",
    "  \n",
    "df['Age'] = df['DateOfBirth'].apply(age)\n",
    "df"
   ]
  },
  {
   "cell_type": "code",
   "execution_count": 92,
   "metadata": {},
   "outputs": [
    {
     "data": {
      "image/png": "[encoded data removed]",
      "text/plain": [
       "<Figure size 576x432 with 1 Axes>"
      ]
     },
     "metadata": {},
     "output_type": "display_data"
    }
   ],
   "source": [
    "fig = plt.figure(1, figsize=(8, 6))\n",
    "ax = fig.add_subplot(111)\n",
    "\n",
    "ax.boxplot(df[\"Age\"], vert=False, manage_ticks=True)\n",
    "ax.set_xlabel('value')\n",
    "ax.set_xticks([15])\n",
    "\n",
    "ax.set_yticks([1])\n",
    "ax.set_yticklabels(['category'])\n",
    "\n",
    "quantiles = np.quantile(df[\"Age\"],[0,0.25,0.5,0.75,1])\n",
    "ax.vlines(quantiles, [0] * quantiles.size, [1] * quantiles.size, label = 'quantiles',\n",
    "          color='b', ls=':', lw=0.5, zorder=0)\n",
    "ax.set_ylim(0.5, 1.5)\n",
    "ax.set_xticks(quantiles)\n",
    "plt.show()"
   ]
  },
  {
   "cell_type": "markdown",
   "metadata": {},
   "source": [
    "Q5. Display full name of patients who are born in 1986."
   ]
  },
  {
   "cell_type": "code",
   "execution_count": 94,
   "metadata": {},
   "outputs": [
    {
     "data": {
      "text/html": [
       "<div>\n",
       "<style scoped>\n",
       "    .dataframe tbody tr th:only-of-type {\n",
       "        vertical-align: middle;\n",
       "    }\n",
       "\n",
       "    .dataframe tbody tr th {\n",
       "        vertical-align: top;\n",
       "    }\n",
       "\n",
       "    .dataframe thead th {\n",
       "        text-align: right;\n",
       "    }\n",
       "</style>\n",
       "<table border=\"1\" class=\"dataframe\">\n",
       "  <thead>\n",
       "    <tr style=\"text-align: right;\">\n",
       "      <th></th>\n",
       "      <th>FirstName</th>\n",
       "      <th>LastName</th>\n",
       "    </tr>\n",
       "    <tr>\n",
       "      <th>DateOfBirth</th>\n",
       "      <th></th>\n",
       "      <th></th>\n",
       "    </tr>\n",
       "  </thead>\n",
       "  <tbody>\n",
       "    <tr>\n",
       "      <th>1986-05-31 09:36:05.715918</th>\n",
       "      <td>Gabriel</td>\n",
       "      <td>Joseph</td>\n",
       "    </tr>\n",
       "    <tr>\n",
       "      <th>1986-07-24 17:36:00.791027</th>\n",
       "      <td>Lincoln</td>\n",
       "      <td>Brenda</td>\n",
       "    </tr>\n",
       "    <tr>\n",
       "      <th>1986-11-26 10:44:22.627622</th>\n",
       "      <td>Ala</td>\n",
       "      <td>Halpert</td>\n",
       "    </tr>\n",
       "    <tr>\n",
       "      <th>1986-01-08 02:34:04.595766</th>\n",
       "      <td>Lolita</td>\n",
       "      <td>Darci</td>\n",
       "    </tr>\n",
       "    <tr>\n",
       "      <th>1986-05-29 00:35:58.693977</th>\n",
       "      <td>Fadel</td>\n",
       "      <td>Bernardt</td>\n",
       "    </tr>\n",
       "    <tr>\n",
       "      <th>1986-02-11 06:22:40.733949</th>\n",
       "      <td>Bentley</td>\n",
       "      <td>Kippax</td>\n",
       "    </tr>\n",
       "    <tr>\n",
       "      <th>1986-04-15 00:49:58.689775</th>\n",
       "      <td>Vale</td>\n",
       "      <td>Olanda</td>\n",
       "    </tr>\n",
       "    <tr>\n",
       "      <th>1986-11-19 23:50:47.954773</th>\n",
       "      <td>Britt</td>\n",
       "      <td>Dureden</td>\n",
       "    </tr>\n",
       "    <tr>\n",
       "      <th>1986-07-10 16:27:30.640009</th>\n",
       "      <td>Cristabel</td>\n",
       "      <td>Chatel</td>\n",
       "    </tr>\n",
       "    <tr>\n",
       "      <th>1986-03-26 06:37:22.524858</th>\n",
       "      <td>Constantia</td>\n",
       "      <td>Group</td>\n",
       "    </tr>\n",
       "    <tr>\n",
       "      <th>1986-12-19 21:34:24.471963</th>\n",
       "      <td>Morgan</td>\n",
       "      <td>Scrowston</td>\n",
       "    </tr>\n",
       "    <tr>\n",
       "      <th>1986-07-26 14:43:49.240196</th>\n",
       "      <td>Dom</td>\n",
       "      <td>Baglow</td>\n",
       "    </tr>\n",
       "    <tr>\n",
       "      <th>1986-12-25 03:40:43.883965</th>\n",
       "      <td>Ignazio</td>\n",
       "      <td>Melling</td>\n",
       "    </tr>\n",
       "    <tr>\n",
       "      <th>1986-02-24 15:08:30.403900</th>\n",
       "      <td>Homenick</td>\n",
       "      <td>Rings</td>\n",
       "    </tr>\n",
       "    <tr>\n",
       "      <th>1986-10-13 10:40:43.596111</th>\n",
       "      <td>Hashim</td>\n",
       "      <td>Slark</td>\n",
       "    </tr>\n",
       "    <tr>\n",
       "      <th>1986-05-21 16:35:52.711107</th>\n",
       "      <td>Ellie</td>\n",
       "      <td>Ramsbotham</td>\n",
       "    </tr>\n",
       "    <tr>\n",
       "      <th>1986-11-09 17:15:11.196053</th>\n",
       "      <td>Llewellyn</td>\n",
       "      <td>Group</td>\n",
       "    </tr>\n",
       "    <tr>\n",
       "      <th>1986-12-15 06:31:44.357626</th>\n",
       "      <td>Niles</td>\n",
       "      <td>Shaw</td>\n",
       "    </tr>\n",
       "    <tr>\n",
       "      <th>1986-11-23 02:32:12.587272</th>\n",
       "      <td>Yvette</td>\n",
       "      <td>Inc</td>\n",
       "    </tr>\n",
       "    <tr>\n",
       "      <th>1986-04-28 03:25:01.181816</th>\n",
       "      <td>Siouxie</td>\n",
       "      <td>Group</td>\n",
       "    </tr>\n",
       "    <tr>\n",
       "      <th>1986-11-21 02:44:49.631755</th>\n",
       "      <td>Carly</td>\n",
       "      <td>Group</td>\n",
       "    </tr>\n",
       "    <tr>\n",
       "      <th>1986-12-22 08:21:02.690580</th>\n",
       "      <td>Worth</td>\n",
       "      <td>Pickering</td>\n",
       "    </tr>\n",
       "    <tr>\n",
       "      <th>1986-04-10 13:18:15.353947</th>\n",
       "      <td>Arni</td>\n",
       "      <td>Baldack</td>\n",
       "    </tr>\n",
       "    <tr>\n",
       "      <th>1986-05-23 19:23:27.751803</th>\n",
       "      <td>Kuvalis</td>\n",
       "      <td>Coupland</td>\n",
       "    </tr>\n",
       "    <tr>\n",
       "      <th>1986-09-29 11:58:56.982679</th>\n",
       "      <td>Rebbecca</td>\n",
       "      <td>Rollingson</td>\n",
       "    </tr>\n",
       "    <tr>\n",
       "      <th>1986-05-26 00:01:19.761035</th>\n",
       "      <td>Wat</td>\n",
       "      <td>Fideler</td>\n",
       "    </tr>\n",
       "  </tbody>\n",
       "</table>\n",
       "</div>"
      ],
      "text/plain": [
       "                             FirstName    LastName\n",
       "DateOfBirth                                       \n",
       "1986-05-31 09:36:05.715918    Gabriel       Joseph\n",
       "1986-07-24 17:36:00.791027    Lincoln       Brenda\n",
       "1986-11-26 10:44:22.627622         Ala     Halpert\n",
       "1986-01-08 02:34:04.595766      Lolita       Darci\n",
       "1986-05-29 00:35:58.693977       Fadel    Bernardt\n",
       "1986-02-11 06:22:40.733949     Bentley      Kippax\n",
       "1986-04-15 00:49:58.689775        Vale      Olanda\n",
       "1986-11-19 23:50:47.954773       Britt     Dureden\n",
       "1986-07-10 16:27:30.640009   Cristabel      Chatel\n",
       "1986-03-26 06:37:22.524858  Constantia       Group\n",
       "1986-12-19 21:34:24.471963      Morgan   Scrowston\n",
       "1986-07-26 14:43:49.240196         Dom      Baglow\n",
       "1986-12-25 03:40:43.883965     Ignazio     Melling\n",
       "1986-02-24 15:08:30.403900    Homenick       Rings\n",
       "1986-10-13 10:40:43.596111      Hashim       Slark\n",
       "1986-05-21 16:35:52.711107       Ellie  Ramsbotham\n",
       "1986-11-09 17:15:11.196053   Llewellyn       Group\n",
       "1986-12-15 06:31:44.357626       Niles        Shaw\n",
       "1986-11-23 02:32:12.587272      Yvette         Inc\n",
       "1986-04-28 03:25:01.181816     Siouxie       Group\n",
       "1986-11-21 02:44:49.631755       Carly       Group\n",
       "1986-12-22 08:21:02.690580       Worth   Pickering\n",
       "1986-04-10 13:18:15.353947        Arni     Baldack\n",
       "1986-05-23 19:23:27.751803     Kuvalis    Coupland\n",
       "1986-09-29 11:58:56.982679    Rebbecca  Rollingson\n",
       "1986-05-26 00:01:19.761035         Wat     Fideler"
      ]
     },
     "execution_count": 94,
     "metadata": {},
     "output_type": "execute_result"
    }
   ],
   "source": [
    "df.temp = df_PA.set_index([\"DateOfBirth\"])\n",
    "df1 = df_temp.loc[\"1986\"]\n",
    "df1[[\"FirstName\", \"LastName\"]]"
   ]
  },
  {
   "cell_type": "markdown",
   "metadata": {},
   "source": [
    "Q6. Create a jointplot on expected mortality & expected length of stay."
   ]
  },
  {
   "cell_type": "code",
   "execution_count": 95,
   "metadata": {},
   "outputs": [
    {
     "data": {
      "text/plain": [
       "<seaborn.axisgrid.JointGrid at 0x7f87ba398e20>"
      ]
     },
     "execution_count": 95,
     "metadata": {},
     "output_type": "execute_result"
    },
    {
     "data": {
      "image/png": "[encoded data removed]",
      "text/plain": [
       "<Figure size 504x504 with 3 Axes>"
      ]
     },
     "metadata": {},
     "output_type": "display_data"
    }
   ],
   "source": [
    "sns.jointplot(data=df_RR, x='ExpectedMortality',y='ExpectedLOS', kind =\"kde\", height = 7, ratio = 2)"
   ]
  },
  {
   "cell_type": "markdown",
   "metadata": {},
   "source": [
    "Q16. Plot a graph to show the distribution of expected length of stay."
   ]
  },
  {
   "cell_type": "code",
   "execution_count": 96,
   "metadata": {},
   "outputs": [
    {
     "data": {
      "text/plain": [
       "<AxesSubplot:xlabel='ExpectedLOS'>"
      ]
     },
     "execution_count": 96,
     "metadata": {},
     "output_type": "execute_result"
    },
    {
     "data": {
      "image/png": "[encoded data removed]",
      "text/plain": [
       "<Figure size 432x288 with 1 Axes>"
      ]
     },
     "metadata": {},
     "output_type": "display_data"
    }
   ],
   "source": [
    "sns.set_style('whitegrid')\n",
    "sns.distplot(df_RR['ExpectedLOS'],kde=False, color='green', bins=15)"
   ]
  },
  {
   "cell_type": "markdown",
   "metadata": {},
   "source": [
    "distribution shows the maximum occurances is between 4 to 5 and then 10 to 11."
   ]
  },
  {
   "cell_type": "markdown",
   "metadata": {},
   "source": [
    "Q17. Create a heat map to show the correlation between the column values of Edvisits."
   ]
  },
  {
   "cell_type": "code",
   "execution_count": 97,
   "metadata": {},
   "outputs": [
    {
     "data": {
      "text/html": [
       "<div>\n",
       "<style scoped>\n",
       "    .dataframe tbody tr th:only-of-type {\n",
       "        vertical-align: middle;\n",
       "    }\n",
       "\n",
       "    .dataframe tbody tr th {\n",
       "        vertical-align: top;\n",
       "    }\n",
       "\n",
       "    .dataframe thead th {\n",
       "        text-align: right;\n",
       "    }\n",
       "</style>\n",
       "<table border=\"1\" class=\"dataframe\">\n",
       "  <thead>\n",
       "    <tr style=\"text-align: right;\">\n",
       "      <th></th>\n",
       "      <th>EDVisitID</th>\n",
       "      <th>PatientID</th>\n",
       "      <th>Acuity</th>\n",
       "    </tr>\n",
       "  </thead>\n",
       "  <tbody>\n",
       "    <tr>\n",
       "      <th>EDVisitID</th>\n",
       "      <td>1.000000</td>\n",
       "      <td>0.975477</td>\n",
       "      <td>0.005813</td>\n",
       "    </tr>\n",
       "    <tr>\n",
       "      <th>PatientID</th>\n",
       "      <td>0.975477</td>\n",
       "      <td>1.000000</td>\n",
       "      <td>0.003545</td>\n",
       "    </tr>\n",
       "    <tr>\n",
       "      <th>Acuity</th>\n",
       "      <td>0.005813</td>\n",
       "      <td>0.003545</td>\n",
       "      <td>1.000000</td>\n",
       "    </tr>\n",
       "  </tbody>\n",
       "</table>\n",
       "</div>"
      ],
      "text/plain": [
       "           EDVisitID  PatientID    Acuity\n",
       "EDVisitID   1.000000   0.975477  0.005813\n",
       "PatientID   0.975477   1.000000  0.003545\n",
       "Acuity      0.005813   0.003545  1.000000"
      ]
     },
     "execution_count": 97,
     "metadata": {},
     "output_type": "execute_result"
    }
   ],
   "source": [
    "tc=df_EDV.corr(method='pearson')\n",
    "tc"
   ]
  },
  {
   "cell_type": "code",
   "execution_count": 98,
   "metadata": {},
   "outputs": [
    {
     "data": {
      "text/plain": [
       "<AxesSubplot:>"
      ]
     },
     "execution_count": 98,
     "metadata": {},
     "output_type": "execute_result"
    },
    {
     "data": {
      "image/png": "[encoded data removed]",
      "text/plain": [
       "<Figure size 432x288 with 2 Axes>"
      ]
     },
     "metadata": {},
     "output_type": "display_data"
    }
   ],
   "source": [
    "sns.heatmap(tc,annot=True,vmin=0, vmax=1, cmap=\"YlGnBu\", linewidths=.5)"
   ]
  },
  {
   "cell_type": "markdown",
   "metadata": {},
   "source": [
    "Q18. Add column 'Age' in Patient table."
   ]
  },
  {
   "cell_type": "code",
   "execution_count": 99,
   "metadata": {},
   "outputs": [
    {
     "data": {
      "text/html": [
       "<div>\n",
       "<style scoped>\n",
       "    .dataframe tbody tr th:only-of-type {\n",
       "        vertical-align: middle;\n",
       "    }\n",
       "\n",
       "    .dataframe tbody tr th {\n",
       "        vertical-align: top;\n",
       "    }\n",
       "\n",
       "    .dataframe thead th {\n",
       "        text-align: right;\n",
       "    }\n",
       "</style>\n",
       "<table border=\"1\" class=\"dataframe\">\n",
       "  <thead>\n",
       "    <tr style=\"text-align: right;\">\n",
       "      <th></th>\n",
       "      <th>PatientID</th>\n",
       "      <th>FirstName</th>\n",
       "      <th>LastName</th>\n",
       "      <th>DateOfBirth</th>\n",
       "      <th>Gender</th>\n",
       "      <th>Race</th>\n",
       "      <th>Language</th>\n",
       "      <th>Age</th>\n",
       "    </tr>\n",
       "  </thead>\n",
       "  <tbody>\n",
       "    <tr>\n",
       "      <th>0</th>\n",
       "      <td>1</td>\n",
       "      <td>Lanni</td>\n",
       "      <td>Sue</td>\n",
       "      <td>1960-01-01 00:00:00.000000</td>\n",
       "      <td>Male</td>\n",
       "      <td>White</td>\n",
       "      <td>English</td>\n",
       "      <td>62</td>\n",
       "    </tr>\n",
       "    <tr>\n",
       "      <th>1</th>\n",
       "      <td>2</td>\n",
       "      <td>Far</td>\n",
       "      <td>Myers</td>\n",
       "      <td>1985-11-15 02:08:42.089852</td>\n",
       "      <td>Male</td>\n",
       "      <td>White</td>\n",
       "      <td>English</td>\n",
       "      <td>36</td>\n",
       "    </tr>\n",
       "    <tr>\n",
       "      <th>2</th>\n",
       "      <td>3</td>\n",
       "      <td>Devlin</td>\n",
       "      <td>Michael</td>\n",
       "      <td>1976-04-15 02:52:09.762384</td>\n",
       "      <td>Male</td>\n",
       "      <td>White</td>\n",
       "      <td>English</td>\n",
       "      <td>46</td>\n",
       "    </tr>\n",
       "    <tr>\n",
       "      <th>3</th>\n",
       "      <td>4</td>\n",
       "      <td>Carmine</td>\n",
       "      <td>Texas</td>\n",
       "      <td>1968-10-15 03:32:13.634776</td>\n",
       "      <td>Male</td>\n",
       "      <td>White</td>\n",
       "      <td>English</td>\n",
       "      <td>53</td>\n",
       "    </tr>\n",
       "    <tr>\n",
       "      <th>4</th>\n",
       "      <td>5</td>\n",
       "      <td>Tann</td>\n",
       "      <td>Bama</td>\n",
       "      <td>1962-05-01 19:12:58.949547</td>\n",
       "      <td>Male</td>\n",
       "      <td>White</td>\n",
       "      <td>English</td>\n",
       "      <td>60</td>\n",
       "    </tr>\n",
       "    <tr>\n",
       "      <th>...</th>\n",
       "      <td>...</td>\n",
       "      <td>...</td>\n",
       "      <td>...</td>\n",
       "      <td>...</td>\n",
       "      <td>...</td>\n",
       "      <td>...</td>\n",
       "      <td>...</td>\n",
       "      <td>...</td>\n",
       "    </tr>\n",
       "    <tr>\n",
       "      <th>940</th>\n",
       "      <td>941</td>\n",
       "      <td>Wat</td>\n",
       "      <td>Fideler</td>\n",
       "      <td>1986-05-26 00:01:19.761035</td>\n",
       "      <td>Male</td>\n",
       "      <td>Black/African-American</td>\n",
       "      <td>English</td>\n",
       "      <td>36</td>\n",
       "    </tr>\n",
       "    <tr>\n",
       "      <th>941</th>\n",
       "      <td>942</td>\n",
       "      <td>Wandie</td>\n",
       "      <td>Baythrop</td>\n",
       "      <td>1970-06-10 21:41:03.814278</td>\n",
       "      <td>Male</td>\n",
       "      <td>Black/African-American</td>\n",
       "      <td>English</td>\n",
       "      <td>52</td>\n",
       "    </tr>\n",
       "    <tr>\n",
       "      <th>942</th>\n",
       "      <td>943</td>\n",
       "      <td>Diahann</td>\n",
       "      <td>Smeeton</td>\n",
       "      <td>1983-01-08 21:49:27.883969</td>\n",
       "      <td>Male</td>\n",
       "      <td>Black/African-American</td>\n",
       "      <td>English</td>\n",
       "      <td>39</td>\n",
       "    </tr>\n",
       "    <tr>\n",
       "      <th>943</th>\n",
       "      <td>944</td>\n",
       "      <td>Panchito</td>\n",
       "      <td>Sharple</td>\n",
       "      <td>1963-06-05 07:57:05.569185</td>\n",
       "      <td>Male</td>\n",
       "      <td>Black/African-American</td>\n",
       "      <td>English</td>\n",
       "      <td>59</td>\n",
       "    </tr>\n",
       "    <tr>\n",
       "      <th>944</th>\n",
       "      <td>945</td>\n",
       "      <td>Walsh</td>\n",
       "      <td>Calvie</td>\n",
       "      <td>1972-08-06 03:40:03.454345</td>\n",
       "      <td>Male</td>\n",
       "      <td>Black/African-American</td>\n",
       "      <td>English</td>\n",
       "      <td>50</td>\n",
       "    </tr>\n",
       "  </tbody>\n",
       "</table>\n",
       "<p>945 rows × 8 columns</p>\n",
       "</div>"
      ],
      "text/plain": [
       "     PatientID FirstName  LastName                DateOfBirth Gender  \\\n",
       "0            1     Lanni       Sue 1960-01-01 00:00:00.000000   Male   \n",
       "1            2       Far     Myers 1985-11-15 02:08:42.089852   Male   \n",
       "2            3   Devlin    Michael 1976-04-15 02:52:09.762384   Male   \n",
       "3            4   Carmine     Texas 1968-10-15 03:32:13.634776   Male   \n",
       "4            5     Tann       Bama 1962-05-01 19:12:58.949547   Male   \n",
       "..         ...       ...       ...                        ...    ...   \n",
       "940        941       Wat   Fideler 1986-05-26 00:01:19.761035   Male   \n",
       "941        942    Wandie  Baythrop 1970-06-10 21:41:03.814278   Male   \n",
       "942        943   Diahann   Smeeton 1983-01-08 21:49:27.883969   Male   \n",
       "943        944  Panchito   Sharple 1963-06-05 07:57:05.569185   Male   \n",
       "944        945     Walsh    Calvie 1972-08-06 03:40:03.454345   Male   \n",
       "\n",
       "                       Race Language  Age  \n",
       "0                     White  English   62  \n",
       "1                     White  English   36  \n",
       "2                     White  English   46  \n",
       "3                     White  English   53  \n",
       "4                     White  English   60  \n",
       "..                      ...      ...  ...  \n",
       "940  Black/African-American  English   36  \n",
       "941  Black/African-American  English   52  \n",
       "942  Black/African-American  English   39  \n",
       "943  Black/African-American  English   59  \n",
       "944  Black/African-American  English   50  \n",
       "\n",
       "[945 rows x 8 columns]"
      ]
     },
     "execution_count": 99,
     "metadata": {},
     "output_type": "execute_result"
    }
   ],
   "source": [
    "from datetime import date\n",
    "df = pd.DataFrame(data = df_PA[\"DateOfBirth\"])\n",
    "def age(birthdate):\n",
    "    today = date.today()\n",
    "    return today.year - birthdate.year - ((today.month, today.day) < (birthdate.month, birthdate.day))\n",
    "  \n",
    "df_PA['Age'] = df_PA['DateOfBirth'].apply(age)\n",
    "df_PA"
   ]
  },
  {
   "cell_type": "code",
   "execution_count": null,
   "metadata": {},
   "outputs": [],
   "source": []
  },
  {
   "cell_type": "code",
   "execution_count": null,
   "metadata": {},
   "outputs": [],
   "source": []
  },
  {
   "cell_type": "code",
   "execution_count": null,
   "metadata": {},
   "outputs": [],
   "source": []
  },
  {
   "cell_type": "code",
   "execution_count": null,
   "metadata": {},
   "outputs": [],
   "source": []
  }
 ],
 "metadata": {
  "kernelspec": {
   "display_name": "Python 3",
   "language": "python",
   "name": "python3"
  },
  "language_info": {
   "codemirror_mode": {
    "name": "ipython",
    "version": 3
   },
   "file_extension": ".py",
   "mimetype": "text/x-python",
   "name": "python",
   "nbconvert_exporter": "python",
   "pygments_lexer": "ipython3",
   "version": "3.8.3"
  }
 },
 "nbformat": 4,
 "nbformat_minor": 4
}
