{
 "cells": [
  {
   "cell_type": "code",
   "execution_count": 18,
   "id": "c543acbc",
   "metadata": {},
   "outputs": [],
   "source": [
    "import pandas as pd\n",
    "import seaborn as sns\n",
    "import matplotlib.pyplot as plt\n",
    "import numpy as np"
   ]
  },
  {
   "cell_type": "code",
   "execution_count": 3,
   "id": "eefbf90e",
   "metadata": {},
   "outputs": [],
   "source": [
    "xls = pd.ExcelFile('HospitalDatabase .xlsx')\n",
    "df1 = pd.read_excel(xls, 'ReAdmissionRegistry')\n",
    "df2 = pd.read_excel(xls, 'Patients')\n",
    "df3 = pd.read_excel(xls, 'EDVisits')\n",
    "df4 = pd.read_excel(xls, 'AmbulatoryVisits')\n",
    "df5 = pd.read_excel(xls, 'Discharges')\n",
    "df6 = pd.read_excel(xls, 'Providers')\n",
    "df7 = pd.read_excel(xls, 'EDUnique')"
   ]
  },
  {
   "cell_type": "markdown",
   "id": "b20676f6",
   "metadata": {},
   "source": [
    "######  10.Creating a boxplot on ExpectedLOS by taking service into account."
   ]
  },
  {
   "cell_type": "code",
   "execution_count": 5,
   "id": "7fb5ab58",
   "metadata": {},
   "outputs": [
    {
     "data": {
      "text/plain": [
       "<AxesSubplot:xlabel='Service', ylabel='ExpectedLOS'>"
      ]
     },
     "execution_count": 5,
     "metadata": {},
     "output_type": "execute_result"
    },
    {
     "data": {
      "image/png": "[encoded data removed]",
      "text/plain": [
       "<Figure size 432x288 with 1 Axes>"
      ]
     },
     "metadata": {
      "needs_background": "light"
     },
     "output_type": "display_data"
    }
   ],
   "source": [
    "sns.boxplot(data=df1, x=\"Service\", y=\"ExpectedLOS\",  )"
   ]
  },
  {
   "cell_type": "markdown",
   "id": "7e1ced13",
   "metadata": {},
   "source": [
    "###### 11.Create a pie chart by taking Service= [\"ICU\", \"Neurology\", \"General\", \"Medicine\"] & ExpectedLOS=[10,5,7,9] & explode the wedge with highest LOS."
   ]
  },
  {
   "cell_type": "code",
   "execution_count": 6,
   "id": "dc8c5cb2",
   "metadata": {},
   "outputs": [
    {
     "data": {
      "image/png": "[encoded data removed]",
      "text/plain": [
       "<Figure size 432x288 with 1 Axes>"
      ]
     },
     "metadata": {},
     "output_type": "display_data"
    }
   ],
   "source": [
    "Service= [\"Icu\", \"Neurology\", \"General\", \"Medicine\"]\n",
    "ExpectedLOS=[10,5,7,9]\n",
    "outside=(0,0.5,0.3)\n",
    "plt.pie(ExpectedLOS,labels=Service, colors=['r','g','b','y'],explode=(0.1,0.01,0.01,0.01),textprops={'fontsize': 14})\n",
    "plt.title('Pie Chart',fontsize=20)\n",
    "plt.show()"
   ]
  },
  {
   "cell_type": "markdown",
   "id": "e28da9cf",
   "metadata": {},
   "source": [
    "###### 23. write a function to find the center element in the list. (one element in odd length list,  two elements in even length list)."
   ]
  },
  {
   "cell_type": "code",
   "execution_count": 7,
   "id": "9ea52eaa",
   "metadata": {},
   "outputs": [
    {
     "data": {
      "text/plain": [
       "2"
      ]
     },
     "execution_count": 7,
     "metadata": {},
     "output_type": "execute_result"
    }
   ],
   "source": [
    "input_list=[2,7,4,4,2,7,8,9,0]\n",
    "def findcenter(input_list):\n",
    "    center_element= float(len(input_list))/2\n",
    "    if center_element % 2 != 0:\n",
    "        return input_list[int(center_element - .5)]\n",
    "    else:\n",
    "        return (input_list[int(center_element)], input_list[int(center_element-1)])\n",
    "center=findcenter(input_list)\n",
    "center"
   ]
  },
  {
   "cell_type": "code",
   "execution_count": 11,
   "id": "5e6f4e02",
   "metadata": {},
   "outputs": [
    {
     "data": {
      "text/html": [
       "<div>\n",
       "<style scoped>\n",
       "    .dataframe tbody tr th:only-of-type {\n",
       "        vertical-align: middle;\n",
       "    }\n",
       "\n",
       "    .dataframe tbody tr th {\n",
       "        vertical-align: top;\n",
       "    }\n",
       "\n",
       "    .dataframe thead th {\n",
       "        text-align: right;\n",
       "    }\n",
       "</style>\n",
       "<table border=\"1\" class=\"dataframe\">\n",
       "  <thead>\n",
       "    <tr style=\"text-align: right;\">\n",
       "      <th></th>\n",
       "      <th>PatientID</th>\n",
       "    </tr>\n",
       "  </thead>\n",
       "  <tbody>\n",
       "    <tr>\n",
       "      <th>0</th>\n",
       "      <td>9</td>\n",
       "    </tr>\n",
       "    <tr>\n",
       "      <th>3</th>\n",
       "      <td>102</td>\n",
       "    </tr>\n",
       "    <tr>\n",
       "      <th>12</th>\n",
       "      <td>134</td>\n",
       "    </tr>\n",
       "    <tr>\n",
       "      <th>13</th>\n",
       "      <td>138</td>\n",
       "    </tr>\n",
       "    <tr>\n",
       "      <th>16</th>\n",
       "      <td>147</td>\n",
       "    </tr>\n",
       "    <tr>\n",
       "      <th>...</th>\n",
       "      <td>...</td>\n",
       "    </tr>\n",
       "    <tr>\n",
       "      <th>714</th>\n",
       "      <td>713</td>\n",
       "    </tr>\n",
       "    <tr>\n",
       "      <th>715</th>\n",
       "      <td>716</td>\n",
       "    </tr>\n",
       "    <tr>\n",
       "      <th>716</th>\n",
       "      <td>723</td>\n",
       "    </tr>\n",
       "    <tr>\n",
       "      <th>718</th>\n",
       "      <td>733</td>\n",
       "    </tr>\n",
       "    <tr>\n",
       "      <th>719</th>\n",
       "      <td>742</td>\n",
       "    </tr>\n",
       "  </tbody>\n",
       "</table>\n",
       "<p>448 rows × 1 columns</p>\n",
       "</div>"
      ],
      "text/plain": [
       "     PatientID\n",
       "0            9\n",
       "3          102\n",
       "12         134\n",
       "13         138\n",
       "16         147\n",
       "..         ...\n",
       "714        713\n",
       "715        716\n",
       "716        723\n",
       "718        733\n",
       "719        742\n",
       "\n",
       "[448 rows x 1 columns]"
      ]
     },
     "metadata": {},
     "output_type": "display_data"
    }
   ],
   "source": [
    "#Find the list of patients whose ExpectedLOS is greater than the value given by the user.\n",
    "Los=7\n",
    "display(df5[(df5['ExpectedLOS']>Los)][['PatientID']])"
   ]
  },
  {
   "cell_type": "code",
   "execution_count": 12,
   "id": "7141d9ed",
   "metadata": {},
   "outputs": [
    {
     "name": "stderr",
     "output_type": "stream",
     "text": [
      "C:\\Users\\svani\\anaconda3\\lib\\site-packages\\pandas\\core\\frame.py:3191: SettingWithCopyWarning: \n",
      "A value is trying to be set on a copy of a slice from a DataFrame.\n",
      "Try using .loc[row_indexer,col_indexer] = value instead\n",
      "\n",
      "See the caveats in the documentation: https://pandas.pydata.org/pandas-docs/stable/user_guide/indexing.html#returning-a-view-versus-a-copy\n",
      "  self[k1] = value[k2]\n"
     ]
    },
    {
     "data": {
      "text/html": [
       "<div>\n",
       "<style scoped>\n",
       "    .dataframe tbody tr th:only-of-type {\n",
       "        vertical-align: middle;\n",
       "    }\n",
       "\n",
       "    .dataframe tbody tr th {\n",
       "        vertical-align: top;\n",
       "    }\n",
       "\n",
       "    .dataframe thead th {\n",
       "        text-align: right;\n",
       "    }\n",
       "</style>\n",
       "<table border=\"1\" class=\"dataframe\">\n",
       "  <thead>\n",
       "    <tr style=\"text-align: right;\">\n",
       "      <th></th>\n",
       "      <th>ProviderName</th>\n",
       "      <th>Firstname</th>\n",
       "      <th>Lastname</th>\n",
       "    </tr>\n",
       "  </thead>\n",
       "  <tbody>\n",
       "    <tr>\n",
       "      <th>0</th>\n",
       "      <td>Sally Sue</td>\n",
       "      <td>Sally</td>\n",
       "      <td>Sue</td>\n",
       "    </tr>\n",
       "    <tr>\n",
       "      <th>1</th>\n",
       "      <td>Mike Myers</td>\n",
       "      <td>Mike</td>\n",
       "      <td>Myers</td>\n",
       "    </tr>\n",
       "    <tr>\n",
       "      <th>2</th>\n",
       "      <td>Jordan Michael</td>\n",
       "      <td>Jordan</td>\n",
       "      <td>Michael</td>\n",
       "    </tr>\n",
       "    <tr>\n",
       "      <th>3</th>\n",
       "      <td>Ted Texas</td>\n",
       "      <td>Ted</td>\n",
       "      <td>Texas</td>\n",
       "    </tr>\n",
       "    <tr>\n",
       "      <th>4</th>\n",
       "      <td>Ala Bama</td>\n",
       "      <td>Ala</td>\n",
       "      <td>Bama</td>\n",
       "    </tr>\n",
       "    <tr>\n",
       "      <th>5</th>\n",
       "      <td>Harry Kane</td>\n",
       "      <td>Harry</td>\n",
       "      <td>Kane</td>\n",
       "    </tr>\n",
       "    <tr>\n",
       "      <th>6</th>\n",
       "      <td>Barry Bar</td>\n",
       "      <td>Barry</td>\n",
       "      <td>Bar</td>\n",
       "    </tr>\n",
       "    <tr>\n",
       "      <th>7</th>\n",
       "      <td>Ted Green</td>\n",
       "      <td>Ted</td>\n",
       "      <td>Green</td>\n",
       "    </tr>\n",
       "    <tr>\n",
       "      <th>8</th>\n",
       "      <td>Ted Black</td>\n",
       "      <td>Ted</td>\n",
       "      <td>Black</td>\n",
       "    </tr>\n",
       "    <tr>\n",
       "      <th>9</th>\n",
       "      <td>Fred Man</td>\n",
       "      <td>Fred</td>\n",
       "      <td>Man</td>\n",
       "    </tr>\n",
       "    <tr>\n",
       "      <th>10</th>\n",
       "      <td>Kim Kimberly</td>\n",
       "      <td>Kim</td>\n",
       "      <td>Kimberly</td>\n",
       "    </tr>\n",
       "    <tr>\n",
       "      <th>11</th>\n",
       "      <td>Sarah Ab</td>\n",
       "      <td>Sarah</td>\n",
       "      <td>Ab</td>\n",
       "    </tr>\n",
       "    <tr>\n",
       "      <th>12</th>\n",
       "      <td>Abigail Marriot</td>\n",
       "      <td>Abigail</td>\n",
       "      <td>Marriot</td>\n",
       "    </tr>\n",
       "    <tr>\n",
       "      <th>13</th>\n",
       "      <td>Dave Yu</td>\n",
       "      <td>Dave</td>\n",
       "      <td>Yu</td>\n",
       "    </tr>\n",
       "    <tr>\n",
       "      <th>14</th>\n",
       "      <td>Christian Saint</td>\n",
       "      <td>Christian</td>\n",
       "      <td>Saint</td>\n",
       "    </tr>\n",
       "    <tr>\n",
       "      <th>15</th>\n",
       "      <td>Perry Pardon</td>\n",
       "      <td>Perry</td>\n",
       "      <td>Pardon</td>\n",
       "    </tr>\n",
       "    <tr>\n",
       "      <th>16</th>\n",
       "      <td>Kent Kendall</td>\n",
       "      <td>Kent</td>\n",
       "      <td>Kendall</td>\n",
       "    </tr>\n",
       "    <tr>\n",
       "      <th>17</th>\n",
       "      <td>Ryan Kevin</td>\n",
       "      <td>Ryan</td>\n",
       "      <td>Kevin</td>\n",
       "    </tr>\n",
       "    <tr>\n",
       "      <th>18</th>\n",
       "      <td>Tyler Conner</td>\n",
       "      <td>Tyler</td>\n",
       "      <td>Conner</td>\n",
       "    </tr>\n",
       "    <tr>\n",
       "      <th>19</th>\n",
       "      <td>Bailey Barret</td>\n",
       "      <td>Bailey</td>\n",
       "      <td>Barret</td>\n",
       "    </tr>\n",
       "    <tr>\n",
       "      <th>20</th>\n",
       "      <td>Megan Bonco</td>\n",
       "      <td>Megan</td>\n",
       "      <td>Bonco</td>\n",
       "    </tr>\n",
       "    <tr>\n",
       "      <th>21</th>\n",
       "      <td>Joesph Walter</td>\n",
       "      <td>Joesph</td>\n",
       "      <td>Walter</td>\n",
       "    </tr>\n",
       "    <tr>\n",
       "      <th>22</th>\n",
       "      <td>Walter King</td>\n",
       "      <td>Walter</td>\n",
       "      <td>King</td>\n",
       "    </tr>\n",
       "    <tr>\n",
       "      <th>23</th>\n",
       "      <td>Luke Long</td>\n",
       "      <td>Luke</td>\n",
       "      <td>Long</td>\n",
       "    </tr>\n",
       "    <tr>\n",
       "      <th>24</th>\n",
       "      <td>Justin Time</td>\n",
       "      <td>Justin</td>\n",
       "      <td>Time</td>\n",
       "    </tr>\n",
       "    <tr>\n",
       "      <th>25</th>\n",
       "      <td>Mike Joseph</td>\n",
       "      <td>Mike</td>\n",
       "      <td>Joseph</td>\n",
       "    </tr>\n",
       "    <tr>\n",
       "      <th>26</th>\n",
       "      <td>Bridget Brenda</td>\n",
       "      <td>Bridget</td>\n",
       "      <td>Brenda</td>\n",
       "    </tr>\n",
       "    <tr>\n",
       "      <th>27</th>\n",
       "      <td>Brenda Bing</td>\n",
       "      <td>Brenda</td>\n",
       "      <td>Bing</td>\n",
       "    </tr>\n",
       "    <tr>\n",
       "      <th>28</th>\n",
       "      <td>Chandler Bing</td>\n",
       "      <td>Chandler</td>\n",
       "      <td>Bing</td>\n",
       "    </tr>\n",
       "    <tr>\n",
       "      <th>29</th>\n",
       "      <td>Joesph Ross</td>\n",
       "      <td>Joesph</td>\n",
       "      <td>Ross</td>\n",
       "    </tr>\n",
       "    <tr>\n",
       "      <th>30</th>\n",
       "      <td>Dwight Scott</td>\n",
       "      <td>Dwight</td>\n",
       "      <td>Scott</td>\n",
       "    </tr>\n",
       "    <tr>\n",
       "      <th>31</th>\n",
       "      <td>Michael Halpert</td>\n",
       "      <td>Michael</td>\n",
       "      <td>Halpert</td>\n",
       "    </tr>\n",
       "    <tr>\n",
       "      <th>32</th>\n",
       "      <td>Pamela Ding</td>\n",
       "      <td>Pamela</td>\n",
       "      <td>Ding</td>\n",
       "    </tr>\n",
       "    <tr>\n",
       "      <th>33</th>\n",
       "      <td>Tony Creed</td>\n",
       "      <td>Tony</td>\n",
       "      <td>Creed</td>\n",
       "    </tr>\n",
       "    <tr>\n",
       "      <th>34</th>\n",
       "      <td>Phyllis Stanley</td>\n",
       "      <td>Phyllis</td>\n",
       "      <td>Stanley</td>\n",
       "    </tr>\n",
       "    <tr>\n",
       "      <th>35</th>\n",
       "      <td>Holly Hue</td>\n",
       "      <td>Holly</td>\n",
       "      <td>Hue</td>\n",
       "    </tr>\n",
       "    <tr>\n",
       "      <th>36</th>\n",
       "      <td>Trent Tye</td>\n",
       "      <td>Trent</td>\n",
       "      <td>Tye</td>\n",
       "    </tr>\n",
       "    <tr>\n",
       "      <th>37</th>\n",
       "      <td>Kimberly Cone</td>\n",
       "      <td>Kimberly</td>\n",
       "      <td>Cone</td>\n",
       "    </tr>\n",
       "    <tr>\n",
       "      <th>38</th>\n",
       "      <td>Harry West</td>\n",
       "      <td>Harry</td>\n",
       "      <td>West</td>\n",
       "    </tr>\n",
       "    <tr>\n",
       "      <th>39</th>\n",
       "      <td>Rosie Renter</td>\n",
       "      <td>Rosie</td>\n",
       "      <td>Renter</td>\n",
       "    </tr>\n",
       "  </tbody>\n",
       "</table>\n",
       "</div>"
      ],
      "text/plain": [
       "       ProviderName  Firstname  Lastname\n",
       "0         Sally Sue      Sally       Sue\n",
       "1        Mike Myers       Mike     Myers\n",
       "2    Jordan Michael     Jordan   Michael\n",
       "3         Ted Texas        Ted     Texas\n",
       "4          Ala Bama        Ala      Bama\n",
       "5        Harry Kane      Harry      Kane\n",
       "6         Barry Bar      Barry       Bar\n",
       "7         Ted Green        Ted     Green\n",
       "8         Ted Black        Ted     Black\n",
       "9          Fred Man       Fred       Man\n",
       "10     Kim Kimberly        Kim  Kimberly\n",
       "11         Sarah Ab      Sarah        Ab\n",
       "12  Abigail Marriot    Abigail   Marriot\n",
       "13          Dave Yu       Dave        Yu\n",
       "14  Christian Saint  Christian     Saint\n",
       "15     Perry Pardon      Perry    Pardon\n",
       "16     Kent Kendall       Kent   Kendall\n",
       "17       Ryan Kevin       Ryan     Kevin\n",
       "18     Tyler Conner      Tyler    Conner\n",
       "19    Bailey Barret     Bailey    Barret\n",
       "20      Megan Bonco      Megan     Bonco\n",
       "21    Joesph Walter     Joesph    Walter\n",
       "22      Walter King     Walter      King\n",
       "23        Luke Long       Luke      Long\n",
       "24      Justin Time     Justin      Time\n",
       "25      Mike Joseph       Mike    Joseph\n",
       "26   Bridget Brenda    Bridget    Brenda\n",
       "27      Brenda Bing     Brenda      Bing\n",
       "28    Chandler Bing   Chandler      Bing\n",
       "29      Joesph Ross     Joesph      Ross\n",
       "30     Dwight Scott     Dwight     Scott\n",
       "31  Michael Halpert    Michael   Halpert\n",
       "32      Pamela Ding     Pamela      Ding\n",
       "33       Tony Creed       Tony     Creed\n",
       "34  Phyllis Stanley    Phyllis   Stanley\n",
       "35        Holly Hue      Holly       Hue\n",
       "36        Trent Tye      Trent       Tye\n",
       "37    Kimberly Cone   Kimberly      Cone\n",
       "38       Harry West      Harry      West\n",
       "39     Rosie Renter      Rosie    Renter"
      ]
     },
     "execution_count": 12,
     "metadata": {},
     "output_type": "execute_result"
    }
   ],
   "source": [
    "##Create a dataframe by splitting provider name to firstname and lastname with names for the columns.\n",
    "df6_name=df6[['ProviderName']]\n",
    "df6_name[['Firstname','Lastname']] = df6_name.ProviderName.str.split(expand=True)\n",
    "df6_name"
   ]
  },
  {
   "cell_type": "code",
   "execution_count": 13,
   "id": "7fb8a122",
   "metadata": {},
   "outputs": [
    {
     "data": {
      "text/plain": [
       "Gender\n",
       "Female    408\n",
       "Male      537\n",
       "Name: PatientID, dtype: int64"
      ]
     },
     "execution_count": 13,
     "metadata": {},
     "output_type": "execute_result"
    }
   ],
   "source": [
    "#Display total count of patients service wise based on gender.\n",
    "df2.groupby(['Gender']).count()['PatientID']"
   ]
  },
  {
   "cell_type": "code",
   "execution_count": 14,
   "id": "3cfce591",
   "metadata": {},
   "outputs": [
    {
     "data": {
      "text/plain": [
       "Service           DischargeDisposition\n",
       "Cardiology        Expired                  9.202626\n",
       "                  Home                    12.864936\n",
       "                  Transfer                11.818403\n",
       "General Medicine  Expired                  5.874003\n",
       "                  Home                     6.105696\n",
       "                  Transfer                 6.116124\n",
       "Hospitalist       Expired                  6.775636\n",
       "                  Home                     8.009046\n",
       "                  Transfer                 5.701389\n",
       "ICU               Expired                  9.919063\n",
       "                  Home                    13.451158\n",
       "                  Transfer                11.989238\n",
       "Neurology         Expired                  9.384312\n",
       "                  Home                    12.538859\n",
       "                  Transfer                11.469198\n",
       "Orthopeadics      Expired                  3.943883\n",
       "                  Home                     3.508337\n",
       "                  Transfer                 4.842255\n",
       "Name: ExpectedLOS, dtype: float64"
      ]
     },
     "execution_count": 14,
     "metadata": {},
     "output_type": "execute_result"
    }
   ],
   "source": [
    "\n",
    "df5_avg=df5.groupby(['Service','DischargeDisposition']).mean()['ExpectedLOS']\n",
    "df5_avg"
   ]
  },
  {
   "cell_type": "code",
   "execution_count": 15,
   "id": "b2391b7f",
   "metadata": {},
   "outputs": [
    {
     "data": {
      "text/plain": [
       "['python', 'hackathon', 'september', '']"
      ]
     },
     "execution_count": 15,
     "metadata": {},
     "output_type": "execute_result"
    }
   ],
   "source": [
    "#Write a code to split a sentence into words using regex.\n",
    "import re\n",
    "string = \"python hackathon september2022\"\n",
    "re.split(\"(?:(?:[^a-zA-Z]+')|(?:'[^a-zA-Z]+))|(?:[^a-zA-Z']+)\", string)"
   ]
  },
  {
   "cell_type": "code",
   "execution_count": 16,
   "id": "166515d0",
   "metadata": {},
   "outputs": [
    {
     "name": "stdout",
     "output_type": "stream",
     "text": [
      "           EDVisitID  PatientID    Acuity\n",
      "EDVisitID   1.000000   0.975477  0.005813\n",
      "PatientID   0.975477   1.000000  0.003545\n",
      "Acuity      0.005813   0.003545  1.000000\n"
     ]
    }
   ],
   "source": [
    "#Create a correlation matrix on EDVisits.\n",
    "\n",
    "corrMatrix = df3.corr()\n",
    "print (corrMatrix)"
   ]
  },
  {
   "cell_type": "code",
   "execution_count": 19,
   "id": "9a032e04",
   "metadata": {},
   "outputs": [
    {
     "data": {
      "text/plain": [
       "array([ 2,  8, 14, 20])"
      ]
     },
     "execution_count": 19,
     "metadata": {},
     "output_type": "execute_result"
    }
   ],
   "source": [
    "#np.arange(1,31).reshape(6,5), find array slicing for elements 2,8,14,20.\n",
    "b=np.arange(1,31).reshape(6,5)\n",
    "c=b[0:4,1:5]\n",
    "c.diagonal()"
   ]
  },
  {
   "cell_type": "code",
   "execution_count": 20,
   "id": "67477e0b",
   "metadata": {},
   "outputs": [
    {
     "data": {
      "text/plain": [
       "array([[11, 12],\n",
       "       [16, 17]])"
      ]
     },
     "execution_count": 20,
     "metadata": {},
     "output_type": "execute_result"
    }
   ],
   "source": [
    "#np.arange(1,31).reshape(6,5) Find the array slicing to get the elements with values 11,12,16,17.\n",
    "\n",
    "a=np.arange(1,31).reshape(6,5)\n",
    "a[2:4,0:2]"
   ]
  },
  {
   "cell_type": "code",
   "execution_count": 21,
   "id": "4a900d46",
   "metadata": {},
   "outputs": [
    {
     "data": {
      "text/html": [
       "<div>\n",
       "<style scoped>\n",
       "    .dataframe tbody tr th:only-of-type {\n",
       "        vertical-align: middle;\n",
       "    }\n",
       "\n",
       "    .dataframe tbody tr th {\n",
       "        vertical-align: top;\n",
       "    }\n",
       "\n",
       "    .dataframe thead th {\n",
       "        text-align: right;\n",
       "    }\n",
       "</style>\n",
       "<table border=\"1\" class=\"dataframe\">\n",
       "  <thead>\n",
       "    <tr style=\"text-align: right;\">\n",
       "      <th></th>\n",
       "      <th></th>\n",
       "      <th>PatientID</th>\n",
       "    </tr>\n",
       "    <tr>\n",
       "      <th>EDDisposition</th>\n",
       "      <th>Acuity</th>\n",
       "      <th></th>\n",
       "    </tr>\n",
       "  </thead>\n",
       "  <tbody>\n",
       "    <tr>\n",
       "      <th rowspan=\"5\" valign=\"top\">Admitted</th>\n",
       "      <th>1</th>\n",
       "      <td>32</td>\n",
       "    </tr>\n",
       "    <tr>\n",
       "      <th>2</th>\n",
       "      <td>116</td>\n",
       "    </tr>\n",
       "    <tr>\n",
       "      <th>3</th>\n",
       "      <td>81</td>\n",
       "    </tr>\n",
       "    <tr>\n",
       "      <th>4</th>\n",
       "      <td>107</td>\n",
       "    </tr>\n",
       "    <tr>\n",
       "      <th>5</th>\n",
       "      <td>179</td>\n",
       "    </tr>\n",
       "    <tr>\n",
       "      <th rowspan=\"4\" valign=\"top\">Discharged</th>\n",
       "      <th>1</th>\n",
       "      <td>558</td>\n",
       "    </tr>\n",
       "    <tr>\n",
       "      <th>2</th>\n",
       "      <td>66</td>\n",
       "    </tr>\n",
       "    <tr>\n",
       "      <th>4</th>\n",
       "      <td>30</td>\n",
       "    </tr>\n",
       "    <tr>\n",
       "      <th>5</th>\n",
       "      <td>30</td>\n",
       "    </tr>\n",
       "  </tbody>\n",
       "</table>\n",
       "</div>"
      ],
      "text/plain": [
       "                      PatientID\n",
       "EDDisposition Acuity           \n",
       "Admitted      1              32\n",
       "              2             116\n",
       "              3              81\n",
       "              4             107\n",
       "              5             179\n",
       "Discharged    1             558\n",
       "              2              66\n",
       "              4              30\n",
       "              5              30"
      ]
     },
     "execution_count": 21,
     "metadata": {},
     "output_type": "execute_result"
    }
   ],
   "source": [
    "#Create a dataframe with acuity and EDDisposition as the indices and the count of number of patients as the value.\n",
    "df_temp = df3.groupby([\"EDDisposition\",\"Acuity\"]).count()[\"PatientID\"]\n",
    "pd.DataFrame(data = df_temp)"
   ]
  },
  {
   "cell_type": "code",
   "execution_count": null,
   "id": "71c897ee",
   "metadata": {},
   "outputs": [],
   "source": []
  }
 ],
 "metadata": {
  "kernelspec": {
   "display_name": "Python 3",
   "language": "python",
   "name": "python3"
  },
  "language_info": {
   "codemirror_mode": {
    "name": "ipython",
    "version": 3
   },
   "file_extension": ".py",
   "mimetype": "text/x-python",
   "name": "python",
   "nbconvert_exporter": "python",
   "pygments_lexer": "ipython3",
   "version": "3.8.8"
  }
 },
 "nbformat": 4,
 "nbformat_minor": 5
}
