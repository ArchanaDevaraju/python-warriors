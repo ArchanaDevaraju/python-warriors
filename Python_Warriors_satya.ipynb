{
 "cells": [
  {
   "cell_type": "code",
   "execution_count": 32,
   "id": "dd0993d9",
   "metadata": {},
   "outputs": [],
   "source": [
    "import pandas as pd\n",
    "import seaborn as sns\n",
    "import matplotlib.pyplot as plt\n",
    "import numpy as np\n",
    "\n",
    "import re\n"
   ]
  },
  {
   "cell_type": "code",
   "execution_count": 73,
   "id": "8a22f292",
   "metadata": {},
   "outputs": [],
   "source": [
    "xls = pd.ExcelFile('HospitalDatabase .xlsx')\n",
    "df_RR = pd.read_excel(xls, 'ReAdmissionRegistry')\n",
    "df_PA = pd.read_excel(xls, 'Patients')\n",
    "df_EDV= pd.read_excel(xls, 'EDVisits')\n",
    "df_AV = pd.read_excel(xls, 'AmbulatoryVisits')\n",
    "df_D = pd.read_excel(xls, 'Discharges')\n",
    "df_P= pd.read_excel(xls, 'Providers')\n",
    "dfEDU = pd.read_excel(xls, 'EDUnique')"
   ]
  },
  {
   "cell_type": "markdown",
   "id": "f57d9c47",
   "metadata": {},
   "source": [
    "######  10.Creating a boxplot on ExpectedLOS by taking service into account."
   ]
  },
  {
   "cell_type": "code",
   "execution_count": 57,
   "id": "3b5a91e5",
   "metadata": {},
   "outputs": [
    {
     "data": {
      "text/plain": [
       "<AxesSubplot:xlabel='Service', ylabel='ExpectedLOS'>"
      ]
     },
     "execution_count": 57,
     "metadata": {},
     "output_type": "execute_result"
    },
    {
     "data": {
      "image/png": "[encoded data removed]",
      "text/plain": [
       "<Figure size 432x288 with 1 Axes>"
      ]
     },
     "metadata": {
      "needs_background": "light"
     },
     "output_type": "display_data"
    }
   ],
   "source": [
    "sns.boxplot(data=df_RR, x=\"Service\", y=\"ExpectedLOS\",  )"
   ]
  },
  {
   "cell_type": "markdown",
   "id": "cb6294d4",
   "metadata": {},
   "source": [
    "###### 11.Create a pie chart by taking Service= [\"ICU\", \"Neurology\", \"General\", \"Medicine\"] & ExpectedLOS=[10,5,7,9] & explode the wedge with highest LOS."
   ]
  },
  {
   "cell_type": "code",
   "execution_count": 35,
   "id": "0b730a1c",
   "metadata": {},
   "outputs": [
    {
     "data": {
      "image/png": "[encoded data removed]",
      "text/plain": [
       "<Figure size 432x288 with 1 Axes>"
      ]
     },
     "metadata": {},
     "output_type": "display_data"
    }
   ],
   "source": [
    "Service= [\"Icu\", \"Neurology\", \"General\", \"Medicine\"]\n",
    "ExpectedLOS=[10,5,7,9]\n",
    "outside=(0,0.5,0.3)\n",
    "plt.pie(ExpectedLOS,labels=Service, colors=['r','g','b','y'],explode=(0.1,0.01,0.01,0.01),textprops={'fontsize': 14})\n",
    "plt.title('Pie Chart',fontsize=20)\n",
    "plt.show()"
   ]
  },
  {
   "cell_type": "markdown",
   "id": "dd70fb4e",
   "metadata": {},
   "source": [
    "###### 23. write a function to find the center element in the list. (one element in odd length list,  two elements in even length list)."
   ]
  },
  {
   "cell_type": "code",
   "execution_count": 83,
   "id": "e542a42d",
   "metadata": {},
   "outputs": [
    {
     "name": "stdout",
     "output_type": "stream",
     "text": [
      "2\n",
      "(2, 4)\n"
     ]
    }
   ],
   "source": [
    "input_list1=[2,7,4,4,2,7,8,9,0]\n",
    "input_list2=[2,7,4,4,2,7,8,9]\n",
    "def findcenter(input_list):\n",
    "    center_element= float(len(input_list))/2\n",
    "    if center_element % 2 != 0:\n",
    "        return input_list[int(center_element - .5)]\n",
    "    else:\n",
    "        return (input_list[int(center_element)], input_list[int(center_element-1)])\n",
    "center1=findcenter(input_list1)\n",
    "print(center1)\n",
    "center2=findcenter(input_list2)\n",
    "print(center2)"
   ]
  },
  {
   "cell_type": "markdown",
   "id": "7495bcc5",
   "metadata": {},
   "source": [
    "##### 60.Find the list of patients whose ExpectedLOS is greater than the value given by the user."
   ]
  },
  {
   "cell_type": "code",
   "execution_count": 90,
   "id": "98abe5de",
   "metadata": {
    "scrolled": true
   },
   "outputs": [
    {
     "name": "stdout",
     "output_type": "stream",
     "text": [
      "8\n"
     ]
    },
    {
     "data": {
      "text/html": [
       "<div>\n",
       "<style scoped>\n",
       "    .dataframe tbody tr th:only-of-type {\n",
       "        vertical-align: middle;\n",
       "    }\n",
       "\n",
       "    .dataframe tbody tr th {\n",
       "        vertical-align: top;\n",
       "    }\n",
       "\n",
       "    .dataframe thead th {\n",
       "        text-align: right;\n",
       "    }\n",
       "</style>\n",
       "<table border=\"1\" class=\"dataframe\">\n",
       "  <thead>\n",
       "    <tr style=\"text-align: right;\">\n",
       "      <th></th>\n",
       "      <th>PatientID</th>\n",
       "    </tr>\n",
       "  </thead>\n",
       "  <tbody>\n",
       "    <tr>\n",
       "      <th>0</th>\n",
       "      <td>9</td>\n",
       "    </tr>\n",
       "    <tr>\n",
       "      <th>3</th>\n",
       "      <td>102</td>\n",
       "    </tr>\n",
       "    <tr>\n",
       "      <th>12</th>\n",
       "      <td>134</td>\n",
       "    </tr>\n",
       "    <tr>\n",
       "      <th>16</th>\n",
       "      <td>147</td>\n",
       "    </tr>\n",
       "    <tr>\n",
       "      <th>18</th>\n",
       "      <td>156</td>\n",
       "    </tr>\n",
       "    <tr>\n",
       "      <th>...</th>\n",
       "      <td>...</td>\n",
       "    </tr>\n",
       "    <tr>\n",
       "      <th>710</th>\n",
       "      <td>689</td>\n",
       "    </tr>\n",
       "    <tr>\n",
       "      <th>714</th>\n",
       "      <td>713</td>\n",
       "    </tr>\n",
       "    <tr>\n",
       "      <th>715</th>\n",
       "      <td>716</td>\n",
       "    </tr>\n",
       "    <tr>\n",
       "      <th>716</th>\n",
       "      <td>723</td>\n",
       "    </tr>\n",
       "    <tr>\n",
       "      <th>718</th>\n",
       "      <td>733</td>\n",
       "    </tr>\n",
       "  </tbody>\n",
       "</table>\n",
       "<p>398 rows × 1 columns</p>\n",
       "</div>"
      ],
      "text/plain": [
       "     PatientID\n",
       "0            9\n",
       "3          102\n",
       "12         134\n",
       "16         147\n",
       "18         156\n",
       "..         ...\n",
       "710        689\n",
       "714        713\n",
       "715        716\n",
       "716        723\n",
       "718        733\n",
       "\n",
       "[398 rows x 1 columns]"
      ]
     },
     "metadata": {},
     "output_type": "display_data"
    }
   ],
   "source": [
    "Los=input()\n",
    "Los_f=float(Los)\n",
    "display(df_D[(df_D['ExpectedLOS']>Los_f)][['PatientID']])"
   ]
  },
  {
   "cell_type": "markdown",
   "id": "85c1fb0d",
   "metadata": {},
   "source": [
    "###### 59. Create a dataframe by splitting provider name to firstname and lastname with names for the columns."
   ]
  },
  {
   "cell_type": "code",
   "execution_count": 59,
   "id": "b5e75205",
   "metadata": {},
   "outputs": [
    {
     "name": "stderr",
     "output_type": "stream",
     "text": [
      "C:\\Users\\svani\\anaconda3\\lib\\site-packages\\pandas\\core\\frame.py:3191: SettingWithCopyWarning: \n",
      "A value is trying to be set on a copy of a slice from a DataFrame.\n",
      "Try using .loc[row_indexer,col_indexer] = value instead\n",
      "\n",
      "See the caveats in the documentation: https://pandas.pydata.org/pandas-docs/stable/user_guide/indexing.html#returning-a-view-versus-a-copy\n",
      "  self[k1] = value[k2]\n"
     ]
    },
    {
     "data": {
      "text/html": [
       "<div>\n",
       "<style scoped>\n",
       "    .dataframe tbody tr th:only-of-type {\n",
       "        vertical-align: middle;\n",
       "    }\n",
       "\n",
       "    .dataframe tbody tr th {\n",
       "        vertical-align: top;\n",
       "    }\n",
       "\n",
       "    .dataframe thead th {\n",
       "        text-align: right;\n",
       "    }\n",
       "</style>\n",
       "<table border=\"1\" class=\"dataframe\">\n",
       "  <thead>\n",
       "    <tr style=\"text-align: right;\">\n",
       "      <th></th>\n",
       "      <th>ProviderName</th>\n",
       "      <th>Firstname</th>\n",
       "      <th>Lastname</th>\n",
       "    </tr>\n",
       "  </thead>\n",
       "  <tbody>\n",
       "    <tr>\n",
       "      <th>0</th>\n",
       "      <td>Sally Sue</td>\n",
       "      <td>Sally</td>\n",
       "      <td>Sue</td>\n",
       "    </tr>\n",
       "    <tr>\n",
       "      <th>1</th>\n",
       "      <td>Mike Myers</td>\n",
       "      <td>Mike</td>\n",
       "      <td>Myers</td>\n",
       "    </tr>\n",
       "    <tr>\n",
       "      <th>2</th>\n",
       "      <td>Jordan Michael</td>\n",
       "      <td>Jordan</td>\n",
       "      <td>Michael</td>\n",
       "    </tr>\n",
       "    <tr>\n",
       "      <th>3</th>\n",
       "      <td>Ted Texas</td>\n",
       "      <td>Ted</td>\n",
       "      <td>Texas</td>\n",
       "    </tr>\n",
       "    <tr>\n",
       "      <th>4</th>\n",
       "      <td>Ala Bama</td>\n",
       "      <td>Ala</td>\n",
       "      <td>Bama</td>\n",
       "    </tr>\n",
       "    <tr>\n",
       "      <th>5</th>\n",
       "      <td>Harry Kane</td>\n",
       "      <td>Harry</td>\n",
       "      <td>Kane</td>\n",
       "    </tr>\n",
       "    <tr>\n",
       "      <th>6</th>\n",
       "      <td>Barry Bar</td>\n",
       "      <td>Barry</td>\n",
       "      <td>Bar</td>\n",
       "    </tr>\n",
       "    <tr>\n",
       "      <th>7</th>\n",
       "      <td>Ted Green</td>\n",
       "      <td>Ted</td>\n",
       "      <td>Green</td>\n",
       "    </tr>\n",
       "    <tr>\n",
       "      <th>8</th>\n",
       "      <td>Ted Black</td>\n",
       "      <td>Ted</td>\n",
       "      <td>Black</td>\n",
       "    </tr>\n",
       "    <tr>\n",
       "      <th>9</th>\n",
       "      <td>Fred Man</td>\n",
       "      <td>Fred</td>\n",
       "      <td>Man</td>\n",
       "    </tr>\n",
       "    <tr>\n",
       "      <th>10</th>\n",
       "      <td>Kim Kimberly</td>\n",
       "      <td>Kim</td>\n",
       "      <td>Kimberly</td>\n",
       "    </tr>\n",
       "    <tr>\n",
       "      <th>11</th>\n",
       "      <td>Sarah Ab</td>\n",
       "      <td>Sarah</td>\n",
       "      <td>Ab</td>\n",
       "    </tr>\n",
       "    <tr>\n",
       "      <th>12</th>\n",
       "      <td>Abigail Marriot</td>\n",
       "      <td>Abigail</td>\n",
       "      <td>Marriot</td>\n",
       "    </tr>\n",
       "    <tr>\n",
       "      <th>13</th>\n",
       "      <td>Dave Yu</td>\n",
       "      <td>Dave</td>\n",
       "      <td>Yu</td>\n",
       "    </tr>\n",
       "    <tr>\n",
       "      <th>14</th>\n",
       "      <td>Christian Saint</td>\n",
       "      <td>Christian</td>\n",
       "      <td>Saint</td>\n",
       "    </tr>\n",
       "    <tr>\n",
       "      <th>15</th>\n",
       "      <td>Perry Pardon</td>\n",
       "      <td>Perry</td>\n",
       "      <td>Pardon</td>\n",
       "    </tr>\n",
       "    <tr>\n",
       "      <th>16</th>\n",
       "      <td>Kent Kendall</td>\n",
       "      <td>Kent</td>\n",
       "      <td>Kendall</td>\n",
       "    </tr>\n",
       "    <tr>\n",
       "      <th>17</th>\n",
       "      <td>Ryan Kevin</td>\n",
       "      <td>Ryan</td>\n",
       "      <td>Kevin</td>\n",
       "    </tr>\n",
       "    <tr>\n",
       "      <th>18</th>\n",
       "      <td>Tyler Conner</td>\n",
       "      <td>Tyler</td>\n",
       "      <td>Conner</td>\n",
       "    </tr>\n",
       "    <tr>\n",
       "      <th>19</th>\n",
       "      <td>Bailey Barret</td>\n",
       "      <td>Bailey</td>\n",
       "      <td>Barret</td>\n",
       "    </tr>\n",
       "    <tr>\n",
       "      <th>20</th>\n",
       "      <td>Megan Bonco</td>\n",
       "      <td>Megan</td>\n",
       "      <td>Bonco</td>\n",
       "    </tr>\n",
       "    <tr>\n",
       "      <th>21</th>\n",
       "      <td>Joesph Walter</td>\n",
       "      <td>Joesph</td>\n",
       "      <td>Walter</td>\n",
       "    </tr>\n",
       "    <tr>\n",
       "      <th>22</th>\n",
       "      <td>Walter King</td>\n",
       "      <td>Walter</td>\n",
       "      <td>King</td>\n",
       "    </tr>\n",
       "    <tr>\n",
       "      <th>23</th>\n",
       "      <td>Luke Long</td>\n",
       "      <td>Luke</td>\n",
       "      <td>Long</td>\n",
       "    </tr>\n",
       "    <tr>\n",
       "      <th>24</th>\n",
       "      <td>Justin Time</td>\n",
       "      <td>Justin</td>\n",
       "      <td>Time</td>\n",
       "    </tr>\n",
       "    <tr>\n",
       "      <th>25</th>\n",
       "      <td>Mike Joseph</td>\n",
       "      <td>Mike</td>\n",
       "      <td>Joseph</td>\n",
       "    </tr>\n",
       "    <tr>\n",
       "      <th>26</th>\n",
       "      <td>Bridget Brenda</td>\n",
       "      <td>Bridget</td>\n",
       "      <td>Brenda</td>\n",
       "    </tr>\n",
       "    <tr>\n",
       "      <th>27</th>\n",
       "      <td>Brenda Bing</td>\n",
       "      <td>Brenda</td>\n",
       "      <td>Bing</td>\n",
       "    </tr>\n",
       "    <tr>\n",
       "      <th>28</th>\n",
       "      <td>Chandler Bing</td>\n",
       "      <td>Chandler</td>\n",
       "      <td>Bing</td>\n",
       "    </tr>\n",
       "    <tr>\n",
       "      <th>29</th>\n",
       "      <td>Joesph Ross</td>\n",
       "      <td>Joesph</td>\n",
       "      <td>Ross</td>\n",
       "    </tr>\n",
       "    <tr>\n",
       "      <th>30</th>\n",
       "      <td>Dwight Scott</td>\n",
       "      <td>Dwight</td>\n",
       "      <td>Scott</td>\n",
       "    </tr>\n",
       "    <tr>\n",
       "      <th>31</th>\n",
       "      <td>Michael Halpert</td>\n",
       "      <td>Michael</td>\n",
       "      <td>Halpert</td>\n",
       "    </tr>\n",
       "    <tr>\n",
       "      <th>32</th>\n",
       "      <td>Pamela Ding</td>\n",
       "      <td>Pamela</td>\n",
       "      <td>Ding</td>\n",
       "    </tr>\n",
       "    <tr>\n",
       "      <th>33</th>\n",
       "      <td>Tony Creed</td>\n",
       "      <td>Tony</td>\n",
       "      <td>Creed</td>\n",
       "    </tr>\n",
       "    <tr>\n",
       "      <th>34</th>\n",
       "      <td>Phyllis Stanley</td>\n",
       "      <td>Phyllis</td>\n",
       "      <td>Stanley</td>\n",
       "    </tr>\n",
       "    <tr>\n",
       "      <th>35</th>\n",
       "      <td>Holly Hue</td>\n",
       "      <td>Holly</td>\n",
       "      <td>Hue</td>\n",
       "    </tr>\n",
       "    <tr>\n",
       "      <th>36</th>\n",
       "      <td>Trent Tye</td>\n",
       "      <td>Trent</td>\n",
       "      <td>Tye</td>\n",
       "    </tr>\n",
       "    <tr>\n",
       "      <th>37</th>\n",
       "      <td>Kimberly Cone</td>\n",
       "      <td>Kimberly</td>\n",
       "      <td>Cone</td>\n",
       "    </tr>\n",
       "    <tr>\n",
       "      <th>38</th>\n",
       "      <td>Harry West</td>\n",
       "      <td>Harry</td>\n",
       "      <td>West</td>\n",
       "    </tr>\n",
       "    <tr>\n",
       "      <th>39</th>\n",
       "      <td>Rosie Renter</td>\n",
       "      <td>Rosie</td>\n",
       "      <td>Renter</td>\n",
       "    </tr>\n",
       "  </tbody>\n",
       "</table>\n",
       "</div>"
      ],
      "text/plain": [
       "       ProviderName  Firstname  Lastname\n",
       "0         Sally Sue      Sally       Sue\n",
       "1        Mike Myers       Mike     Myers\n",
       "2    Jordan Michael     Jordan   Michael\n",
       "3         Ted Texas        Ted     Texas\n",
       "4          Ala Bama        Ala      Bama\n",
       "5        Harry Kane      Harry      Kane\n",
       "6         Barry Bar      Barry       Bar\n",
       "7         Ted Green        Ted     Green\n",
       "8         Ted Black        Ted     Black\n",
       "9          Fred Man       Fred       Man\n",
       "10     Kim Kimberly        Kim  Kimberly\n",
       "11         Sarah Ab      Sarah        Ab\n",
       "12  Abigail Marriot    Abigail   Marriot\n",
       "13          Dave Yu       Dave        Yu\n",
       "14  Christian Saint  Christian     Saint\n",
       "15     Perry Pardon      Perry    Pardon\n",
       "16     Kent Kendall       Kent   Kendall\n",
       "17       Ryan Kevin       Ryan     Kevin\n",
       "18     Tyler Conner      Tyler    Conner\n",
       "19    Bailey Barret     Bailey    Barret\n",
       "20      Megan Bonco      Megan     Bonco\n",
       "21    Joesph Walter     Joesph    Walter\n",
       "22      Walter King     Walter      King\n",
       "23        Luke Long       Luke      Long\n",
       "24      Justin Time     Justin      Time\n",
       "25      Mike Joseph       Mike    Joseph\n",
       "26   Bridget Brenda    Bridget    Brenda\n",
       "27      Brenda Bing     Brenda      Bing\n",
       "28    Chandler Bing   Chandler      Bing\n",
       "29      Joesph Ross     Joesph      Ross\n",
       "30     Dwight Scott     Dwight     Scott\n",
       "31  Michael Halpert    Michael   Halpert\n",
       "32      Pamela Ding     Pamela      Ding\n",
       "33       Tony Creed       Tony     Creed\n",
       "34  Phyllis Stanley    Phyllis   Stanley\n",
       "35        Holly Hue      Holly       Hue\n",
       "36        Trent Tye      Trent       Tye\n",
       "37    Kimberly Cone   Kimberly      Cone\n",
       "38       Harry West      Harry      West\n",
       "39     Rosie Renter      Rosie    Renter"
      ]
     },
     "execution_count": 59,
     "metadata": {},
     "output_type": "execute_result"
    }
   ],
   "source": [
    "df_P_name=df_P[['ProviderName']]\n",
    "df_P_name[['Firstname','Lastname']] = df_P_name.ProviderName.str.split(expand=True)\n",
    "df_P_name"
   ]
  },
  {
   "cell_type": "markdown",
   "id": "cde1437c",
   "metadata": {},
   "source": [
    "###### 58. Display total count of patients service wise based on gender."
   ]
  },
  {
   "cell_type": "code",
   "execution_count": 60,
   "id": "8f91f35f",
   "metadata": {
    "scrolled": true
   },
   "outputs": [
    {
     "data": {
      "text/html": [
       "<div>\n",
       "<style scoped>\n",
       "    .dataframe tbody tr th:only-of-type {\n",
       "        vertical-align: middle;\n",
       "    }\n",
       "\n",
       "    .dataframe tbody tr th {\n",
       "        vertical-align: top;\n",
       "    }\n",
       "\n",
       "    .dataframe thead th {\n",
       "        text-align: right;\n",
       "    }\n",
       "</style>\n",
       "<table border=\"1\" class=\"dataframe\">\n",
       "  <thead>\n",
       "    <tr style=\"text-align: right;\">\n",
       "      <th></th>\n",
       "      <th></th>\n",
       "      <th>PatientID</th>\n",
       "      <th>PatientID</th>\n",
       "    </tr>\n",
       "    <tr>\n",
       "      <th>Gender</th>\n",
       "      <th>Service</th>\n",
       "      <th></th>\n",
       "      <th></th>\n",
       "    </tr>\n",
       "  </thead>\n",
       "  <tbody>\n",
       "    <tr>\n",
       "      <th rowspan=\"6\" valign=\"top\">Female</th>\n",
       "      <th>Cardiology</th>\n",
       "      <td>48</td>\n",
       "      <td>48</td>\n",
       "    </tr>\n",
       "    <tr>\n",
       "      <th>General Medicine</th>\n",
       "      <td>121</td>\n",
       "      <td>121</td>\n",
       "    </tr>\n",
       "    <tr>\n",
       "      <th>Hospitalist</th>\n",
       "      <td>30</td>\n",
       "      <td>30</td>\n",
       "    </tr>\n",
       "    <tr>\n",
       "      <th>ICU</th>\n",
       "      <td>54</td>\n",
       "      <td>54</td>\n",
       "    </tr>\n",
       "    <tr>\n",
       "      <th>Neurology</th>\n",
       "      <td>34</td>\n",
       "      <td>34</td>\n",
       "    </tr>\n",
       "    <tr>\n",
       "      <th>Orthopeadics</th>\n",
       "      <td>20</td>\n",
       "      <td>20</td>\n",
       "    </tr>\n",
       "    <tr>\n",
       "      <th rowspan=\"6\" valign=\"top\">Male</th>\n",
       "      <th>Cardiology</th>\n",
       "      <td>47</td>\n",
       "      <td>47</td>\n",
       "    </tr>\n",
       "    <tr>\n",
       "      <th>General Medicine</th>\n",
       "      <td>142</td>\n",
       "      <td>142</td>\n",
       "    </tr>\n",
       "    <tr>\n",
       "      <th>Hospitalist</th>\n",
       "      <td>71</td>\n",
       "      <td>71</td>\n",
       "    </tr>\n",
       "    <tr>\n",
       "      <th>ICU</th>\n",
       "      <td>97</td>\n",
       "      <td>97</td>\n",
       "    </tr>\n",
       "    <tr>\n",
       "      <th>Neurology</th>\n",
       "      <td>31</td>\n",
       "      <td>31</td>\n",
       "    </tr>\n",
       "    <tr>\n",
       "      <th>Orthopeadics</th>\n",
       "      <td>25</td>\n",
       "      <td>25</td>\n",
       "    </tr>\n",
       "  </tbody>\n",
       "</table>\n",
       "</div>"
      ],
      "text/plain": [
       "                         PatientID  PatientID\n",
       "Gender Service                               \n",
       "Female Cardiology               48         48\n",
       "       General Medicine        121        121\n",
       "       Hospitalist              30         30\n",
       "       ICU                      54         54\n",
       "       Neurology                34         34\n",
       "       Orthopeadics             20         20\n",
       "Male   Cardiology               47         47\n",
       "       General Medicine        142        142\n",
       "       Hospitalist              71         71\n",
       "       ICU                      97         97\n",
       "       Neurology                31         31\n",
       "       Orthopeadics             25         25"
      ]
     },
     "execution_count": 60,
     "metadata": {},
     "output_type": "execute_result"
    }
   ],
   "source": [
    "df_result=pd.concat([df_PA,df_RR],axis=1)\n",
    "df_result.groupby(['Gender','Service']).count()['PatientID']"
   ]
  },
  {
   "cell_type": "markdown",
   "id": "f2a839d1",
   "metadata": {},
   "source": [
    "###### 48. Display the average LOS based on Service and Discharge Disposition(Maintain the column Hierarchy)."
   ]
  },
  {
   "cell_type": "code",
   "execution_count": 61,
   "id": "f7c7fb1c",
   "metadata": {},
   "outputs": [
    {
     "data": {
      "text/plain": [
       "Service           DischargeDisposition\n",
       "Cardiology        Expired                  9.202626\n",
       "                  Home                    12.864936\n",
       "                  Transfer                11.818403\n",
       "General Medicine  Expired                  5.874003\n",
       "                  Home                     6.105696\n",
       "                  Transfer                 6.116124\n",
       "Hospitalist       Expired                  6.775636\n",
       "                  Home                     8.009046\n",
       "                  Transfer                 5.701389\n",
       "ICU               Expired                  9.919063\n",
       "                  Home                    13.451158\n",
       "                  Transfer                11.989238\n",
       "Neurology         Expired                  9.384312\n",
       "                  Home                    12.538859\n",
       "                  Transfer                11.469198\n",
       "Orthopeadics      Expired                  3.943883\n",
       "                  Home                     3.508337\n",
       "                  Transfer                 4.842255\n",
       "Name: ExpectedLOS, dtype: float64"
      ]
     },
     "execution_count": 61,
     "metadata": {},
     "output_type": "execute_result"
    }
   ],
   "source": [
    "dfD_avg=df_D.groupby(['Service','DischargeDisposition']).mean()['ExpectedLOS']\n",
    "dfD_avg"
   ]
  },
  {
   "cell_type": "markdown",
   "id": "c25ad9da",
   "metadata": {},
   "source": [
    "###### 46. Write a code to split a sentence into words using regex."
   ]
  },
  {
   "cell_type": "code",
   "execution_count": 44,
   "id": "bb36e189",
   "metadata": {},
   "outputs": [
    {
     "data": {
      "text/plain": [
       "['python', 'hackathon', 'september', '']"
      ]
     },
     "execution_count": 44,
     "metadata": {},
     "output_type": "execute_result"
    }
   ],
   "source": [
    "string = \"python hackathon september2022\"\n",
    "re.split(\"(?:(?:[^a-zA-Z]+')|(?:'[^a-zA-Z]+))|(?:[^a-zA-Z']+)\", string)"
   ]
  },
  {
   "cell_type": "markdown",
   "id": "20c313eb",
   "metadata": {},
   "source": [
    "###### 36.Create a correlation matrix on EDVisits."
   ]
  },
  {
   "cell_type": "code",
   "execution_count": 62,
   "id": "f3403398",
   "metadata": {},
   "outputs": [
    {
     "name": "stdout",
     "output_type": "stream",
     "text": [
      "           EDVisitID  PatientID    Acuity\n",
      "EDVisitID   1.000000   0.975477  0.005813\n",
      "PatientID   0.975477   1.000000  0.003545\n",
      "Acuity      0.005813   0.003545  1.000000\n"
     ]
    }
   ],
   "source": [
    "corrMatrix = df_EDV.corr()\n",
    "print (corrMatrix)"
   ]
  },
  {
   "cell_type": "markdown",
   "id": "c4190899",
   "metadata": {},
   "source": [
    "###### 34. np.arange(1,31).reshape(6,5), find array slicing for elements 2,8,14,20."
   ]
  },
  {
   "cell_type": "code",
   "execution_count": 46,
   "id": "1905d44b",
   "metadata": {},
   "outputs": [
    {
     "data": {
      "text/plain": [
       "array([ 2,  8, 14, 20])"
      ]
     },
     "execution_count": 46,
     "metadata": {},
     "output_type": "execute_result"
    }
   ],
   "source": [
    "b=np.arange(1,31).reshape(6,5)\n",
    "c=b[0:4,1:5]\n",
    "c.diagonal()"
   ]
  },
  {
   "cell_type": "markdown",
   "id": "2648a390",
   "metadata": {},
   "source": [
    "###### 35. np.arange(1,31).reshape(6,5) Find the array slicing to get the elements with values 11,12,16,17."
   ]
  },
  {
   "cell_type": "code",
   "execution_count": 47,
   "id": "707f7dbe",
   "metadata": {},
   "outputs": [
    {
     "data": {
      "text/plain": [
       "array([[11, 12],\n",
       "       [16, 17]])"
      ]
     },
     "execution_count": 47,
     "metadata": {},
     "output_type": "execute_result"
    }
   ],
   "source": [
    "a=np.arange(1,31).reshape(6,5)\n",
    "a[2:4,0:2]"
   ]
  },
  {
   "cell_type": "markdown",
   "id": "9419af3b",
   "metadata": {},
   "source": [
    "###### 22. Create a dataframe with acuity and EDDisposition as the indices and the count of number of patients as the value."
   ]
  },
  {
   "cell_type": "code",
   "execution_count": 63,
   "id": "a1890141",
   "metadata": {},
   "outputs": [
    {
     "data": {
      "text/html": [
       "<div>\n",
       "<style scoped>\n",
       "    .dataframe tbody tr th:only-of-type {\n",
       "        vertical-align: middle;\n",
       "    }\n",
       "\n",
       "    .dataframe tbody tr th {\n",
       "        vertical-align: top;\n",
       "    }\n",
       "\n",
       "    .dataframe thead th {\n",
       "        text-align: right;\n",
       "    }\n",
       "</style>\n",
       "<table border=\"1\" class=\"dataframe\">\n",
       "  <thead>\n",
       "    <tr style=\"text-align: right;\">\n",
       "      <th></th>\n",
       "      <th></th>\n",
       "      <th>PatientID</th>\n",
       "    </tr>\n",
       "    <tr>\n",
       "      <th>EDDisposition</th>\n",
       "      <th>Acuity</th>\n",
       "      <th></th>\n",
       "    </tr>\n",
       "  </thead>\n",
       "  <tbody>\n",
       "    <tr>\n",
       "      <th rowspan=\"5\" valign=\"top\">Admitted</th>\n",
       "      <th>1</th>\n",
       "      <td>32</td>\n",
       "    </tr>\n",
       "    <tr>\n",
       "      <th>2</th>\n",
       "      <td>116</td>\n",
       "    </tr>\n",
       "    <tr>\n",
       "      <th>3</th>\n",
       "      <td>81</td>\n",
       "    </tr>\n",
       "    <tr>\n",
       "      <th>4</th>\n",
       "      <td>107</td>\n",
       "    </tr>\n",
       "    <tr>\n",
       "      <th>5</th>\n",
       "      <td>179</td>\n",
       "    </tr>\n",
       "    <tr>\n",
       "      <th rowspan=\"4\" valign=\"top\">Discharged</th>\n",
       "      <th>1</th>\n",
       "      <td>558</td>\n",
       "    </tr>\n",
       "    <tr>\n",
       "      <th>2</th>\n",
       "      <td>66</td>\n",
       "    </tr>\n",
       "    <tr>\n",
       "      <th>4</th>\n",
       "      <td>30</td>\n",
       "    </tr>\n",
       "    <tr>\n",
       "      <th>5</th>\n",
       "      <td>30</td>\n",
       "    </tr>\n",
       "  </tbody>\n",
       "</table>\n",
       "</div>"
      ],
      "text/plain": [
       "                      PatientID\n",
       "EDDisposition Acuity           \n",
       "Admitted      1              32\n",
       "              2             116\n",
       "              3              81\n",
       "              4             107\n",
       "              5             179\n",
       "Discharged    1             558\n",
       "              2              66\n",
       "              4              30\n",
       "              5              30"
      ]
     },
     "execution_count": 63,
     "metadata": {},
     "output_type": "execute_result"
    }
   ],
   "source": [
    "df_temp = df_EDV.groupby([\"EDDisposition\",\"Acuity\"]).count()[\"PatientID\"]\n",
    "pd.DataFrame(data = df_temp)"
   ]
  },
  {
   "cell_type": "markdown",
   "id": "316c960a",
   "metadata": {},
   "source": [
    "###### 47.Using indexing , loc to retrieve the row with maximum BloodPressureSystolic."
   ]
  },
  {
   "cell_type": "code",
   "execution_count": 64,
   "id": "a348d63e",
   "metadata": {},
   "outputs": [
    {
     "data": {
      "text/html": [
       "<div>\n",
       "<style scoped>\n",
       "    .dataframe tbody tr th:only-of-type {\n",
       "        vertical-align: middle;\n",
       "    }\n",
       "\n",
       "    .dataframe tbody tr th {\n",
       "        vertical-align: top;\n",
       "    }\n",
       "\n",
       "    .dataframe thead th {\n",
       "        text-align: right;\n",
       "    }\n",
       "</style>\n",
       "<table border=\"1\" class=\"dataframe\">\n",
       "  <thead>\n",
       "    <tr style=\"text-align: right;\">\n",
       "      <th></th>\n",
       "      <th>VisitID</th>\n",
       "      <th>PatientMRN</th>\n",
       "      <th>ProviderID</th>\n",
       "      <th>DateofVisit</th>\n",
       "      <th>DateScheduled</th>\n",
       "      <th>VisitDepartmentID</th>\n",
       "      <th>VisitType</th>\n",
       "      <th>BloodPressureSystolic</th>\n",
       "      <th>BloodPressureDiastolic</th>\n",
       "      <th>Pulse</th>\n",
       "      <th>VisitStatus</th>\n",
       "    </tr>\n",
       "  </thead>\n",
       "  <tbody>\n",
       "    <tr>\n",
       "      <th>236</th>\n",
       "      <td>933</td>\n",
       "      <td>884</td>\n",
       "      <td>27</td>\n",
       "      <td>2019-02-14</td>\n",
       "      <td>2019-01-22 19:26:49.163</td>\n",
       "      <td>12</td>\n",
       "      <td>Telemedicine</td>\n",
       "      <td>190.0</td>\n",
       "      <td>143.989174</td>\n",
       "      <td>74.976879</td>\n",
       "      <td>Completed</td>\n",
       "    </tr>\n",
       "    <tr>\n",
       "      <th>251</th>\n",
       "      <td>888</td>\n",
       "      <td>906</td>\n",
       "      <td>24</td>\n",
       "      <td>2019-03-31</td>\n",
       "      <td>2019-03-17 23:21:17.361</td>\n",
       "      <td>10</td>\n",
       "      <td>New</td>\n",
       "      <td>190.0</td>\n",
       "      <td>137.207999</td>\n",
       "      <td>52.666922</td>\n",
       "      <td>Completed</td>\n",
       "    </tr>\n",
       "    <tr>\n",
       "      <th>424</th>\n",
       "      <td>314</td>\n",
       "      <td>63</td>\n",
       "      <td>7</td>\n",
       "      <td>2019-04-05</td>\n",
       "      <td>2019-03-24 22:31:26.092</td>\n",
       "      <td>11</td>\n",
       "      <td>Telemedicine</td>\n",
       "      <td>190.0</td>\n",
       "      <td>121.539859</td>\n",
       "      <td>95.471260</td>\n",
       "      <td>Completed</td>\n",
       "    </tr>\n",
       "    <tr>\n",
       "      <th>432</th>\n",
       "      <td>740</td>\n",
       "      <td>892</td>\n",
       "      <td>31</td>\n",
       "      <td>2019-03-14</td>\n",
       "      <td>2019-03-11 15:08:33.963</td>\n",
       "      <td>8</td>\n",
       "      <td>Physical</td>\n",
       "      <td>190.0</td>\n",
       "      <td>145.343479</td>\n",
       "      <td>94.849021</td>\n",
       "      <td>Completed</td>\n",
       "    </tr>\n",
       "    <tr>\n",
       "      <th>677</th>\n",
       "      <td>929</td>\n",
       "      <td>880</td>\n",
       "      <td>23</td>\n",
       "      <td>2019-02-10</td>\n",
       "      <td>2019-01-22 13:32:14.549</td>\n",
       "      <td>8</td>\n",
       "      <td>Follow Up</td>\n",
       "      <td>190.0</td>\n",
       "      <td>144.313400</td>\n",
       "      <td>82.781940</td>\n",
       "      <td>Completed</td>\n",
       "    </tr>\n",
       "    <tr>\n",
       "      <th>869</th>\n",
       "      <td>839</td>\n",
       "      <td>857</td>\n",
       "      <td>12</td>\n",
       "      <td>2019-03-17</td>\n",
       "      <td>2019-02-23 09:05:43.676</td>\n",
       "      <td>8</td>\n",
       "      <td>Follow Up</td>\n",
       "      <td>190.0</td>\n",
       "      <td>130.997386</td>\n",
       "      <td>71.829542</td>\n",
       "      <td>Completed</td>\n",
       "    </tr>\n",
       "    <tr>\n",
       "      <th>934</th>\n",
       "      <td>482</td>\n",
       "      <td>866</td>\n",
       "      <td>14</td>\n",
       "      <td>2019-05-04</td>\n",
       "      <td>2019-04-13 07:54:49.580</td>\n",
       "      <td>5</td>\n",
       "      <td>New</td>\n",
       "      <td>190.0</td>\n",
       "      <td>124.736359</td>\n",
       "      <td>69.731779</td>\n",
       "      <td>Canceled</td>\n",
       "    </tr>\n",
       "  </tbody>\n",
       "</table>\n",
       "</div>"
      ],
      "text/plain": [
       "     VisitID  PatientMRN  ProviderID DateofVisit           DateScheduled  \\\n",
       "236      933         884          27  2019-02-14 2019-01-22 19:26:49.163   \n",
       "251      888         906          24  2019-03-31 2019-03-17 23:21:17.361   \n",
       "424      314          63           7  2019-04-05 2019-03-24 22:31:26.092   \n",
       "432      740         892          31  2019-03-14 2019-03-11 15:08:33.963   \n",
       "677      929         880          23  2019-02-10 2019-01-22 13:32:14.549   \n",
       "869      839         857          12  2019-03-17 2019-02-23 09:05:43.676   \n",
       "934      482         866          14  2019-05-04 2019-04-13 07:54:49.580   \n",
       "\n",
       "     VisitDepartmentID     VisitType  BloodPressureSystolic  \\\n",
       "236                 12  Telemedicine                  190.0   \n",
       "251                 10           New                  190.0   \n",
       "424                 11  Telemedicine                  190.0   \n",
       "432                  8      Physical                  190.0   \n",
       "677                  8     Follow Up                  190.0   \n",
       "869                  8     Follow Up                  190.0   \n",
       "934                  5           New                  190.0   \n",
       "\n",
       "     BloodPressureDiastolic      Pulse VisitStatus  \n",
       "236              143.989174  74.976879   Completed  \n",
       "251              137.207999  52.666922   Completed  \n",
       "424              121.539859  95.471260   Completed  \n",
       "432              145.343479  94.849021   Completed  \n",
       "677              144.313400  82.781940   Completed  \n",
       "869              130.997386  71.829542   Completed  \n",
       "934              124.736359  69.731779    Canceled  "
      ]
     },
     "execution_count": 64,
     "metadata": {},
     "output_type": "execute_result"
    }
   ],
   "source": [
    "#Using indexing , loc to retrieve the row with maximum BloodPressureSystolic.\n",
    "max_bp = df_AV[\"BloodPressureSystolic\"].max()\n",
    "max_bp = df_AV.loc[(df_AV[\"BloodPressureSystolic\"]==190)]\n",
    "max_bp"
   ]
  },
  {
   "cell_type": "markdown",
   "id": "d4818074",
   "metadata": {},
   "source": [
    "###### 70 Plot a graph to show the distribution of expected mortality."
   ]
  },
  {
   "cell_type": "code",
   "execution_count": 65,
   "id": "a6cf8dc8",
   "metadata": {},
   "outputs": [
    {
     "name": "stderr",
     "output_type": "stream",
     "text": [
      "C:\\Users\\svani\\anaconda3\\lib\\site-packages\\seaborn\\distributions.py:2557: FutureWarning: `distplot` is a deprecated function and will be removed in a future version. Please adapt your code to use either `displot` (a figure-level function with similar flexibility) or `histplot` (an axes-level function for histograms).\n",
      "  warnings.warn(msg, FutureWarning)\n"
     ]
    },
    {
     "data": {
      "image/png": "[encoded data removed]",
      "text/plain": [
       "<Figure size 432x288 with 1 Axes>"
      ]
     },
     "metadata": {
      "needs_background": "light"
     },
     "output_type": "display_data"
    }
   ],
   "source": [
    "ax = sns.distplot(df_D['ExpectedMortality'],\n",
    "                  bins=50,\n",
    "                  kde=True,\n",
    "                  color='red',\n",
    "                  hist_kws={\"linewidth\": 15,'alpha':1})\n",
    "ax.set(xlabel='Normal Distribution', ylabel='Frequency')\n",
    " \n",
    "plt.show()"
   ]
  },
  {
   "cell_type": "markdown",
   "id": "29ddcae4",
   "metadata": {},
   "source": [
    "###### 71 Create a visualization on the count of patients based on primary diagnosis."
   ]
  },
  {
   "cell_type": "code",
   "execution_count": 66,
   "id": "3344c743",
   "metadata": {},
   "outputs": [
    {
     "data": {
      "text/plain": [
       "<AxesSubplot:title={'center':'Count of patients based on primary diagnosis'}, xlabel='PrimaryDiagnosis', ylabel='No of patients'>"
      ]
     },
     "execution_count": 66,
     "metadata": {},
     "output_type": "execute_result"
    },
    {
     "data": {
      "image/png": "[encoded data removed]",
      "text/plain": [
       "<Figure size 432x288 with 1 Axes>"
      ]
     },
     "metadata": {
      "needs_background": "light"
     },
     "output_type": "display_data"
    }
   ],
   "source": [
    "df5_pd=df_D.groupby(['PrimaryDiagnosis']).count()['PatientID'].plot(kind='bar',ylabel='No of patients',title=\"Count of patients based on primary diagnosis\")\n",
    "df5_pd"
   ]
  },
  {
   "cell_type": "markdown",
   "id": "6c88125a",
   "metadata": {},
   "source": [
    "###### 78 .Find reasonForVisit with highest count of acuity 5 patients."
   ]
  },
  {
   "cell_type": "code",
   "execution_count": 68,
   "id": "64bf46ce",
   "metadata": {},
   "outputs": [
    {
     "data": {
      "text/plain": [
       "'Shortness of Breath'"
      ]
     },
     "execution_count": 68,
     "metadata": {},
     "output_type": "execute_result"
    }
   ],
   "source": [
    "df_hcp=df_EDV.loc[(df_EDV['Acuity']== 5)]\n",
    "df_hcp\n",
    "max_hcp =df_hcp[\"ReasonForVisit\"].max()\n",
    "max_hcp"
   ]
  },
  {
   "cell_type": "markdown",
   "id": "699aef63",
   "metadata": {},
   "source": [
    "###### 56.Count of canceled status."
   ]
  },
  {
   "cell_type": "code",
   "execution_count": 71,
   "id": "a45db49c",
   "metadata": {},
   "outputs": [
    {
     "data": {
      "text/plain": [
       "60"
      ]
     },
     "execution_count": 71,
     "metadata": {},
     "output_type": "execute_result"
    }
   ],
   "source": [
    "\n",
    "dfAV_canceled=df_AV.loc[(df_AV['VisitStatus']=='Canceled')]\n",
    "dfAV_canceled['VisitStatus'].count()"
   ]
  },
  {
   "cell_type": "markdown",
   "id": "155c3844",
   "metadata": {},
   "source": [
    "###### 24.Get the number of patients based on ReasonForVisit and EDDisposition (use stack/unstack functions)."
   ]
  },
  {
   "cell_type": "code",
   "execution_count": 79,
   "id": "891d5880",
   "metadata": {},
   "outputs": [
    {
     "data": {
      "text/html": [
       "<div>\n",
       "<style scoped>\n",
       "    .dataframe tbody tr th:only-of-type {\n",
       "        vertical-align: middle;\n",
       "    }\n",
       "\n",
       "    .dataframe tbody tr th {\n",
       "        vertical-align: top;\n",
       "    }\n",
       "\n",
       "    .dataframe thead th {\n",
       "        text-align: right;\n",
       "    }\n",
       "</style>\n",
       "<table border=\"1\" class=\"dataframe\">\n",
       "  <thead>\n",
       "    <tr style=\"text-align: right;\">\n",
       "      <th>EDDisposition</th>\n",
       "      <th>Admitted</th>\n",
       "      <th>Discharged</th>\n",
       "      <th>admitted</th>\n",
       "      <th>discharged</th>\n",
       "    </tr>\n",
       "    <tr>\n",
       "      <th>ReasonForVisit</th>\n",
       "      <th></th>\n",
       "      <th></th>\n",
       "      <th></th>\n",
       "      <th></th>\n",
       "    </tr>\n",
       "  </thead>\n",
       "  <tbody>\n",
       "    <tr>\n",
       "      <th>Accident</th>\n",
       "      <td>NaN</td>\n",
       "      <td>NaN</td>\n",
       "      <td>37.0</td>\n",
       "      <td>NaN</td>\n",
       "    </tr>\n",
       "    <tr>\n",
       "      <th>Bleeding</th>\n",
       "      <td>14.0</td>\n",
       "      <td>11.0</td>\n",
       "      <td>NaN</td>\n",
       "      <td>NaN</td>\n",
       "    </tr>\n",
       "    <tr>\n",
       "      <th>Car Accident</th>\n",
       "      <td>15.0</td>\n",
       "      <td>NaN</td>\n",
       "      <td>1.0</td>\n",
       "      <td>NaN</td>\n",
       "    </tr>\n",
       "    <tr>\n",
       "      <th>Chest Pain</th>\n",
       "      <td>66.0</td>\n",
       "      <td>NaN</td>\n",
       "      <td>14.0</td>\n",
       "      <td>11.0</td>\n",
       "    </tr>\n",
       "    <tr>\n",
       "      <th>Fever</th>\n",
       "      <td>NaN</td>\n",
       "      <td>88.0</td>\n",
       "      <td>40.0</td>\n",
       "      <td>44.0</td>\n",
       "    </tr>\n",
       "    <tr>\n",
       "      <th>Gun Shot</th>\n",
       "      <td>NaN</td>\n",
       "      <td>NaN</td>\n",
       "      <td>16.0</td>\n",
       "      <td>NaN</td>\n",
       "    </tr>\n",
       "    <tr>\n",
       "      <th>Intoxication</th>\n",
       "      <td>NaN</td>\n",
       "      <td>NaN</td>\n",
       "      <td>NaN</td>\n",
       "      <td>23.0</td>\n",
       "    </tr>\n",
       "    <tr>\n",
       "      <th>Laceration</th>\n",
       "      <td>NaN</td>\n",
       "      <td>22.0</td>\n",
       "      <td>NaN</td>\n",
       "      <td>NaN</td>\n",
       "    </tr>\n",
       "    <tr>\n",
       "      <th>Migraine</th>\n",
       "      <td>26.0</td>\n",
       "      <td>31.0</td>\n",
       "      <td>15.0</td>\n",
       "      <td>44.0</td>\n",
       "    </tr>\n",
       "    <tr>\n",
       "      <th>Pneumonia</th>\n",
       "      <td>52.0</td>\n",
       "      <td>9.0</td>\n",
       "      <td>70.0</td>\n",
       "      <td>40.0</td>\n",
       "    </tr>\n",
       "    <tr>\n",
       "      <th>Shortness of Breath</th>\n",
       "      <td>NaN</td>\n",
       "      <td>12.0</td>\n",
       "      <td>65.0</td>\n",
       "      <td>43.0</td>\n",
       "    </tr>\n",
       "    <tr>\n",
       "      <th>Stomach Ache</th>\n",
       "      <td>29.0</td>\n",
       "      <td>32.0</td>\n",
       "      <td>NaN</td>\n",
       "      <td>75.0</td>\n",
       "    </tr>\n",
       "  </tbody>\n",
       "</table>\n",
       "</div>"
      ],
      "text/plain": [
       "EDDisposition        Admitted  Discharged  admitted  discharged\n",
       "ReasonForVisit                                                 \n",
       "Accident                  NaN         NaN      37.0         NaN\n",
       "Bleeding                 14.0        11.0       NaN         NaN\n",
       "Car Accident             15.0         NaN       1.0         NaN\n",
       "Chest Pain               66.0         NaN      14.0        11.0\n",
       "Fever                     NaN        88.0      40.0        44.0\n",
       "Gun Shot                  NaN         NaN      16.0         NaN\n",
       "Intoxication              NaN         NaN       NaN        23.0\n",
       "Laceration                NaN        22.0       NaN         NaN\n",
       "Migraine                 26.0        31.0      15.0        44.0\n",
       "Pneumonia                52.0         9.0      70.0        40.0\n",
       "Shortness of Breath       NaN        12.0      65.0        43.0\n",
       "Stomach Ache             29.0        32.0       NaN        75.0"
      ]
     },
     "execution_count": 79,
     "metadata": {},
     "output_type": "execute_result"
    }
   ],
   "source": [
    "df_patients=dfEDU.groupby(['ReasonForVisit','EDDisposition']).count().unstack()\n",
    "df_patients['PatientID']"
   ]
  },
  {
   "cell_type": "code",
   "execution_count": null,
   "id": "9508a2ec",
   "metadata": {},
   "outputs": [],
   "source": []
  }
 ],
 "metadata": {
  "kernelspec": {
   "display_name": "Python 3",
   "language": "python",
   "name": "python3"
  },
  "language_info": {
   "codemirror_mode": {
    "name": "ipython",
    "version": 3
   },
   "file_extension": ".py",
   "mimetype": "text/x-python",
   "name": "python",
   "nbconvert_exporter": "python",
   "pygments_lexer": "ipython3",
   "version": "3.8.8"
  }
 },
 "nbformat": 4,
 "nbformat_minor": 5
}
